{
 "metadata": {
  "name": ""
 },
 "nbformat": 3,
 "nbformat_minor": 0,
 "worksheets": [
  {
   "cells": [
    {
     "cell_type": "code",
     "collapsed": false,
     "input": [
      "import numpy as np\n",
      "import pandas as pd\n",
      "from sklearn import svm, linear_model\n",
      "%pylab inline"
     ],
     "language": "python",
     "metadata": {},
     "outputs": [
      {
       "output_type": "stream",
       "stream": "stdout",
       "text": [
        "Populating the interactive namespace from numpy and matplotlib\n"
       ]
      },
      {
       "output_type": "stream",
       "stream": "stderr",
       "text": [
        "WARNING: pylab import has clobbered these variables: ['cross']\n",
        "`%pylab --no-import-all` prevents importing * from pylab and numpy\n"
       ]
      }
     ],
     "prompt_number": 7
    },
    {
     "cell_type": "code",
     "collapsed": false,
     "input": [
      "data = pd.io.parsers.read_csv(\"Data/Binarnifiltrovane_user_time.csv\", index_col=0)\n",
      "corr = data.corr(method=\"spearman\")\n",
      "corr.unstack().hist()"
     ],
     "language": "python",
     "metadata": {},
     "outputs": [
      {
       "metadata": {},
       "output_type": "pyout",
       "prompt_number": 8,
       "text": [
        "<matplotlib.axes.AxesSubplot at 0x3dfea90>"
       ]
      },
      {
       "metadata": {},
       "output_type": "display_data",
       "png": "[encoded data removed]",
       "text": [
        "<matplotlib.figure.Figure at 0x3d61cd0>"
       ]
      }
     ],
     "prompt_number": 8
    },
    {
     "cell_type": "code",
     "collapsed": false,
     "input": [
      "label_names = [\"Logicka\", \"Binarni\", \"Krizovka\"]\n",
      "logic = np.array([1066,1067,1068,1069,1075,1076,1077,1087,1088,1091,1093,1109,1110,1132,1246,1247,1248])\n",
      "binar = np.array([1061,1063,1064,1065,1072,1074,1081,1082,1089,1111,1112,1113,1114,1115,1116,1117,1249,1250,1251,1252,1253])\n",
      "cross = np.array([1062,1070,1071,1073,1078,1079,1080,1090,1092,1094,1118,1127,1128,1129,1130,1131,1254])\n",
      "labels = np.zeros(len(corr.index))\n",
      "for i in range(labels.size):\n",
      "    if int(corr.index[i]) in logic: labels[i] = label_names.index(\"Logicka\")\n",
      "    if int(corr.index[i]) in binar: labels[i] = label_names.index(\"Binarni\")\n",
      "    if int(corr.index[i]) in cross: labels[i] = label_names.index(\"Krizovka\")"
     ],
     "language": "python",
     "metadata": {},
     "outputs": [],
     "prompt_number": 9
    },
    {
     "cell_type": "code",
     "collapsed": false,
     "input": [
      "#clf = svm.SVC(kernel=\"linear\")\n",
      "clf = linear_model.LogisticRegression(C=0.1)\n",
      "clf.fit(corr, labels)\n",
      "predict = np.array(clf.predict(corr))\n",
      "distances = clf.decision_function(corr)\n",
      "print \"Uspesnost: {0:.2%}\".format(np.sum(predict == labels)/float(labels.size))"
     ],
     "language": "python",
     "metadata": {},
     "outputs": [
      {
       "output_type": "stream",
       "stream": "stdout",
       "text": [
        "Uspesnost: 76.79%\n"
       ]
      }
     ],
     "prompt_number": 29
    },
    {
     "cell_type": "code",
     "collapsed": false,
     "input": [
      "def items_info(items):\n",
      "    for item in items:\n",
      "        i = corr.index.get_loc(item)\n",
      "        print \"\u00daloha: {0}, distances: {3}, label: {1}, p\u0159edpov\u011b\u010f: {2}\".format(item, label_names[int(labels[i])], label_names[int(predict[i])], distances[i]) \n",
      "\n",
      "errors = corr.index[(predict == labels) == False]\n",
      "items_info(errors)"
     ],
     "language": "python",
     "metadata": {},
     "outputs": [
      {
       "output_type": "stream",
       "stream": "stdout",
       "text": [
        "\u00daloha: 1060, distances: [-0.35754031 -0.40496817 -0.34090615], label: Logicka, p\u0159edpov\u011b\u010f: Krizovka\n",
        "\u00daloha: 1062, distances: [-0.58947469 -0.34357346 -1.04966841], label: Krizovka, p\u0159edpov\u011b\u010f: Binarni\n",
        "\u00daloha: 1066, distances: [-0.36688913 -0.11845601 -1.43278858], label: Logicka, p\u0159edpov\u011b\u010f: Binarni\n",
        "\u00daloha: 1067, distances: [-0.40186731 -0.30716522 -0.94882468], label: Logicka, p\u0159edpov\u011b\u010f: Binarni\n",
        "\u00daloha: 1068, distances: [-0.4180688  -0.30203462 -1.31209464], label: Logicka, p\u0159edpov\u011b\u010f: Binarni\n",
        "\u00daloha: 1069, distances: [-0.43221116 -0.42370009 -1.11068929], label: Logicka, p\u0159edpov\u011b\u010f: Binarni\n",
        "\u00daloha: 1073, distances: [ -5.69293344e-01   3.81262850e-04  -1.53349947e+00], label: Krizovka, p\u0159edpov\u011b\u010f: Binarni\n",
        "\u00daloha: 1076, distances: [-0.51400956 -0.51184062 -1.33273696], label: Logicka, p\u0159edpov\u011b\u010f: Binarni\n",
        "\u00daloha: 1091, distances: [-0.56929737 -0.53260288 -1.24783154], label: Logicka, p\u0159edpov\u011b\u010f: Binarni\n",
        "\u00daloha: 1092, distances: [-0.56162898 -0.49379824 -0.90478698], label: Krizovka, p\u0159edpov\u011b\u010f: Binarni\n",
        "\u00daloha: 1094, distances: [-0.44489905 -0.43943291 -0.50336912], label: Krizovka, p\u0159edpov\u011b\u010f: Binarni\n",
        "\u00daloha: 1246, distances: [-0.61663045 -0.56151547 -1.15153493], label: Logicka, p\u0159edpov\u011b\u010f: Binarni\n",
        "\u00daloha: 1247, distances: [-0.48820107 -0.4112843  -1.18918998], label: Logicka, p\u0159edpov\u011b\u010f: Binarni\n"
       ]
      }
     ],
     "prompt_number": 30
    },
    {
     "cell_type": "code",
     "collapsed": false,
     "input": [
      "treshold = 0.1\n",
      "on_edge = []\n",
      "for i, distance in enumerate(distances):\n",
      "    if distance[labels[i]] < treshold:\n",
      "        on_edge.append(corr.index[i])\n",
      "\n",
      "items_info(on_edge)"
     ],
     "language": "python",
     "metadata": {},
     "outputs": [
      {
       "output_type": "stream",
       "stream": "stdout",
       "text": [
        "\u00daloha: 1060, distances: [-0.35754031 -0.40496817 -0.34090615], label: Logicka, p\u0159edpov\u011b\u010f: Krizovka\n",
        "\u00daloha: 1062, distances: [-0.58947469 -0.34357346 -1.04966841], label: Krizovka, p\u0159edpov\u011b\u010f: Binarni\n",
        "\u00daloha: 1063, distances: [-0.5756722  -0.11512179 -1.44475479], label: Binarni, p\u0159edpov\u011b\u010f: Binarni\n",
        "\u00daloha: 1064, distances: [-0.60998046 -0.05768933 -1.37487984], label: Binarni, p\u0159edpov\u011b\u010f: Binarni\n",
        "\u00daloha: 1065, distances: [-0.61008491 -0.10936455 -1.31914922], label: Binarni, p\u0159edpov\u011b\u010f: Binarni\n",
        "\u00daloha: 1066, distances: [-0.36688913 -0.11845601 -1.43278858], label: Logicka, p\u0159edpov\u011b\u010f: Binarni\n",
        "\u00daloha: 1067, distances: [-0.40186731 -0.30716522 -0.94882468], label: Logicka, p\u0159edpov\u011b\u010f: Binarni\n",
        "\u00daloha: 1068, distances: [-0.4180688  -0.30203462 -1.31209464], label: Logicka, p\u0159edpov\u011b\u010f: Binarni\n",
        "\u00daloha: 1069, distances: [-0.43221116 -0.42370009 -1.11068929], label: Logicka, p\u0159edpov\u011b\u010f: Binarni\n",
        "\u00daloha: 1071, distances: [-0.53906218 -1.14676907 -0.16554509], label: Krizovka, p\u0159edpov\u011b\u010f: Krizovka\n",
        "\u00daloha: 1073, distances: [ -5.69293344e-01   3.81262850e-04  -1.53349947e+00], label: Krizovka, p\u0159edpov\u011b\u010f: Binarni\n",
        "\u00daloha: 1075, distances: [-0.49163169 -0.53842603 -1.23369208], label: Logicka, p\u0159edpov\u011b\u010f: Logicka\n",
        "\u00daloha: 1076, distances: [-0.51400956 -0.51184062 -1.33273696], label: Logicka, p\u0159edpov\u011b\u010f: Binarni\n",
        "\u00daloha: 1077, distances: [-0.59683356 -0.63608313 -0.84525806], label: Logicka, p\u0159edpov\u011b\u010f: Logicka\n",
        "\u00daloha: 1079, distances: [-0.64601818 -1.46349201  0.01550521], label: Krizovka, p\u0159edpov\u011b\u010f: Krizovka\n",
        "\u00daloha: 1087, distances: [-0.62372858 -0.66266252 -1.21449472], label: Logicka, p\u0159edpov\u011b\u010f: Logicka\n",
        "\u00daloha: 1088, distances: [-0.54249813 -0.63928247 -1.26525538], label: Logicka, p\u0159edpov\u011b\u010f: Logicka\n",
        "\u00daloha: 1089, distances: [-0.38504433  0.07337291 -1.32651355], label: Binarni, p\u0159edpov\u011b\u010f: Binarni\n",
        "\u00daloha: 1091, distances: [-0.56929737 -0.53260288 -1.24783154], label: Logicka, p\u0159edpov\u011b\u010f: Binarni\n",
        "\u00daloha: 1092, distances: [-0.56162898 -0.49379824 -0.90478698], label: Krizovka, p\u0159edpov\u011b\u010f: Binarni\n",
        "\u00daloha: 1093, distances: [-0.56713593 -0.74585081 -0.96290917], label: Logicka, p\u0159edpov\u011b\u010f: Logicka\n",
        "\u00daloha: 1094, distances: [-0.44489905 -0.43943291 -0.50336912], label: Krizovka, p\u0159edpov\u011b\u010f: Binarni\n",
        "\u00daloha: 1109, distances: [-0.47678778 -0.66222225 -0.85310215], label: Logicka, p\u0159edpov\u011b\u010f: Logicka\n",
        "\u00daloha: 1110, distances: [-0.46525815 -0.71325627 -0.83721139], label: Logicka, p\u0159edpov\u011b\u010f: Logicka\n",
        "\u00daloha: 1111, distances: [-0.53224821 -0.12505305 -1.00196324], label: Binarni, p\u0159edpov\u011b\u010f: Binarni\n",
        "\u00daloha: 1112, distances: [-0.57317563 -0.21428707 -1.0533578 ], label: Binarni, p\u0159edpov\u011b\u010f: Binarni\n",
        "\u00daloha: 1113, distances: [-0.46538673  0.02006552 -1.30886249], label: Binarni, p\u0159edpov\u011b\u010f: Binarni\n",
        "\u00daloha: 1115, distances: [-0.52222575  0.03768236 -1.37430831], label: Binarni, p\u0159edpov\u011b\u010f: Binarni\n",
        "\u00daloha: 1116, distances: [-0.52247828  0.00940683 -1.21536085], label: Binarni, p\u0159edpov\u011b\u010f: Binarni\n",
        "\u00daloha: 1117, distances: [-0.71640031 -0.3748985  -1.09888125], label: Binarni, p\u0159edpov\u011b\u010f: Binarni\n",
        "\u00daloha: 1127, distances: [-0.73861894 -1.40502304 -0.13512259], label: Krizovka, p\u0159edpov\u011b\u010f: Krizovka\n",
        "\u00daloha: 1132, distances: [-0.4956116  -0.55820581 -0.98191127], label: Logicka, p\u0159edpov\u011b\u010f: Logicka\n",
        "\u00daloha: 1246, distances: [-0.61663045 -0.56151547 -1.15153493], label: Logicka, p\u0159edpov\u011b\u010f: Binarni\n",
        "\u00daloha: 1247, distances: [-0.48820107 -0.4112843  -1.18918998], label: Logicka, p\u0159edpov\u011b\u010f: Binarni\n",
        "\u00daloha: 1248, distances: [-0.5439562  -0.54497491 -1.02282378], label: Logicka, p\u0159edpov\u011b\u010f: Logicka\n",
        "\u00daloha: 1249, distances: [-0.43859533  0.05130213 -1.23931999], label: Binarni, p\u0159edpov\u011b\u010f: Binarni\n",
        "\u00daloha: 1250, distances: [-0.61938526  0.07447848 -1.56765869], label: Binarni, p\u0159edpov\u011b\u010f: Binarni\n",
        "\u00daloha: 1251, distances: [-0.605002    0.08159067 -1.49570121], label: Binarni, p\u0159edpov\u011b\u010f: Binarni\n",
        "\u00daloha: 1252, distances: [-0.57445713 -0.11489161 -1.34260041], label: Binarni, p\u0159edpov\u011b\u010f: Binarni\n",
        "\u00daloha: 1254, distances: [-0.56240627 -0.97699274 -0.28266936], label: Krizovka, p\u0159edpov\u011b\u010f: Krizovka\n"
       ]
      }
     ],
     "prompt_number": 12
    },
    {
     "cell_type": "code",
     "collapsed": false,
     "input": [
      "problemovi = [u\"1092\", u\"1094\", u\"1062\"]\n",
      "items_info(problemovi)"
     ],
     "language": "python",
     "metadata": {},
     "outputs": [
      {
       "output_type": "stream",
       "stream": "stdout",
       "text": [
        "\u00daloha: 1092, distances: [ 0.39865614 -0.12929913 -0.83907036], label: Krizovka, p\u0159edpov\u011b\u010f: Krizovka\n",
        "\u00daloha: 1094, distances: [ 0.48056109 -0.7954349  -0.99999319], label: Krizovka, p\u0159edpov\u011b\u010f: Krizovka\n",
        "\u00daloha: 1062, distances: [ 0.02619064  0.11173454 -0.55221394], label: Krizovka, p\u0159edpov\u011b\u010f: Logicka\n"
       ]
      }
     ],
     "prompt_number": 8
    },
    {
     "cell_type": "code",
     "collapsed": false,
     "input": [
      "items_info(corr.index)"
     ],
     "language": "python",
     "metadata": {},
     "outputs": [
      {
       "output_type": "stream",
       "stream": "stdout",
       "text": [
        "\u00daloha: 1060, distances: [ 1.00012547  0.4936169  -0.42587332], label: Logicka, p\u0159edpov\u011b\u010f: Logicka\n",
        "\u00daloha: 1061, distances: [-1.00034361  2.08131546  1.32172278], label: Binarni, p\u0159edpov\u011b\u010f: Binarni\n",
        "\u00daloha: 1062, distances: [ 0.02619064  0.11173454 -0.55221394], label: Krizovka, p\u0159edpov\u011b\u010f: Logicka\n",
        "\u00daloha: 1063, distances: [-0.98484603  1.33537806  0.99972096], label: Binarni, p\u0159edpov\u011b\u010f: Binarni\n",
        "\u00daloha: 1064, distances: [-0.99967105  0.89024533  1.24913622], label: Binarni, p\u0159edpov\u011b\u010f: Binarni\n",
        "\u00daloha: 1065, distances: [-1.0000177   1.11963448  1.00026764], label: Binarni, p\u0159edpov\u011b\u010f: Binarni\n",
        "\u00daloha: 1066, distances: [ 0.34518957  1.95211426  1.22235915], label: Logicka, p\u0159edpov\u011b\u010f: Logicka\n",
        "\u00daloha: 1067, distances: [ 0.99992724  1.00015983  0.28320021], label: Logicka, p\u0159edpov\u011b\u010f: Logicka\n",
        "\u00daloha: 1068, distances: [ 1.00019534  1.3912234   0.74932856], label: Logicka, p\u0159edpov\u011b\u010f: Logicka\n",
        "\u00daloha: 1069, distances: [ 0.99977046  0.99968925  0.5682882 ], label: Logicka, p\u0159edpov\u011b\u010f: Logicka\n",
        "\u00daloha: 1070, distances: [ 2.99934475 -1.24553225 -1.8896999 ], label: Krizovka, p\u0159edpov\u011b\u010f: Krizovka\n",
        "\u00daloha: 1071, distances: [ 2.97699713 -0.99971869 -1.33492881], label: Krizovka, p\u0159edpov\u011b\u010f: Krizovka\n",
        "\u00daloha: 1072, distances: [-1.88137927  2.2435886   1.64016444], label: Binarni, p\u0159edpov\u011b\u010f: Binarni\n",
        "\u00daloha: 1073, distances: [-1.12830796  1.41443073  0.78361707], label: Krizovka, p\u0159edpov\u011b\u010f: Binarni\n",
        "\u00daloha: 1074, distances: [-1.42069286  1.89367517  1.55582891], label: Binarni, p\u0159edpov\u011b\u010f: Binarni\n",
        "\u00daloha: 1075, distances: [ 1.33343487  1.36328762  0.43801961], label: Logicka, p\u0159edpov\u011b\u010f: Logicka\n",
        "\u00daloha: 1076, distances: [ 1.01876868  1.56715298  0.71028993], label: Logicka, p\u0159edpov\u011b\u010f: Logicka\n",
        "\u00daloha: 1077, distances: [ 0.99972454  0.48910469 -0.21719013], label: Logicka, p\u0159edpov\u011b\u010f: Logicka\n",
        "\u00daloha: 1078, distances: [ 3.1796077  -1.96215013 -1.71118338], label: Krizovka, p\u0159edpov\u011b\u010f: Krizovka\n",
        "\u00daloha: 1079, distances: [ 3.22873173 -0.99944821 -1.33958843], label: Krizovka, p\u0159edpov\u011b\u010f: Krizovka\n",
        "\u00daloha: 1080, distances: [ 1.88605481 -1.54130432 -1.52336376], label: Krizovka, p\u0159edpov\u011b\u010f: Krizovka\n",
        "\u00daloha: 1081, distances: [-1.33811855  2.55595829  1.7966632 ], label: Binarni, p\u0159edpov\u011b\u010f: Binarni\n",
        "\u00daloha: 1082, distances: [-1.21448884  1.93154114  1.11290827], label: Binarni, p\u0159edpov\u011b\u010f: Binarni\n",
        "\u00daloha: 1087, distances: [ 1.14381596  1.00007635  0.1141039 ], label: Logicka, p\u0159edpov\u011b\u010f: Logicka\n",
        "\u00daloha: 1088, distances: [ 1.28085783  1.3966073  -0.01289862], label: Logicka, p\u0159edpov\u011b\u010f: Logicka\n",
        "\u00daloha: 1089, distances: [-0.99982374  1.7785602   1.00010761], label: Binarni, p\u0159edpov\u011b\u010f: Binarni\n",
        "\u00daloha: 1090, distances: [ 3.42135915 -1.2252766  -1.74071915], label: Krizovka, p\u0159edpov\u011b\u010f: Krizovka\n",
        "\u00daloha: 1091, distances: [ 0.83577051  0.99981206  0.37089225], label: Logicka, p\u0159edpov\u011b\u010f: Logicka\n",
        "\u00daloha: 1092, distances: [ 0.39865614 -0.12929913 -0.83907036], label: Krizovka, p\u0159edpov\u011b\u010f: Krizovka\n",
        "\u00daloha: 1093, distances: [ 1.26932687  0.99628073 -0.25189649], label: Logicka, p\u0159edpov\u011b\u010f: Logicka\n",
        "\u00daloha: 1094, distances: [ 0.48056109 -0.7954349  -0.99999319], label: Krizovka, p\u0159edpov\u011b\u010f: Krizovka\n",
        "\u00daloha: 1109, distances: [ 1.59213897  0.89456687 -0.27773446], label: Logicka, p\u0159edpov\u011b\u010f: Logicka\n",
        "\u00daloha: 1110, distances: [ 1.40445537  0.87771197 -0.72161598], label: Logicka, p\u0159edpov\u011b\u010f: Logicka\n",
        "\u00daloha: 1111, distances: [-1.0000211   0.94509738  1.00023175], label: Binarni, p\u0159edpov\u011b\u010f: Binarni\n",
        "\u00daloha: 1112, distances: [-1.00015314  0.7143631   0.99971468], label: Binarni, p\u0159edpov\u011b\u010f: Binarni\n",
        "\u00daloha: 1113, distances: [-0.99996125  1.44821661  1.00017631], label: Binarni, p\u0159edpov\u011b\u010f: Binarni\n",
        "\u00daloha: 1114, distances: [-1.16985897  2.28559585  1.25204863], label: Binarni, p\u0159edpov\u011b\u010f: Binarni\n",
        "\u00daloha: 1115, distances: [-1.00024327  1.12142027  0.99989136], label: Binarni, p\u0159edpov\u011b\u010f: Binarni\n",
        "\u00daloha: 1116, distances: [-0.99972685  0.8272657   0.99978592], label: Binarni, p\u0159edpov\u011b\u010f: Binarni\n",
        "\u00daloha: 1117, distances: [-0.77661625  0.46672737  0.79375831], label: Binarni, p\u0159edpov\u011b\u010f: Binarni\n",
        "\u00daloha: 1118, distances: [ 2.62935306 -2.24779313 -1.807114  ], label: Krizovka, p\u0159edpov\u011b\u010f: Krizovka\n",
        "\u00daloha: 1127, distances: [ 2.60985179 -1.00025691 -1.00010776], label: Krizovka, p\u0159edpov\u011b\u010f: Krizovka\n",
        "\u00daloha: 1128, distances: [ 2.62125082 -1.66803103 -1.00436438], label: Krizovka, p\u0159edpov\u011b\u010f: Krizovka\n",
        "\u00daloha: 1129, distances: [ 2.87569454 -2.69775646 -2.1117171 ], label: Krizovka, p\u0159edpov\u011b\u010f: Krizovka\n",
        "\u00daloha: 1130, distances: [ 2.57810467 -1.94325113 -1.31050684], label: Krizovka, p\u0159edpov\u011b\u010f: Krizovka\n",
        "\u00daloha: 1131, distances: [ 3.57050989 -2.34834147 -2.04174111], label: Krizovka, p\u0159edpov\u011b\u010f: Krizovka\n",
        "\u00daloha: 1132, distances: [ 1.11093765  0.99981135 -0.1028592 ], label: Logicka, p\u0159edpov\u011b\u010f: Logicka\n",
        "\u00daloha: 1246, distances: [ 0.89060148  1.06466667  0.6035263 ], label: Logicka, p\u0159edpov\u011b\u010f: Logicka\n",
        "\u00daloha: 1247, distances: [ 0.75018877  1.14057719  0.38333349], label: Logicka, p\u0159edpov\u011b\u010f: Logicka\n",
        "\u00daloha: 1248, distances: [ 1.0000929   0.99987499 -0.0258111 ], label: Logicka, p\u0159edpov\u011b\u010f: Logicka\n",
        "\u00daloha: 1249, distances: [-0.99987526  1.59019308  1.00015907], label: Binarni, p\u0159edpov\u011b\u010f: Binarni\n",
        "\u00daloha: 1250, distances: [-1.33466474  1.51999601  1.37099623], label: Binarni, p\u0159edpov\u011b\u010f: Binarni\n",
        "\u00daloha: 1251, distances: [-1.53004317  1.54261107  1.49114235], label: Binarni, p\u0159edpov\u011b\u010f: Binarni\n",
        "\u00daloha: 1252, distances: [-0.63907541  0.90352814  1.00004571], label: Binarni, p\u0159edpov\u011b\u010f: Binarni\n",
        "\u00daloha: 1253, distances: [-1.12147839  1.0940698   1.04837382], label: Binarni, p\u0159edpov\u011b\u010f: Binarni\n",
        "\u00daloha: 1254, distances: [ 2.21261431 -0.8704468  -1.34969484], label: Krizovka, p\u0159edpov\u011b\u010f: Krizovka\n"
       ]
      }
     ],
     "prompt_number": 9
    },
    {
     "cell_type": "code",
     "collapsed": false,
     "input": [],
     "language": "python",
     "metadata": {},
     "outputs": []
    }
   ],
   "metadata": {}
  }
 ]
}