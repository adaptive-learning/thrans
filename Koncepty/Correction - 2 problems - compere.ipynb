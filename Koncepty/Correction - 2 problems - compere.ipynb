{
 "metadata": {
  "name": ""
 },
 "nbformat": 3,
 "nbformat_minor": 0,
 "worksheets": [
  {
   "cells": [
    {
     "cell_type": "code",
     "collapsed": false,
     "input": [
      "import sys\n",
      "sys.path.append(\"..\")\n",
      "import numpy as np\n",
      "import pandas as pd\n",
      "from sklearn import svm, metrics, linear_model\n",
      "from Algoritmy import spectralclustering\n",
      "from sklearn.cluster import KMeans\n",
      "%pylab inline --no-import-all"
     ],
     "language": "python",
     "metadata": {},
     "outputs": [
      {
       "output_type": "stream",
       "stream": "stdout",
       "text": [
        "Populating the interactive namespace from numpy and matplotlib\n"
       ]
      }
     ],
     "prompt_number": 1
    },
    {
     "cell_type": "code",
     "collapsed": false,
     "input": [
      "label_names = [\"Kulicka\", \"Robotanik\"]\n",
      "data1 = pd.io.parsers.read_csv(\"Data/{0}_user_time.csv\".format(label_names[0]), index_col=0)\n",
      "data2 = pd.io.parsers.read_csv(\"Data/{0}_user_time.csv\".format(label_names[1]), index_col=0)\n",
      "data = data1.join(data2, how=\"inner\")\n",
      "\n",
      "corr = data.corr(method=\"spearman\")\n",
      "corr.unstack().hist()\n",
      "knn = KNN.KNN()\n",
      "distances = knn.compute_distances(corr)"
     ],
     "language": "python",
     "metadata": {},
     "outputs": [
      {
       "ename": "NameError",
       "evalue": "name 'KNN' is not defined",
       "output_type": "pyerr",
       "traceback": [
        "\u001b[1;31m---------------------------------------------------------------------------\u001b[0m\n\u001b[1;31mNameError\u001b[0m                                 Traceback (most recent call last)",
        "\u001b[1;32m<ipython-input-2-a11282d809e7>\u001b[0m in \u001b[0;36m<module>\u001b[1;34m()\u001b[0m\n\u001b[0;32m      6\u001b[0m \u001b[0mcorr\u001b[0m \u001b[1;33m=\u001b[0m \u001b[0mdata\u001b[0m\u001b[1;33m.\u001b[0m\u001b[0mcorr\u001b[0m\u001b[1;33m(\u001b[0m\u001b[0mmethod\u001b[0m\u001b[1;33m=\u001b[0m\u001b[1;34m\"spearman\"\u001b[0m\u001b[1;33m)\u001b[0m\u001b[1;33m\u001b[0m\u001b[0m\n\u001b[0;32m      7\u001b[0m \u001b[0mcorr\u001b[0m\u001b[1;33m.\u001b[0m\u001b[0munstack\u001b[0m\u001b[1;33m(\u001b[0m\u001b[1;33m)\u001b[0m\u001b[1;33m.\u001b[0m\u001b[0mhist\u001b[0m\u001b[1;33m(\u001b[0m\u001b[1;33m)\u001b[0m\u001b[1;33m\u001b[0m\u001b[0m\n\u001b[1;32m----> 8\u001b[1;33m \u001b[0mknn\u001b[0m \u001b[1;33m=\u001b[0m \u001b[0mKNN\u001b[0m\u001b[1;33m.\u001b[0m\u001b[0mKNN\u001b[0m\u001b[1;33m(\u001b[0m\u001b[1;33m)\u001b[0m\u001b[1;33m\u001b[0m\u001b[0m\n\u001b[0m\u001b[0;32m      9\u001b[0m \u001b[0mdistances\u001b[0m \u001b[1;33m=\u001b[0m \u001b[0mknn\u001b[0m\u001b[1;33m.\u001b[0m\u001b[0mcompute_distances\u001b[0m\u001b[1;33m(\u001b[0m\u001b[0mcorr\u001b[0m\u001b[1;33m)\u001b[0m\u001b[1;33m\u001b[0m\u001b[0m\n",
        "\u001b[1;31mNameError\u001b[0m: name 'KNN' is not defined"
       ]
      },
      {
       "metadata": {},
       "output_type": "display_data",
       "png": "[encoded data removed]",
       "text": [
        "<matplotlib.figure.Figure at 0x521d210>"
       ]
      }
     ],
     "prompt_number": 2
    },
    {
     "cell_type": "code",
     "collapsed": false,
     "input": [
      "def all_perms(elements):\n",
      "    if len(elements) <=1:\n",
      "        yield elements\n",
      "    else:\n",
      "        for perm in all_perms(elements[1:]):\n",
      "            for i in range(len(elements)):\n",
      "                yield perm[:i] + elements[0:1] + perm[i:]\n",
      "\n",
      "def swapSol(sol1, sol2, clusterNumber):\n",
      "    best_pr = 0.0\n",
      "    for p in all_perms(range(clusterNumber)):\n",
      "        hits = 0.0\n",
      "        for i in range(clusterNumber):\n",
      "            hits += sum((sol1==i) & (sol2==p[i]))\n",
      "        pr = hits/sol1.size\n",
      "        if pr > best_pr:\n",
      "            best_pr = pr\n",
      "            best = p\n",
      "    \n",
      "    sol3 = np.copy(sol2)\n",
      "    for i in range(clusterNumber):\n",
      "        sol3[sol2 == best[i]] = i\n",
      "    return sol3\n",
      "\n",
      "def clusterSpearmanSC(cor, sol, clusterNumber = 2, SCtype = 1, KMiter=20, kcut=0, plot = False, mutual=False):\n",
      "    print \"Clustering ...\"\n",
      "    SC = spectralclustering.Spectral_Clusterer(np.copy(cor))\n",
      "    if kcut>0:\n",
      "        if mutual:\n",
      "            SC.kNearestMutual(kcut)\n",
      "        else:\n",
      "            SC.kNearest(kcut)\n",
      "    \n",
      "    solSC = SC.run(clusterNumber, SCtype, KMiter)\n",
      "    solSC = swapSol(sol,solSC,clusterNumber)\n",
      "    \n",
      "    return np.sum(sol==solSC)*1.0/len(sol), solSC, SCtype"
     ],
     "language": "python",
     "metadata": {},
     "outputs": []
    },
    {
     "cell_type": "code",
     "collapsed": false,
     "input": [
      "def run_test(error_rate = 0.1, reg=1, k = 10, SCpredict=[], KMpredict=[]):\n",
      "    solution = np.array([0] * data1.columns.size + [1] * data2.columns.size)\n",
      "    labels = np.array([0] * data1.columns.size + [1] * data2.columns.size)\n",
      "    errors = np.random.rand(labels.size) < error_rate\n",
      "    labels[errors] = 1 - labels[errors]\n",
      "    \n",
      "    clfLR = linear_model.LogisticRegression(C=reg)\n",
      "    clfLR.fit(corr, labels)   \n",
      "    predict = np.array(clfLR.predict(corr))\n",
      "    \n",
      "    e = np.sum(solution!=labels) #errors\n",
      "    ef = np.sum(predict!=labels) #sugested errors\n",
      "    TP = np.sum((solution!=labels) & (labels!=predict))\n",
      "    recall = 1.*TP/e if e else 1\n",
      "    precision = 1.*TP/ef if e else 1\n",
      "    \n",
      "    SCef = np.sum(SCpredict!=labels) #sugested errors\n",
      "    SCTP = np.sum((solution!=labels) & (labels!=SCpredict))\n",
      "    SCrecall = 1.*SCTP/e if e else 1\n",
      "    SCprecision = 1.*SCTP/SCef if e else 1\n",
      "    \n",
      "    #return  metrics.accuracy_score(solution, labels), metrics.accuracy_score(predict, solution), recall, precision, metrics.accuracy_score(SCpredict, solution), SCrecall, SCprecision\n",
      "    return  metrics.accuracy_score(solution, labels), metrics.accuracy_score(predict, solution), metrics.accuracy_score(SCpredict, solution), metrics.accuracy_score(KMpredict, solution)"
     ],
     "language": "python",
     "metadata": {},
     "outputs": []
    },
    {
     "cell_type": "code",
     "collapsed": false,
     "input": [
      "reg = 0.1\n",
      "k = 50\n",
      "\n",
      "solution = np.array([0] * data1.columns.size + [1] * data2.columns.size)\n",
      "pr,SClabels,SC = clusterSpearmanSC(corr, solution, clusterNumber = 2, KMiter = 50, kcut = corr.shape[0]/2, SCtype = 2, plot = True, mutual = False)\n",
      "km = KMeans(n_clusters=2, n_init=100)\n",
      "km.fit(corr)\n",
      "predict = km.predict(corr)\n",
      "KMpredict = swapSol(solution,predict,2)\n",
      "    \n",
      "    \n",
      "returnd_values = 4\n",
      "iterations = 20\n",
      "points = np.arange(0, 1, 0.01)\n",
      "values = np.empty((returnd_values, len(points)))\n",
      "for i, error_rate in enumerate(points):\n",
      "    results = np.empty((returnd_values, iterations))\n",
      "    for j in range(iterations):\n",
      "        results[:, j] = run_test(error_rate=error_rate, reg=reg, k=k, SCpredict=SClabels, KMpredict=KMpredict)\n",
      "    values[:, i] = np.mean(results, axis=1)"
     ],
     "language": "python",
     "metadata": {},
     "outputs": []
    },
    {
     "cell_type": "code",
     "collapsed": false,
     "input": [
      "plt.plot(points, values[0], \"b-\", label=\"Expert\")\n",
      "plt.plot(points, values[1], \"r-\", label=\"Expert po korekci\")\n",
      "plt.plot(points, values[2], \"g\", label=\"SpectralClustering\")\n",
      "plt.plot(points, values[3], \"y\", label=\"KMeans\")\n",
      "#plt.plot(points, values[7], \"y\", label=\"error\")\n",
      "plt.legend(loc=3)\n",
      "plt.savefig(\"2-problems/full comp - {0} {1} {2}.png\".format(\"-\".join(label_names), reg, k))"
     ],
     "language": "python",
     "metadata": {},
     "outputs": [
      {
       "ename": "NameError",
       "evalue": "name 'points' is not defined",
       "output_type": "pyerr",
       "traceback": [
        "\u001b[1;31m---------------------------------------------------------------------------\u001b[0m\n\u001b[1;31mNameError\u001b[0m                                 Traceback (most recent call last)",
        "\u001b[1;32m<ipython-input-3-c0ed8aa2cdd3>\u001b[0m in \u001b[0;36m<module>\u001b[1;34m()\u001b[0m\n\u001b[1;32m----> 1\u001b[1;33m \u001b[0mplt\u001b[0m\u001b[1;33m.\u001b[0m\u001b[0mplot\u001b[0m\u001b[1;33m(\u001b[0m\u001b[0mpoints\u001b[0m\u001b[1;33m,\u001b[0m \u001b[0mvalues\u001b[0m\u001b[1;33m[\u001b[0m\u001b[1;36m0\u001b[0m\u001b[1;33m]\u001b[0m\u001b[1;33m,\u001b[0m \u001b[1;34m\"b-\"\u001b[0m\u001b[1;33m,\u001b[0m \u001b[0mlabel\u001b[0m\u001b[1;33m=\u001b[0m\u001b[1;34m\"Expert\"\u001b[0m\u001b[1;33m)\u001b[0m\u001b[1;33m\u001b[0m\u001b[0m\n\u001b[0m\u001b[0;32m      2\u001b[0m \u001b[0mplt\u001b[0m\u001b[1;33m.\u001b[0m\u001b[0mplot\u001b[0m\u001b[1;33m(\u001b[0m\u001b[0mpoints\u001b[0m\u001b[1;33m,\u001b[0m \u001b[0mvalues\u001b[0m\u001b[1;33m[\u001b[0m\u001b[1;36m1\u001b[0m\u001b[1;33m]\u001b[0m\u001b[1;33m,\u001b[0m \u001b[1;34m\"r-\"\u001b[0m\u001b[1;33m,\u001b[0m \u001b[0mlabel\u001b[0m\u001b[1;33m=\u001b[0m\u001b[1;34m\"Expert po korekci\"\u001b[0m\u001b[1;33m)\u001b[0m\u001b[1;33m\u001b[0m\u001b[0m\n\u001b[0;32m      3\u001b[0m \u001b[0mplt\u001b[0m\u001b[1;33m.\u001b[0m\u001b[0mplot\u001b[0m\u001b[1;33m(\u001b[0m\u001b[0mpoints\u001b[0m\u001b[1;33m,\u001b[0m \u001b[0mvalues\u001b[0m\u001b[1;33m[\u001b[0m\u001b[1;36m2\u001b[0m\u001b[1;33m]\u001b[0m\u001b[1;33m,\u001b[0m \u001b[1;34m\"g\"\u001b[0m\u001b[1;33m,\u001b[0m \u001b[0mlabel\u001b[0m\u001b[1;33m=\u001b[0m\u001b[1;34m\"SpectralClustering\"\u001b[0m\u001b[1;33m)\u001b[0m\u001b[1;33m\u001b[0m\u001b[0m\n\u001b[0;32m      4\u001b[0m \u001b[0mplt\u001b[0m\u001b[1;33m.\u001b[0m\u001b[0mplot\u001b[0m\u001b[1;33m(\u001b[0m\u001b[0mpoints\u001b[0m\u001b[1;33m,\u001b[0m \u001b[0mvalues\u001b[0m\u001b[1;33m[\u001b[0m\u001b[1;36m3\u001b[0m\u001b[1;33m]\u001b[0m\u001b[1;33m,\u001b[0m \u001b[1;34m\"y\"\u001b[0m\u001b[1;33m,\u001b[0m \u001b[0mlabel\u001b[0m\u001b[1;33m=\u001b[0m\u001b[1;34m\"KMeans\"\u001b[0m\u001b[1;33m)\u001b[0m\u001b[1;33m\u001b[0m\u001b[0m\n\u001b[0;32m      5\u001b[0m \u001b[1;31m#plt.plot(points, values[7], \"y\", label=\"error\")\u001b[0m\u001b[1;33m\u001b[0m\u001b[1;33m\u001b[0m\u001b[0m\n",
        "\u001b[1;31mNameError\u001b[0m: name 'points' is not defined"
       ]
      }
     ],
     "prompt_number": 3
    },
    {
     "cell_type": "code",
     "collapsed": false,
     "input": [],
     "language": "python",
     "metadata": {},
     "outputs": []
    }
   ],
   "metadata": {}
  }
 ]
}