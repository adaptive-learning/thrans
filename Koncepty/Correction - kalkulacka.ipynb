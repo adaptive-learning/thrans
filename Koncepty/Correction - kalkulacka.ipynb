{
 "metadata": {
  "name": ""
 },
 "nbformat": 3,
 "nbformat_minor": 0,
 "worksheets": [
  {
   "cells": [
    {
     "cell_type": "code",
     "collapsed": false,
     "input": [
      "import numpy as np\n",
      "import pandas as pd\n",
      "from sklearn import svm\n",
      "%pylab inline"
     ],
     "language": "python",
     "metadata": {},
     "outputs": [
      {
       "output_type": "stream",
       "stream": "stdout",
       "text": [
        "Populating the interactive namespace from numpy and matplotlib\n"
       ]
      }
     ],
     "prompt_number": 1
    },
    {
     "cell_type": "code",
     "collapsed": false,
     "input": [
      "data = pd.io.parsers.read_csv(\"Data/Kalkulacka_raw_user_time.csv\", index_col=0)\n",
      "data = data.ix[data.count(1)>10,(data.count()>5)]\n",
      "\n",
      "corr = data.corr(method=\"spearman\")\n",
      "corr.unstack().hist()"
     ],
     "language": "python",
     "metadata": {},
     "outputs": [
      {
       "metadata": {},
       "output_type": "pyout",
       "prompt_number": 95,
       "text": [
        "<matplotlib.axes.AxesSubplot at 0x5c6e8d0>"
       ]
      },
      {
       "metadata": {},
       "output_type": "display_data",
       "png": "[encoded data removed]",
       "text": [
        "<matplotlib.figure.Figure at 0x62687d0>"
       ]
      }
     ],
     "prompt_number": 95
    },
    {
     "cell_type": "code",
     "collapsed": false,
     "input": [
      "label_names = [\"Goniometricke\", \"Logaritmy\", \"Mocniny\", \"Aritmetika\", \"Bez\"]\n",
      "goniom = np.array([1787,1802,1803,1804,1805,1814,1820])\n",
      "logaritmy = np.array([1786,1792,1793,1794])\n",
      "mocniny = np.array([1791,1795,1796,1810,1830,1832,1833])\n",
      "aritmetika = np.array([1772,1773,1775,1776,1779,1780,1781,1782,1783,1797,1799,1800,1817,1819])\n",
      "\n",
      "labels = np.zeros(len(corr.index))\n",
      "labels.fill(4)\n",
      "for i in range(labels.size):\n",
      "    if int(corr.index[i]) in goniom: labels[i] = label_names.index(\"Goniometricke\")\n",
      "    if int(corr.index[i]) in logaritmy: labels[i] = label_names.index(\"Logaritmy\")\n",
      "    if int(corr.index[i]) in mocniny: labels[i] = label_names.index(\"Mocniny\")\n",
      "    if int(corr.index[i]) in aritmetika: labels[i] = label_names.index(\"Aritmetika\")\n",
      "        \n",
      "corr = corr.ix[labels!=label_names.index(\"Bez\"), labels!=label_names.index(\"Bez\")]\n",
      "labels = labels[labels!=label_names.index(\"Bez\")]"
     ],
     "language": "python",
     "metadata": {},
     "outputs": [
      {
       "output_type": "stream",
       "stream": "stdout",
       "text": [
        "(31, 31) (31,)\n"
       ]
      }
     ],
     "prompt_number": 96
    },
    {
     "cell_type": "code",
     "collapsed": false,
     "input": [
      "clf = svm.SVC(kernel=\"linear\")\n",
      "clf.fit(corr, labels)\n",
      "predict = np.array(clf.predict(corr))\n",
      "distances = clf.decision_function(corr)\n",
      "print \"Uspesnost: {0:.2%}\".format(np.sum(predict == labels)/float(labels.size))"
     ],
     "language": "python",
     "metadata": {},
     "outputs": [
      {
       "output_type": "stream",
       "stream": "stdout",
       "text": [
        "Uspesnost: 83.87%\n"
       ]
      }
     ],
     "prompt_number": 97
    },
    {
     "cell_type": "code",
     "collapsed": false,
     "input": [
      "def items_info(items):\n",
      "    for item in items:\n",
      "        i = corr.index.get_loc(item)\n",
      "        print \"\u00daloha: {0}, distances: , label: {1}, p\u0159edpov\u011b\u010f: {2}\".format(item, label_names[int(labels[i])], label_names[int(predict[i])], distances[i]) \n",
      "\n",
      "errors = corr.index[(predict == labels) == False]\n",
      "items_info(errors)"
     ],
     "language": "python",
     "metadata": {},
     "outputs": [
      {
       "output_type": "stream",
       "stream": "stdout",
       "text": [
        "\u00daloha: 1791, distances: , label: Mocniny, p\u0159edpov\u011b\u010f: Aritmetika\n",
        "\u00daloha: 1795, distances: , label: Mocniny, p\u0159edpov\u011b\u010f: Aritmetika\n",
        "\u00daloha: 1803, distances: , label: Goniometricke, p\u0159edpov\u011b\u010f: Logaritmy\n",
        "\u00daloha: 1814, distances: , label: Goniometricke, p\u0159edpov\u011b\u010f: Aritmetika\n",
        "\u00daloha: 1830, distances: , label: Mocniny, p\u0159edpov\u011b\u010f: Aritmetika\n"
       ]
      }
     ],
     "prompt_number": 98
    },
    {
     "cell_type": "code",
     "collapsed": false,
     "input": [
      "treshold = 0.1\n",
      "on_edge = []\n",
      "for i, distance in enumerate(distances):\n",
      "    if distance[labels[i]] < treshold:\n",
      "        on_edge.append(corr.index[i])\n",
      "\n",
      "items_info(on_edge)"
     ],
     "language": "python",
     "metadata": {},
     "outputs": [
      {
       "output_type": "stream",
       "stream": "stdout",
       "text": [
        "\u00daloha: 1772, distances: , label: Aritmetika, p\u0159edpov\u011b\u010f: Aritmetika\n",
        "\u00daloha: 1773, distances: , label: Aritmetika, p\u0159edpov\u011b\u010f: Aritmetika\n",
        "\u00daloha: 1775, distances: , label: Aritmetika, p\u0159edpov\u011b\u010f: Aritmetika\n",
        "\u00daloha: 1776, distances: , label: Aritmetika, p\u0159edpov\u011b\u010f: Aritmetika\n",
        "\u00daloha: 1779, distances: , label: Aritmetika, p\u0159edpov\u011b\u010f: Aritmetika\n",
        "\u00daloha: 1780, distances: , label: Aritmetika, p\u0159edpov\u011b\u010f: Aritmetika\n",
        "\u00daloha: 1781, distances: , label: Aritmetika, p\u0159edpov\u011b\u010f: Aritmetika\n",
        "\u00daloha: 1782, distances: , label: Aritmetika, p\u0159edpov\u011b\u010f: Aritmetika\n",
        "\u00daloha: 1783, distances: , label: Aritmetika, p\u0159edpov\u011b\u010f: Aritmetika\n",
        "\u00daloha: 1791, distances: , label: Mocniny, p\u0159edpov\u011b\u010f: Aritmetika\n",
        "\u00daloha: 1792, distances: , label: Logaritmy, p\u0159edpov\u011b\u010f: Logaritmy\n",
        "\u00daloha: 1794, distances: , label: Logaritmy, p\u0159edpov\u011b\u010f: Logaritmy\n",
        "\u00daloha: 1795, distances: , label: Mocniny, p\u0159edpov\u011b\u010f: Aritmetika\n",
        "\u00daloha: 1796, distances: , label: Mocniny, p\u0159edpov\u011b\u010f: Mocniny\n",
        "\u00daloha: 1797, distances: , label: Aritmetika, p\u0159edpov\u011b\u010f: Aritmetika\n",
        "\u00daloha: 1799, distances: , label: Aritmetika, p\u0159edpov\u011b\u010f: Aritmetika\n",
        "\u00daloha: 1803, distances: , label: Goniometricke, p\u0159edpov\u011b\u010f: Logaritmy\n",
        "\u00daloha: 1817, distances: , label: Aritmetika, p\u0159edpov\u011b\u010f: Aritmetika\n",
        "\u00daloha: 1819, distances: , label: Aritmetika, p\u0159edpov\u011b\u010f: Aritmetika\n",
        "\u00daloha: 1830, distances: , label: Mocniny, p\u0159edpov\u011b\u010f: Aritmetika\n",
        "\u00daloha: 1832, distances: , label: Mocniny, p\u0159edpov\u011b\u010f: Mocniny\n"
       ]
      }
     ],
     "prompt_number": 102
    },
    {
     "cell_type": "code",
     "collapsed": false,
     "input": [
      "#problemovi = [u\"1092\", u\"1094\", u\"1062\"]\n",
      "#items_info(problemovi)"
     ],
     "language": "python",
     "metadata": {},
     "outputs": [],
     "prompt_number": 103
    },
    {
     "cell_type": "code",
     "collapsed": false,
     "input": [
      "items_info(corr.index)"
     ],
     "language": "python",
     "metadata": {},
     "outputs": [
      {
       "output_type": "stream",
       "stream": "stdout",
       "text": [
        "\u00daloha: 1772, distances: , label: Aritmetika, p\u0159edpov\u011b\u010f: Aritmetika\n",
        "\u00daloha: 1773, distances: , label: Aritmetika, p\u0159edpov\u011b\u010f: Aritmetika\n",
        "\u00daloha: 1775, distances: , label: Aritmetika, p\u0159edpov\u011b\u010f: Aritmetika\n",
        "\u00daloha: 1776, distances: , label: Aritmetika, p\u0159edpov\u011b\u010f: Aritmetika\n",
        "\u00daloha: 1779, distances: , label: Aritmetika, p\u0159edpov\u011b\u010f: Aritmetika\n",
        "\u00daloha: 1780, distances: , label: Aritmetika, p\u0159edpov\u011b\u010f: Aritmetika\n",
        "\u00daloha: 1781, distances: , label: Aritmetika, p\u0159edpov\u011b\u010f: Aritmetika\n",
        "\u00daloha: 1782, distances: , label: Aritmetika, p\u0159edpov\u011b\u010f: Aritmetika\n",
        "\u00daloha: 1783, distances: , label: Aritmetika, p\u0159edpov\u011b\u010f: Aritmetika\n",
        "\u00daloha: 1786, distances: , label: Logaritmy, p\u0159edpov\u011b\u010f: Logaritmy\n",
        "\u00daloha: 1787, distances: , label: Goniometricke, p\u0159edpov\u011b\u010f: Goniometricke\n",
        "\u00daloha: 1791, distances: , label: Mocniny, p\u0159edpov\u011b\u010f: Aritmetika\n",
        "\u00daloha: 1792, distances: , label: Logaritmy, p\u0159edpov\u011b\u010f: Logaritmy\n",
        "\u00daloha: 1793, distances: , label: Logaritmy, p\u0159edpov\u011b\u010f: Logaritmy\n",
        "\u00daloha: 1794, distances: , label: Logaritmy, p\u0159edpov\u011b\u010f: Logaritmy\n",
        "\u00daloha: 1795, distances: , label: Mocniny, p\u0159edpov\u011b\u010f: Aritmetika\n",
        "\u00daloha: 1796, distances: , label: Mocniny, p\u0159edpov\u011b\u010f: Mocniny\n",
        "\u00daloha: 1797, distances: , label: Aritmetika, p\u0159edpov\u011b\u010f: Aritmetika\n",
        "\u00daloha: 1799, distances: , label: Aritmetika, p\u0159edpov\u011b\u010f: Aritmetika\n",
        "\u00daloha: 1802, distances: , label: Goniometricke, p\u0159edpov\u011b\u010f: Goniometricke\n",
        "\u00daloha: 1803, distances: , label: Goniometricke, p\u0159edpov\u011b\u010f: Logaritmy\n",
        "\u00daloha: 1804, distances: , label: Goniometricke, p\u0159edpov\u011b\u010f: Goniometricke\n",
        "\u00daloha: 1805, distances: , label: Goniometricke, p\u0159edpov\u011b\u010f: Goniometricke\n",
        "\u00daloha: 1810, distances: , label: Mocniny, p\u0159edpov\u011b\u010f: Mocniny\n",
        "\u00daloha: 1814, distances: , label: Goniometricke, p\u0159edpov\u011b\u010f: Aritmetika\n",
        "\u00daloha: 1817, distances: , label: Aritmetika, p\u0159edpov\u011b\u010f: Aritmetika\n",
        "\u00daloha: 1819, distances: , label: Aritmetika, p\u0159edpov\u011b\u010f: Aritmetika\n",
        "\u00daloha: 1820, distances: , label: Goniometricke, p\u0159edpov\u011b\u010f: Goniometricke\n",
        "\u00daloha: 1830, distances: , label: Mocniny, p\u0159edpov\u011b\u010f: Aritmetika\n",
        "\u00daloha: 1832, distances: , label: Mocniny, p\u0159edpov\u011b\u010f: Mocniny\n",
        "\u00daloha: 1833, distances: , label: Mocniny, p\u0159edpov\u011b\u010f: Mocniny\n"
       ]
      }
     ],
     "prompt_number": 104
    }
   ],
   "metadata": {}
  }
 ]
}