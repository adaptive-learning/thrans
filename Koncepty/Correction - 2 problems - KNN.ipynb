{
 "metadata": {
  "name": ""
 },
 "nbformat": 3,
 "nbformat_minor": 0,
 "worksheets": [
  {
   "cells": [
    {
     "cell_type": "code",
     "collapsed": false,
     "input": [
      "import sys\n",
      "sys.path.append(\"..\")\n",
      "import numpy as np\n",
      "import pandas as pd\n",
      "from sklearn import svm, metrics, linear_model\n",
      "from Algoritmy import KNN\n",
      "from random import randint\n",
      "%load_ext autoreload\n",
      "%autoreload 2\n",
      "%pylab inline --no-import-all"
     ],
     "language": "python",
     "metadata": {},
     "outputs": [
      {
       "output_type": "stream",
       "stream": "stdout",
       "text": [
        "The autoreload extension is already loaded. To reload it, use:\n",
        "  %reload_ext autoreload\n",
        "Populating the interactive namespace from numpy and matplotlib"
       ]
      },
      {
       "output_type": "stream",
       "stream": "stdout",
       "text": [
        "\n"
       ]
      }
     ],
     "prompt_number": 34
    },
    {
     "cell_type": "code",
     "collapsed": false,
     "input": [
      "label_names = [\"Ploty\", \"Robotanik\"] \n",
      "#label_names = [\"Nurikabe\", \"Robotanik\", \"Sokoban\", \"Kulicka\"]\n",
      "sizes = []\n",
      "data = None\n",
      "for l in label_names:\n",
      "    d = pd.io.parsers.read_csv(\"Data/{0}_user_time.csv\".format(l), index_col=0)\n",
      "    x = d.count()\n",
      "    x.sort(ascending=False)\n",
      "    #d = d.ix[:, d.count()>x[20]]\n",
      "    sizes.append(d.columns.size)\n",
      "    data = data.join(d, how=\"inner\") if data else d\n",
      "    \n",
      "corr = data.corr(method=\"spearman\")\n",
      "#corr.unstack().hist()"
     ],
     "language": "python",
     "metadata": {},
     "outputs": [],
     "prompt_number": 97
    },
    {
     "cell_type": "code",
     "collapsed": false,
     "input": [
      "error_rate = 0.3\n",
      "solution = []\n",
      "labels = []\n",
      "for i in range(len(sizes)):\n",
      "    solution.extend([i] * sizes[i])\n",
      "    labels.extend([i] * sizes[i])\n",
      "solution = np.array(solution)\n",
      "errors = np.random.rand(solution.size) < error_rate\n",
      "for i in range(len(errors)):\n",
      "    if errors[i]:\n",
      "        labels[i] = ((solution[i] + (randint(1,len(label_names)-1)) ) % len(label_names))\n",
      "\n",
      "labels = np.array(labels)"
     ],
     "language": "python",
     "metadata": {},
     "outputs": [],
     "prompt_number": 98
    },
    {
     "cell_type": "code",
     "collapsed": false,
     "input": [
      "knn = KNN.KNN()\n",
      "distances = knn.compute_distances(corr)\n"
     ],
     "language": "python",
     "metadata": {},
     "outputs": [],
     "prompt_number": 103
    },
    {
     "cell_type": "code",
     "collapsed": false,
     "input": [
      "#predict = knn.fit(1-corr, labels, 50)\n",
      "predict = knn.fit(distances, labels, 50)\n",
      "print \"Before: {0:.2%}, After: {1:.2%}\".format(np.sum(labels == solution)/float(labels.size),np.sum(predict == solution)/float(labels.size))"
     ],
     "language": "python",
     "metadata": {},
     "outputs": [
      {
       "output_type": "stream",
       "stream": "stdout",
       "text": [
        "Before: 66.88%, After: 77.07%\n"
       ]
      }
     ],
     "prompt_number": 100
    },
    {
     "cell_type": "code",
     "collapsed": false,
     "input": [
      "found_errors = predict != labels\n",
      "print metrics.accuracy_score(errors, found_errors)\n",
      "print metrics.classification_report(errors, found_errors)"
     ],
     "language": "python",
     "metadata": {},
     "outputs": [
      {
       "output_type": "stream",
       "stream": "stdout",
       "text": [
        "0.770700636943\n",
        "             precision    recall  f1-score   support\n",
        "\n",
        "          0       0.85      0.80      0.82       105\n",
        "          1       0.64      0.71      0.67        52\n",
        "\n",
        "avg / total       0.78      0.77      0.77       157\n",
        "\n"
       ]
      }
     ],
     "prompt_number": 101
    },
    {
     "cell_type": "code",
     "collapsed": false,
     "input": [
      "res = []\n",
      "res2 = []\n",
      "for k in range(1, len(labels)):\n",
      "    predict = knn.fit(distances, labels, k)\n",
      "    res.append(np.sum(predict == solution)/float(labels.size))\n",
      "    predict = knn.fit(1 - corr, labels, k)\n",
      "    res2.append(np.sum(predict == solution)/float(labels.size))\n",
      "\n",
      "plt.plot(range(1, len(labels)), res, \"b\")\n",
      "plt.plot(range(1, len(labels)), res2, \"g\")"
     ],
     "language": "python",
     "metadata": {},
     "outputs": [
      {
       "metadata": {},
       "output_type": "pyout",
       "prompt_number": 102,
       "text": [
        "[<matplotlib.lines.Line2D at 0x6a30e50>]"
       ]
      },
      {
       "metadata": {},
       "output_type": "display_data",
       "png": "[encoded data removed]",
       "text": [
        "<matplotlib.figure.Figure at 0x6a30490>"
       ]
      }
     ],
     "prompt_number": 102
    },
    {
     "cell_type": "code",
     "collapsed": false,
     "input": [
      "\n",
      "\n"
     ],
     "language": "python",
     "metadata": {},
     "outputs": [],
     "prompt_number": 86
    },
    {
     "cell_type": "code",
     "collapsed": false,
     "input": [],
     "language": "python",
     "metadata": {},
     "outputs": []
    }
   ],
   "metadata": {}
  }
 ]
}