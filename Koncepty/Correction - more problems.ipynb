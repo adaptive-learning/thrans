{
 "metadata": {
  "name": ""
 },
 "nbformat": 3,
 "nbformat_minor": 0,
 "worksheets": [
  {
   "cells": [
    {
     "cell_type": "code",
     "collapsed": false,
     "input": [
      "import sys\n",
      "sys.path.append(\"..\")\n",
      "import numpy as np\n",
      "from random import randint\n",
      "import pandas as pd\n",
      "%pylab inline --no-import-all\n",
      "from sklearn import metrics, linear_model\n",
      "from Algoritmy import spectralclustering\n",
      "from sklearn.cluster import KMeans"
     ],
     "language": "python",
     "metadata": {},
     "outputs": [
      {
       "output_type": "stream",
       "stream": "stdout",
       "text": [
        "Populating the interactive namespace from numpy and matplotlib\n"
       ]
      }
     ],
     "prompt_number": 14
    },
    {
     "cell_type": "code",
     "collapsed": false,
     "input": [
      "label_names = [\"Kulicka\", \"Robotanik\"] \n",
      "label_names = [\"Nurikabe\", \"Ploty\", \"Sokoban\", \"Kulicka\"]\n",
      "sizes = []\n",
      "data = None\n",
      "for l in label_names:\n",
      "    d = pd.io.parsers.read_csv(\"Data/{0}_user_time.csv\".format(l), index_col=0)\n",
      "    #x = d.count()\n",
      "    #x.sort(ascending=False)\n",
      "    #d = d.ix[:, d.count()>x[20]]\n",
      "    sizes.append(d.columns.size)\n",
      "    data = data.join(d, how=\"inner\") if data else d\n",
      "    \n",
      "corr = data.corr(method=\"spearman\")\n",
      "corr.unstack().hist()"
     ],
     "language": "python",
     "metadata": {},
     "outputs": [
      {
       "metadata": {},
       "output_type": "pyout",
       "prompt_number": 20,
       "text": [
        "<matplotlib.axes.AxesSubplot at 0x43efb90>"
       ]
      },
      {
       "metadata": {},
       "output_type": "display_data",
       "png": "[encoded data removed]",
       "text": [
        "<matplotlib.figure.Figure at 0x436a610>"
       ]
      }
     ],
     "prompt_number": 20
    },
    {
     "cell_type": "code",
     "collapsed": false,
     "input": [
      "def all_perms(elements):\n",
      "    if len(elements) <=1:\n",
      "        yield elements\n",
      "    else:\n",
      "        for perm in all_perms(elements[1:]):\n",
      "            for i in range(len(elements)):\n",
      "                yield perm[:i] + elements[0:1] + perm[i:]\n",
      "\n",
      "def swapSol(sol1, sol2, clusterNumber):\n",
      "    best_pr = 0.0\n",
      "    for p in all_perms(range(clusterNumber)):\n",
      "        hits = 0.0\n",
      "        for i in range(clusterNumber):\n",
      "            hits += sum((sol1==i) & (sol2==p[i]))\n",
      "        pr = hits/sol1.size\n",
      "        if pr > best_pr:\n",
      "            best_pr = pr\n",
      "            best = p\n",
      "    \n",
      "    sol3 = np.copy(sol2)\n",
      "    for i in range(clusterNumber):\n",
      "        sol3[sol2 == best[i]] = i\n",
      "    return sol3\n",
      "\n",
      "def clusterSpearmanSC(cor, sol, clusterNumber = 2, SCtype = 1, KMiter=20, kcut=0, plot = False, mutual=False):\n",
      "    print \"Clustering ...\"\n",
      "    SC = spectralclustering.Spectral_Clusterer(np.copy(cor))\n",
      "    if kcut>0:\n",
      "        if mutual:\n",
      "            SC.kNearestMutual(kcut)\n",
      "        else:\n",
      "            SC.kNearest(kcut)\n",
      "    \n",
      "    solSC = SC.run(clusterNumber, SCtype, KMiter)\n",
      "    solSC = swapSol(sol,solSC,clusterNumber)\n",
      "    \n",
      "    return np.sum(sol==solSC)*1.0/len(sol), solSC, SCtype"
     ],
     "language": "python",
     "metadata": {},
     "outputs": [],
     "prompt_number": 21
    },
    {
     "cell_type": "code",
     "collapsed": false,
     "input": [
      "def run_test(error_rate = 0.1, reg=0.01):\n",
      "    solution = []\n",
      "    labels = []\n",
      "    for i in range(len(sizes)):\n",
      "        solution.extend([i] * sizes[i])\n",
      "        labels.extend([i] * sizes[i])\n",
      "    solution = np.array(solution)\n",
      "    errors = np.random.rand(solution.size) < error_rate\n",
      "    for i in range(len(errors)):\n",
      "        if errors[i]:\n",
      "            labels[i] = ((solution[i] + (randint(1,len(label_names)-1)) ) % len(label_names))\n",
      "    \n",
      "    clfLR = linear_model.LogisticRegression(C=reg)\n",
      "    clfLR.fit(corr, labels)\n",
      "    \n",
      "    predictLR = np.array(clfLR.predict(corr))\n",
      "     \n",
      "    return  metrics.accuracy_score(solution, labels), metrics.accuracy_score(predictLR, solution)"
     ],
     "language": "python",
     "metadata": {},
     "outputs": [],
     "prompt_number": 22
    },
    {
     "cell_type": "code",
     "collapsed": false,
     "input": [
      "reg = 0.1\n",
      "\n",
      "returnd_values = 2\n",
      "iterations = 20\n",
      "points = np.arange(0, 1, 0.01)\n",
      "values = np.empty((returnd_values, len(points)))\n",
      "for i, error_rate in enumerate(points):\n",
      "    results = np.empty((returnd_values, iterations))\n",
      "    for j in range(iterations):\n",
      "        results[:, j] = run_test(error_rate=error_rate, reg=reg)\n",
      "    values[:, i] = np.mean(results, axis=1)\n",
      "    \n",
      "solution = []\n",
      "for i in range(len(sizes)):\n",
      "    solution.extend([i] * sizes[i])\n",
      "solution = np.array(solution)\n",
      "pr,labels,SC = clusterSpearmanSC(corr, solution, clusterNumber = len(label_names), KMiter = 200, kcut = corr.shape[0]/2, SCtype = 2, plot = True, mutual = False)\n",
      "\n",
      "km = KMeans(n_clusters=len(label_names), n_init=100)\n",
      "km.fit(corr)\n",
      "predict = km.predict(corr)\n",
      "KMpredict = swapSol(solution,predict,len(label_names))\n",
      "pr2 = metrics.accuracy_score(KMpredict, solution)"
     ],
     "language": "python",
     "metadata": {},
     "outputs": [
      {
       "output_type": "stream",
       "stream": "stdout",
       "text": [
        "Clustering ...\n",
        "KMean "
       ]
      },
      {
       "output_type": "stream",
       "stream": "stdout",
       "text": [
        "\n"
       ]
      }
     ],
     "prompt_number": 23
    },
    {
     "cell_type": "code",
     "collapsed": false,
     "input": [
      "int = np.sum((values[0] < values[1]) & (values[1] > pr ) * 1) / float(values[0].size)\n",
      "\n",
      "plt.plot(points, values[0], \"b-\", label=\"Expert\")\n",
      "plt.plot(points, values[1], \"r-\", label=\"Expert po LogReg\")\n",
      "plt.plot([0,1], [pr,pr], \"g-\", label=\"SpectralClustering\")\n",
      "plt.plot([0,1], [pr2,pr2], \"y-\", label=\"KMeans\")\n",
      "plt.legend(loc=1)\n",
      "plt.savefig(\"n-problems/{2} {1} {0} - only 20.jpg\".format(\"-\".join(label_names),int, len(label_names)))\n",
      "\n",
      "print int"
     ],
     "language": "python",
     "metadata": {},
     "outputs": [
      {
       "output_type": "stream",
       "stream": "stdout",
       "text": [
        "0.35\n"
       ]
      },
      {
       "metadata": {},
       "output_type": "display_data",
       "png": "[encoded data removed]",
       "text": [
        "<matplotlib.figure.Figure at 0x48af310>"
       ]
      }
     ],
     "prompt_number": 24
    },
    {
     "cell_type": "code",
     "collapsed": false,
     "input": [
      "sizes"
     ],
     "language": "python",
     "metadata": {},
     "outputs": [
      {
       "metadata": {},
       "output_type": "pyout",
       "prompt_number": 8,
       "text": [
        "[110, 69]"
       ]
      }
     ],
     "prompt_number": 8
    },
    {
     "cell_type": "code",
     "collapsed": false,
     "input": [],
     "language": "python",
     "metadata": {},
     "outputs": [],
     "prompt_number": 7
    }
   ],
   "metadata": {}
  }
 ]
}