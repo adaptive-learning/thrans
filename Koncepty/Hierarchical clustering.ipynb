{
 "metadata": {
  "name": ""
 },
 "nbformat": 3,
 "nbformat_minor": 0,
 "worksheets": [
  {
   "cells": [
    {
     "cell_type": "code",
     "collapsed": false,
     "input": [
      "import numpy as np\n",
      "import pandas as pd\n",
      "import networkx as nx\n",
      "from hierarchicalclustering import *\n",
      "\n",
      "%pylab inline\n",
      "%load_ext autoreload\n",
      "%autoreload 2"
     ],
     "language": "python",
     "metadata": {},
     "outputs": [
      {
       "ename": "ImportError",
       "evalue": "No module named hierarchicalclustering",
       "output_type": "pyerr",
       "traceback": [
        "\u001b[1;31m---------------------------------------------------------------------------\u001b[0m\n\u001b[1;31mImportError\u001b[0m                               Traceback (most recent call last)",
        "\u001b[1;32m<ipython-input-2-4e2f3fdc3ae2>\u001b[0m in \u001b[0;36m<module>\u001b[1;34m()\u001b[0m\n\u001b[0;32m      2\u001b[0m \u001b[1;32mimport\u001b[0m \u001b[0mpandas\u001b[0m \u001b[1;32mas\u001b[0m \u001b[0mpd\u001b[0m\u001b[1;33m\u001b[0m\u001b[0m\n\u001b[0;32m      3\u001b[0m \u001b[1;32mimport\u001b[0m \u001b[0mnetworkx\u001b[0m \u001b[1;32mas\u001b[0m \u001b[0mnx\u001b[0m\u001b[1;33m\u001b[0m\u001b[0m\n\u001b[1;32m----> 4\u001b[1;33m \u001b[1;32mfrom\u001b[0m \u001b[0mhierarchicalclustering\u001b[0m \u001b[1;32mimport\u001b[0m \u001b[1;33m*\u001b[0m\u001b[1;33m\u001b[0m\u001b[0m\n\u001b[0m\u001b[0;32m      5\u001b[0m \u001b[1;33m\u001b[0m\u001b[0m\n\u001b[0;32m      6\u001b[0m \u001b[0mget_ipython\u001b[0m\u001b[1;33m(\u001b[0m\u001b[1;33m)\u001b[0m\u001b[1;33m.\u001b[0m\u001b[0mmagic\u001b[0m\u001b[1;33m(\u001b[0m\u001b[1;34mu'pylab inline'\u001b[0m\u001b[1;33m)\u001b[0m\u001b[1;33m\u001b[0m\u001b[0m\n",
        "\u001b[1;31mImportError\u001b[0m: No module named hierarchicalclustering"
       ]
      }
     ],
     "prompt_number": 2
    },
    {
     "cell_type": "code",
     "collapsed": false,
     "input": [
      "points = [[0,1],\n",
      "          [1,0],\n",
      "          [10,0],\n",
      "          [10,2],\n",
      "          [5,5],\n",
      "          [9,3],\n",
      "          [1,1],\n",
      "          [8,1],\n",
      "          ]\n",
      "\n",
      "points = pd.DataFrame(points, columns=[\"x\",\"y\"])"
     ],
     "language": "python",
     "metadata": {},
     "outputs": [],
     "prompt_number": 64
    },
    {
     "cell_type": "code",
     "collapsed": false,
     "input": [
      "print points"
     ],
     "language": "python",
     "metadata": {},
     "outputs": [
      {
       "output_type": "stream",
       "stream": "stdout",
       "text": [
        "    x  y\n",
        "0   0  1\n",
        "1   1  0\n",
        "2  10  0\n",
        "3  10  2\n",
        "4   5  5\n",
        "5   9  3\n",
        "6   1  1\n",
        "7   8  1\n"
       ]
      }
     ],
     "prompt_number": 65
    },
    {
     "cell_type": "code",
     "collapsed": false,
     "input": [
      "plt.plot(points[\"x\"], points[\"y\"], \"ro\")"
     ],
     "language": "python",
     "metadata": {},
     "outputs": [
      {
       "output_type": "pyout",
       "prompt_number": 66,
       "text": [
        "[<matplotlib.lines.Line2D at 0x3b6f4d0>]"
       ]
      }
     ],
     "prompt_number": 66
    },
    {
     "cell_type": "code",
     "collapsed": false,
     "input": [
      "hc = HierarichicalClustering(points=points)"
     ],
     "language": "python",
     "metadata": {},
     "outputs": [],
     "prompt_number": 67
    },
    {
     "cell_type": "code",
     "collapsed": false,
     "input": [
      "hc.compute_distances()"
     ],
     "language": "python",
     "metadata": {},
     "outputs": [
      {
       "html": [
        "<div style=\"max-height:1000px;max-width:1500px;overflow:auto;\">\n",
        "<table border=\"1\" class=\"dataframe\">\n",
        "  <thead>\n",
        "    <tr style=\"text-align: right;\">\n",
        "      <th></th>\n",
        "      <th>0</th>\n",
        "      <th>1</th>\n",
        "      <th>2</th>\n",
        "      <th>3</th>\n",
        "      <th>4</th>\n",
        "      <th>5</th>\n",
        "      <th>6</th>\n",
        "      <th>7</th>\n",
        "    </tr>\n",
        "  </thead>\n",
        "  <tbody>\n",
        "    <tr>\n",
        "      <th>0</th>\n",
        "      <td>        0</td>\n",
        "      <td> 1.414214</td>\n",
        "      <td> 10.04988</td>\n",
        "      <td> 10.04988</td>\n",
        "      <td> 6.403124</td>\n",
        "      <td> 9.219544</td>\n",
        "      <td>        1</td>\n",
        "      <td>        8</td>\n",
        "    </tr>\n",
        "    <tr>\n",
        "      <th>1</th>\n",
        "      <td> 1.414214</td>\n",
        "      <td>        0</td>\n",
        "      <td>        9</td>\n",
        "      <td> 9.219544</td>\n",
        "      <td> 6.403124</td>\n",
        "      <td> 8.544004</td>\n",
        "      <td>        1</td>\n",
        "      <td> 7.071068</td>\n",
        "    </tr>\n",
        "    <tr>\n",
        "      <th>2</th>\n",
        "      <td> 10.04988</td>\n",
        "      <td>        9</td>\n",
        "      <td>        0</td>\n",
        "      <td>        2</td>\n",
        "      <td> 7.071068</td>\n",
        "      <td> 3.162278</td>\n",
        "      <td> 9.055385</td>\n",
        "      <td> 2.236068</td>\n",
        "    </tr>\n",
        "    <tr>\n",
        "      <th>3</th>\n",
        "      <td> 10.04988</td>\n",
        "      <td> 9.219544</td>\n",
        "      <td>        2</td>\n",
        "      <td>        0</td>\n",
        "      <td> 5.830952</td>\n",
        "      <td> 1.414214</td>\n",
        "      <td> 9.055385</td>\n",
        "      <td> 2.236068</td>\n",
        "    </tr>\n",
        "    <tr>\n",
        "      <th>4</th>\n",
        "      <td> 6.403124</td>\n",
        "      <td> 6.403124</td>\n",
        "      <td> 7.071068</td>\n",
        "      <td> 5.830952</td>\n",
        "      <td>        0</td>\n",
        "      <td> 4.472136</td>\n",
        "      <td> 5.656854</td>\n",
        "      <td>        5</td>\n",
        "    </tr>\n",
        "    <tr>\n",
        "      <th>5</th>\n",
        "      <td> 9.219544</td>\n",
        "      <td> 8.544004</td>\n",
        "      <td> 3.162278</td>\n",
        "      <td> 1.414214</td>\n",
        "      <td> 4.472136</td>\n",
        "      <td>        0</td>\n",
        "      <td> 8.246211</td>\n",
        "      <td> 2.236068</td>\n",
        "    </tr>\n",
        "    <tr>\n",
        "      <th>6</th>\n",
        "      <td>        1</td>\n",
        "      <td>        1</td>\n",
        "      <td> 9.055385</td>\n",
        "      <td> 9.055385</td>\n",
        "      <td> 5.656854</td>\n",
        "      <td> 8.246211</td>\n",
        "      <td>        0</td>\n",
        "      <td>        7</td>\n",
        "    </tr>\n",
        "    <tr>\n",
        "      <th>7</th>\n",
        "      <td>        8</td>\n",
        "      <td> 7.071068</td>\n",
        "      <td> 2.236068</td>\n",
        "      <td> 2.236068</td>\n",
        "      <td>        5</td>\n",
        "      <td> 2.236068</td>\n",
        "      <td>        7</td>\n",
        "      <td>        0</td>\n",
        "    </tr>\n",
        "  </tbody>\n",
        "</table>\n",
        "</div>"
       ],
       "output_type": "pyout",
       "prompt_number": 68,
       "text": [
        "          0         1         2         3         4         5         6         7\n",
        "0         0  1.414214  10.04988  10.04988  6.403124  9.219544         1         8\n",
        "1  1.414214         0         9  9.219544  6.403124  8.544004         1  7.071068\n",
        "2  10.04988         9         0         2  7.071068  3.162278  9.055385  2.236068\n",
        "3  10.04988  9.219544         2         0  5.830952  1.414214  9.055385  2.236068\n",
        "4  6.403124  6.403124  7.071068  5.830952         0  4.472136  5.656854         5\n",
        "5  9.219544  8.544004  3.162278  1.414214  4.472136         0  8.246211  2.236068\n",
        "6         1         1  9.055385  9.055385  5.656854  8.246211         0         7\n",
        "7         8  7.071068  2.236068  2.236068         5  2.236068         7         0"
       ]
      }
     ],
     "prompt_number": 68
    },
    {
     "cell_type": "code",
     "collapsed": false,
     "input": [
      "tree = hc.build_tree()\n",
      "tree.nodes()\n"
     ],
     "language": "python",
     "metadata": {},
     "outputs": [
      {
       "output_type": "pyout",
       "prompt_number": 77,
       "text": [
        "[0, 1, 2, 3, 4, 5, 6, 7]"
       ]
      }
     ],
     "prompt_number": 77
    },
    {
     "cell_type": "code",
     "collapsed": false,
     "input": [],
     "language": "python",
     "metadata": {},
     "outputs": [],
     "prompt_number": 76
    },
    {
     "cell_type": "code",
     "collapsed": false,
     "input": [],
     "language": "python",
     "metadata": {},
     "outputs": []
    }
   ],
   "metadata": {}
  }
 ]
}