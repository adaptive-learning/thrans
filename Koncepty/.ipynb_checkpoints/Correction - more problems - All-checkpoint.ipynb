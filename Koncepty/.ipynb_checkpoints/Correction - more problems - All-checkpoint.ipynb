{
 "metadata": {
  "name": ""
 },
 "nbformat": 3,
 "nbformat_minor": 0,
 "worksheets": [
  {
   "cells": [
    {
     "cell_type": "code",
     "collapsed": false,
     "input": [
      "import sys\n",
      "sys.path.append(\"..\")\n",
      "import numpy as np\n",
      "from random import randint\n",
      "import pandas as pd\n",
      "%pylab inline --no-import-all\n",
      "from sklearn import metrics, linear_model\n",
      "from Algoritmy import spectralclustering, KNN\n",
      "from sklearn.cluster import KMeans"
     ],
     "language": "python",
     "metadata": {},
     "outputs": [
      {
       "output_type": "stream",
       "stream": "stdout",
       "text": [
        "Populating the interactive namespace from numpy and matplotlib\n"
       ]
      }
     ],
     "prompt_number": 2
    },
    {
     "cell_type": "code",
     "collapsed": false,
     "input": [
      "all_label_names = [\"Robotanik\",\"Sokoban\",\"Ploty\",\"Kulicka\", \"Rushhour\"]\n",
      "#label_names = [\"Nurikabe\", \"Ploty\", \"Sokoban\", \"Kulicka\"]"
     ],
     "language": "python",
     "metadata": {},
     "outputs": [],
     "prompt_number": 3
    },
    {
     "cell_type": "code",
     "collapsed": false,
     "input": [
      "def all_perms(elements):\n",
      "    if len(elements) <=1:\n",
      "        yield elements\n",
      "    else:\n",
      "        for perm in all_perms(elements[1:]):\n",
      "            for i in range(len(elements)):\n",
      "                yield perm[:i] + elements[0:1] + perm[i:]\n",
      "\n",
      "def swapSol(sol1, sol2, clusterNumber):\n",
      "    best_pr = 0.0\n",
      "    for p in all_perms(range(clusterNumber)):\n",
      "        hits = 0.0\n",
      "        for i in range(clusterNumber):\n",
      "            hits += sum((sol1==i) & (sol2==p[i]))\n",
      "        pr = hits/sol1.size\n",
      "        if pr > best_pr:\n",
      "            best_pr = pr\n",
      "            best = p\n",
      "    \n",
      "    sol3 = np.copy(sol2)\n",
      "    for i in range(clusterNumber):\n",
      "        sol3[sol2 == best[i]] = i\n",
      "    return sol3\n",
      "\n",
      "def clusterSpearmanSC(cor, sol, clusterNumber = 2, SCtype = 1, KMiter=20, kcut=0, plot = False, mutual=False):\n",
      "    print \"Clustering ...\"\n",
      "    SC = spectralclustering.Spectral_Clusterer(np.copy(cor))\n",
      "    if kcut>0:\n",
      "        if mutual:\n",
      "            SC.kNearestMutual(kcut)\n",
      "        else:\n",
      "            SC.kNearest(kcut)\n",
      "    \n",
      "    solSC = SC.run(clusterNumber, SCtype, KMiter)\n",
      "    solSC = swapSol(sol,solSC,clusterNumber)\n",
      "    \n",
      "    return np.sum(sol==solSC)*1.0/len(sol), solSC, SCtype"
     ],
     "language": "python",
     "metadata": {},
     "outputs": [],
     "prompt_number": 4
    },
    {
     "cell_type": "code",
     "collapsed": false,
     "input": [
      "def run_test(error_rate = 0.1, reg=0.01):\n",
      "    solution = []\n",
      "    labels = []\n",
      "    for i in range(len(sizes)):\n",
      "        solution.extend([i] * sizes[i])\n",
      "        labels.extend([i] * sizes[i])\n",
      "    solution = np.array(solution)\n",
      "    errors = np.random.rand(solution.size) < error_rate\n",
      "    for i in range(len(errors)):\n",
      "        if errors[i]:\n",
      "            labels[i] = ((solution[i] + (randint(1,len(label_names)-1)) ) % len(label_names))\n",
      "            \n",
      "    labels = np.array(labels)\n",
      "    \n",
      "    clfLR = linear_model.LogisticRegression(C=reg)\n",
      "    clfLR.fit(corr, labels)\n",
      "    \n",
      "    predictLR = np.array(clfLR.predict(corr))\n",
      "    \n",
      "    predictKNN = knn.fit(distances, labels, 30)\n",
      "    predictKNN2 = knn.fit(distances, labels, len(labels)/2)\n",
      "   \n",
      "    \n",
      "     \n",
      "    return  metrics.accuracy_score(solution, labels), metrics.accuracy_score(predictLR, solution), metrics.accuracy_score(predictKNN, solution), metrics.accuracy_score(predictKNN2, solution)"
     ],
     "language": "python",
     "metadata": {},
     "outputs": [],
     "prompt_number": 7
    },
    {
     "cell_type": "code",
     "collapsed": false,
     "input": [
      "def get_corr(label_names):\n",
      "    sizes = []\n",
      "    data = None\n",
      "    for l in label_names:\n",
      "        d = pd.io.parsers.read_csv(\"Data/{0}_user_time.csv\".format(l), index_col=0)\n",
      "        sizes.append(d.columns.size)\n",
      "        data = data.join(d, how=\"inner\") if data else d\n",
      "    corr = data.corr(method=\"spearman\")\n",
      "    \n",
      "    return corr, sizesdef get_corr(label_names):\n",
      "    sizes = []\n",
      "    data = None\n",
      "    for l in label_names:\n",
      "        d = pd.io.parsers.read_csv(\"Data/{0}_user_time.csv\".format(l), index_col=0)\n",
      "        sizes.append(d.columns.size)\n",
      "        data = data.join(d, how=\"inner\") if data else d\n",
      "    corr = data.corr(method=\"spearman\")\n",
      "    \n",
      "    return corr, sizes"
     ],
     "language": "python",
     "metadata": {},
     "outputs": [],
     "prompt_number": 5
    },
    {
     "cell_type": "code",
     "collapsed": false,
     "input": [
      "reg = 0.5\n",
      "iterations = 30\n",
      "points = np.arange(0, 1, 0.01)\n",
      "returnd_values = 4\n",
      "\n",
      "for ix in range(len(all_label_names)):\n",
      "    for jx in range(ix+1, len(all_label_names)):\n",
      "        for kx in range(jx+1, len(all_label_names)):\n",
      "            for lx in range(kx+1, len(all_label_names)):\n",
      "                label_names = [all_label_names[ix], all_label_names[jx], all_label_names[kx],  all_label_names[lx]]\n",
      "                label_names = all_label_names\n",
      "                try:\n",
      "                    open(\"computed/values LR+KNN {0}.npy\".format(\"-\".join(label_names)))\n",
      "                    print \"Skipping:\" + ','.join(label_names)\n",
      "                    continue\n",
      "                except IOError:\n",
      "                    print \"Processing:\" + ','.join(label_names)\n",
      "                corr, sizes = get_corr(label_names)\n",
      "        \n",
      "                values = np.empty((returnd_values, len(points)))\n",
      "                knn = KNN.KNN()\n",
      "                distances = knn.compute_distances(corr)\n",
      "                \n",
      "                for i, error_rate in enumerate(points):\n",
      "                    results = np.empty((returnd_values, iterations))\n",
      "                    for j in range(iterations):\n",
      "                        results[:, j] = run_test(error_rate=error_rate, reg=reg)\n",
      "                    values[:, i] = np.mean(results, axis=1)\n",
      "                np.save(\"computed/values LR+KNN {0}.npy\".format(\"-\".join(label_names), len(label_names)), values)"
     ],
     "language": "python",
     "metadata": {},
     "outputs": [
      {
       "output_type": "stream",
       "stream": "stdout",
       "text": [
        "Skipping:Robotanik,Sokoban,Ploty,Kulicka,Rushhour\n",
        "Skipping:Robotanik,Sokoban,Ploty,Kulicka,Rushhour\n",
        "Skipping:Robotanik,Sokoban,Ploty,Kulicka,Rushhour\n",
        "Skipping:Robotanik,Sokoban,Ploty,Kulicka,Rushhour\n",
        "Skipping:Robotanik,Sokoban,Ploty,Kulicka,Rushhour\n"
       ]
      }
     ],
     "prompt_number": 6
    },
    {
     "cell_type": "code",
     "collapsed": false,
     "input": [
      "def make_stat(label_names, KNN=False, model=False):\n",
      "    corr, sizes = get_corr(label_names)\n",
      "    solution = []\n",
      "    for i in range(len(sizes)):\n",
      "        solution.extend([i] * sizes[i])\n",
      "    solution = np.array(solution)\n",
      "    prSC,labels,SC = clusterSpearmanSC(corr, solution, clusterNumber = len(label_names), KMiter = 200, kcut = corr.shape[0]/2, SCtype = 2, plot = True, mutual = False)\n",
      "    \n",
      "    km = KMeans(n_clusters=len(label_names), n_init=100)\n",
      "    km.fit(corr)\n",
      "    predict = km.predict(corr)\n",
      "    KMpredict = swapSol(solution,predict,len(label_names))\n",
      "    prKM = metrics.accuracy_score(KMpredict, solution)\n",
      "    #print prSC, prKM\n",
      "    \n",
      "    values = np.load(\"computed/values LR+KNN {0}.npy\".format(\"-\".join(label_names), len(label_names)))\n",
      "    \n",
      "    modelX, modelY = getModelPlot(\"-\".join(label_names), 2)\n",
      "    \n",
      "    vals = values[1]\n",
      "    if KNN:\n",
      "        vals = values[2]\n",
      "    if model:\n",
      "        vals = np.array(modelY + [0] * (len(values[0]) - len(modelY)))\n",
      "    \n",
      "    int = np.sum((values[0] < vals) & (vals > prSC ) * 1) / float(values[0].size)\n",
      "    baseline = np.maximum(values[0], np.array([prSC]*len(values[0])))\n",
      "    height = np.max(vals - baseline)\n",
      "    \n",
      "    last =  -1\n",
      "    crosses = []\n",
      "    for i, v in enumerate(vals - baseline):\n",
      "        if last * v <= 0:\n",
      "            crosses.append(round(points[i], 2))\n",
      "        last = v\n",
      "    if len(crosses) == 0:\n",
      "        crosses = [1 - max(prSC, prKM)]\n",
      "    j = {\n",
      "            \"names\": \"-\".join(label_names),\n",
      "            \"#\": len(label_names),\n",
      "            \"E-ED\": crosses[0],\n",
      "            \"ED-D\": crosses[-1],\n",
      "            \"E-D\": 1 - max(prSC, prKM),\n",
      "            \"height\": height,\n",
      "            }\n",
      "    \n",
      "    \n",
      "\n",
      "    plt.plot(points, values[0], \"b-\", label=\"Expert\")\n",
      "    plt.plot(points, values[1], \"r-\", label=\"Expert po LogReg\")\n",
      "    plt.plot(points, values[2], \"k-\", label=\"KNN k=30\")\n",
      "    plt.plot(modelX, modelY, \"k-\", color=\"0.5\", label=\"Model\")\n",
      "    #plt.plot(points, values[3], \"r-\", color=\"0.5\", label=\"KNN k=n/2\")\n",
      "    plt.plot([0,1], [prSC,prSC], \"g-\", label=\"SpectralClustering\")\n",
      "    plt.plot([0,1], [prKM,prKM], \"y-\", label=\"KMeans\")\n",
      "    plt.title(\" - \".join(label_names))\n",
      "    plt.xlabel('Error rate of expert')\n",
      "    plt.ylabel('Accuracy')\n",
      "    plt.legend(loc=1)\n",
      "\n",
      "    return j\n"
     ],
     "language": "python",
     "metadata": {},
     "outputs": [],
     "prompt_number": 56
    },
    {
     "cell_type": "code",
     "collapsed": false,
     "input": [
      "def getModelPlot(names, n):\n",
      "    with open(\"computed/modelplot{0}.json\".format(n)) as f:\n",
      "        for x in json.loads(f.readline()):\n",
      "            jn = x[\"names\"].split(\"-\")\n",
      "            jn = \"-\".join([name for name in all_label_names if name in jn])\n",
      "            if jn == names:\n",
      "                return x[\"X\"], x[\"ED\"]"
     ],
     "language": "python",
     "metadata": {},
     "outputs": [],
     "prompt_number": 59
    },
    {
     "cell_type": "code",
     "collapsed": false,
     "input": [
      "import json\n",
      "js = []\n",
      "pylab.rcParams['figure.figsize'] = 15,10\n",
      "    \n",
      "#for _ in [0]:\n",
      "for ix in range(len(all_label_names)):\n",
      "    for jx in range(ix+1, len(all_label_names)):\n",
      "        for kx in range(jx+1, len(all_label_names)):\n",
      "            #for lx in range(kx+1, len(all_label_names)):\n",
      "                label_names = [all_label_names[ix], all_label_names[jx]]\n",
      "                label_names = [all_label_names[ix], all_label_names[jx], all_label_names[kx]]\n",
      "                #label_names = [all_label_names[ix], all_label_names[jx], all_label_names[kx],  all_label_names[lx]]\n",
      "                #label_names = all_label_names\n",
      "                j = make_stat(label_names, KNN=False, model=True)\n",
      "                print j\n",
      "                js.append(j)\n",
      "                plt.savefig(\"graphs - compare - final/{0} {1}.png\".format(len(label_names), \"-\".join(label_names)))\n",
      "                plt.show()\n",
      "                \n",
      "        \n",
      "with open(\"computed/model {0} problems.json\".format(len(label_names)), \"w\") as f:\n",
      "    f.write(json.dumps(js))\n",
      "\n",
      "        \n",
      "        \n",
      "        "
     ],
     "language": "python",
     "metadata": {},
     "outputs": [
      {
       "output_type": "stream",
       "stream": "stdout",
       "text": [
        "Clustering ...\n",
        "KMean "
       ]
      },
      {
       "output_type": "stream",
       "stream": "stdout",
       "text": [
        "\n"
       ]
      },
      {
       "ename": "TypeError",
       "evalue": "'NoneType' object is not iterable",
       "output_type": "pyerr",
       "traceback": [
        "\u001b[1;31m---------------------------------------------------------------------------\u001b[0m\n\u001b[1;31mTypeError\u001b[0m                                 Traceback (most recent call last)",
        "\u001b[1;32m<ipython-input-61-8da51f7b593f>\u001b[0m in \u001b[0;36m<module>\u001b[1;34m()\u001b[0m\n\u001b[0;32m     12\u001b[0m                 \u001b[1;31m#label_names = [all_label_names[ix], all_label_names[jx], all_label_names[kx],  all_label_names[lx]]\u001b[0m\u001b[1;33m\u001b[0m\u001b[1;33m\u001b[0m\u001b[0m\n\u001b[0;32m     13\u001b[0m                 \u001b[1;31m#label_names = all_label_names\u001b[0m\u001b[1;33m\u001b[0m\u001b[1;33m\u001b[0m\u001b[0m\n\u001b[1;32m---> 14\u001b[1;33m                 \u001b[0mj\u001b[0m \u001b[1;33m=\u001b[0m \u001b[0mmake_stat\u001b[0m\u001b[1;33m(\u001b[0m\u001b[0mlabel_names\u001b[0m\u001b[1;33m,\u001b[0m \u001b[0mKNN\u001b[0m\u001b[1;33m=\u001b[0m\u001b[0mFalse\u001b[0m\u001b[1;33m,\u001b[0m \u001b[0mmodel\u001b[0m\u001b[1;33m=\u001b[0m\u001b[0mTrue\u001b[0m\u001b[1;33m)\u001b[0m\u001b[1;33m\u001b[0m\u001b[0m\n\u001b[0m\u001b[0;32m     15\u001b[0m                 \u001b[1;32mprint\u001b[0m \u001b[0mj\u001b[0m\u001b[1;33m\u001b[0m\u001b[0m\n\u001b[0;32m     16\u001b[0m                 \u001b[0mjs\u001b[0m\u001b[1;33m.\u001b[0m\u001b[0mappend\u001b[0m\u001b[1;33m(\u001b[0m\u001b[0mj\u001b[0m\u001b[1;33m)\u001b[0m\u001b[1;33m\u001b[0m\u001b[0m\n",
        "\u001b[1;32m<ipython-input-56-b4c77e64b931>\u001b[0m in \u001b[0;36mmake_stat\u001b[1;34m(label_names, KNN, model)\u001b[0m\n\u001b[0;32m     16\u001b[0m     \u001b[0mvalues\u001b[0m \u001b[1;33m=\u001b[0m \u001b[0mnp\u001b[0m\u001b[1;33m.\u001b[0m\u001b[0mload\u001b[0m\u001b[1;33m(\u001b[0m\u001b[1;34m\"computed/values LR+KNN {0}.npy\"\u001b[0m\u001b[1;33m.\u001b[0m\u001b[0mformat\u001b[0m\u001b[1;33m(\u001b[0m\u001b[1;34m\"-\"\u001b[0m\u001b[1;33m.\u001b[0m\u001b[0mjoin\u001b[0m\u001b[1;33m(\u001b[0m\u001b[0mlabel_names\u001b[0m\u001b[1;33m)\u001b[0m\u001b[1;33m,\u001b[0m \u001b[0mlen\u001b[0m\u001b[1;33m(\u001b[0m\u001b[0mlabel_names\u001b[0m\u001b[1;33m)\u001b[0m\u001b[1;33m)\u001b[0m\u001b[1;33m)\u001b[0m\u001b[1;33m\u001b[0m\u001b[0m\n\u001b[0;32m     17\u001b[0m \u001b[1;33m\u001b[0m\u001b[0m\n\u001b[1;32m---> 18\u001b[1;33m     \u001b[0mmodelX\u001b[0m\u001b[1;33m,\u001b[0m \u001b[0mmodelY\u001b[0m \u001b[1;33m=\u001b[0m \u001b[0mgetModelPlot\u001b[0m\u001b[1;33m(\u001b[0m\u001b[1;34m\"-\"\u001b[0m\u001b[1;33m.\u001b[0m\u001b[0mjoin\u001b[0m\u001b[1;33m(\u001b[0m\u001b[0mlabel_names\u001b[0m\u001b[1;33m)\u001b[0m\u001b[1;33m,\u001b[0m \u001b[1;36m2\u001b[0m\u001b[1;33m)\u001b[0m\u001b[1;33m\u001b[0m\u001b[0m\n\u001b[0m\u001b[0;32m     19\u001b[0m \u001b[1;33m\u001b[0m\u001b[0m\n\u001b[0;32m     20\u001b[0m     \u001b[0mvals\u001b[0m \u001b[1;33m=\u001b[0m \u001b[0mvalues\u001b[0m\u001b[1;33m[\u001b[0m\u001b[1;36m1\u001b[0m\u001b[1;33m]\u001b[0m\u001b[1;33m\u001b[0m\u001b[0m\n",
        "\u001b[1;31mTypeError\u001b[0m: 'NoneType' object is not iterable"
       ]
      }
     ],
     "prompt_number": 61
    }
   ],
   "metadata": {}
  }
 ]
}