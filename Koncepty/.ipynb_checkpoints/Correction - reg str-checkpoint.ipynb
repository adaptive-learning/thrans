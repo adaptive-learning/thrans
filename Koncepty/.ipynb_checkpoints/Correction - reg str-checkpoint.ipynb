{
 "metadata": {
  "name": ""
 },
 "nbformat": 3,
 "nbformat_minor": 0,
 "worksheets": [
  {
   "cells": [
    {
     "cell_type": "code",
     "collapsed": false,
     "input": [
      "import sys\n",
      "sys.path.append(\"..\")\n",
      "import numpy as np\n",
      "from random import randint\n",
      "import pandas as pd\n",
      "%pylab inline --no-import-all\n",
      "from sklearn import metrics, linear_model\n",
      "from Algoritmy import spectralclustering\n",
      "from sklearn.cluster import KMeans"
     ],
     "language": "python",
     "metadata": {},
     "outputs": [
      {
       "output_type": "stream",
       "stream": "stdout",
       "text": [
        "Populating the interactive namespace from numpy and matplotlib\n"
       ]
      }
     ],
     "prompt_number": 1
    },
    {
     "cell_type": "code",
     "collapsed": false,
     "input": [
      "label_names = [\"Grafar\", \"Sokoban\"] \n",
      "#label_names = [\"Nurikabe\", \"Robotanik\", \"Sokoban\", \"Kulicka\"]\n",
      "sizes = []\n",
      "data = None\n",
      "for l in label_names:\n",
      "    d = pd.io.parsers.read_csv(\"Data/{0}_user_time.csv\".format(l), index_col=0)\n",
      "    x = d.count()\n",
      "    x.sort(ascending=False)\n",
      "    #d = d.ix[:, d.count()>x[20]]\n",
      "    sizes.append(d.columns.size)\n",
      "    data = data.join(d, how=\"inner\") if data else d\n",
      "    \n",
      "corr = data.corr(method=\"spearman\")\n",
      "corr.unstack().hist()"
     ],
     "language": "python",
     "metadata": {},
     "outputs": [
      {
       "metadata": {},
       "output_type": "pyout",
       "prompt_number": 77,
       "text": [
        "<matplotlib.axes.AxesSubplot at 0x4bccf50>"
       ]
      },
      {
       "metadata": {},
       "output_type": "display_data",
       "png": "[encoded data removed]",
       "text": [
        "<matplotlib.figure.Figure at 0x4c29350>"
       ]
      }
     ],
     "prompt_number": 77
    },
    {
     "cell_type": "code",
     "collapsed": false,
     "input": [
      "def all_perms(elements):\n",
      "    if len(elements) <=1:\n",
      "        yield elements\n",
      "    else:\n",
      "        for perm in all_perms(elements[1:]):\n",
      "            for i in range(len(elements)):\n",
      "                yield perm[:i] + elements[0:1] + perm[i:]\n",
      "\n",
      "def swapSol(sol1, sol2, clusterNumber):\n",
      "    best_pr = 0.0\n",
      "    for p in all_perms(range(clusterNumber)):\n",
      "        hits = 0.0\n",
      "        for i in range(clusterNumber):\n",
      "            hits += sum((sol1==i) & (sol2==p[i]))\n",
      "        pr = hits/sol1.size\n",
      "        if pr > best_pr:\n",
      "            best_pr = pr\n",
      "            best = p\n",
      "    #\n",
      "    sol3 = np.copy(sol2)\n",
      "    for i in range(clusterNumber):\n",
      "        sol3[sol2 == best[i]] = i\n",
      "    return sol3\n",
      "\n",
      "def clusterSpearmanSC(cor, sol, clusterNumber = 2, SCtype = 1, KMiter=20, kcut=0, plot = False, mutual=False):\n",
      "    print \"Clustering ...\"\n",
      "    SC = spectralclustering.Spectral_Clusterer(np.copy(cor))\n",
      "    if kcut>0:\n",
      "        if mutual:\n",
      "            SC.kNearestMutual(kcut)\n",
      "        else:\n",
      "            SC.kNearest(kcut)\n",
      "    \n",
      "    solSC = SC.run(clusterNumber, SCtype, KMiter)\n",
      "    solSC = swapSol(sol,solSC,clusterNumber)\n",
      "    \n",
      "    return np.sum(sol==solSC)*1.0/len(sol), solSC, SCtype"
     ],
     "language": "python",
     "metadata": {},
     "outputs": [],
     "prompt_number": 78
    },
    {
     "cell_type": "code",
     "collapsed": false,
     "input": [
      "def run_test(error_rate = 0.1, reg=0.01):\n",
      "    solution = []\n",
      "    labels = []\n",
      "    for i in range(len(sizes)):\n",
      "        solution.extend([i] * sizes[i])\n",
      "        labels.extend([i] * sizes[i])\n",
      "    solution = np.array(solution)\n",
      "    errors = np.random.rand(solution.size) < error_rate\n",
      "    for i in range(len(errors)):\n",
      "        if errors[i]:\n",
      "            labels[i] = ((solution[i] + (randint(1,len(label_names)-1)) ) % len(label_names))\n",
      "    \n",
      "    clfLR = linear_model.LogisticRegression(C=reg)\n",
      "    clfLR.fit(corr, labels)\n",
      "    \n",
      "    predictLR = np.array(clfLR.predict(corr))\n",
      "     \n",
      "    return  metrics.accuracy_score(solution, labels), metrics.accuracy_score(predictLR, solution)"
     ],
     "language": "python",
     "metadata": {},
     "outputs": [],
     "prompt_number": 79
    },
    {
     "cell_type": "code",
     "collapsed": false,
     "input": [
      "regs = [10., 1., 0.5, 0.1, 0.05, 0.01, 0.001]\n",
      "regs = [10., 1., 0.1, 0.01, 0.001]\n",
      "returnd_values = 2\n",
      "iterations = 10\n",
      "points = np.arange(0, 1, 0.01)\n",
      "values = np.empty((len(regs), returnd_values, len(points)))\n",
      "\n",
      "for k, reg in enumerate(regs):\n",
      "    print reg\n",
      "    for i, error_rate in enumerate(points):\n",
      "        results = np.empty((returnd_values, iterations))\n",
      "        for j in range(iterations):\n",
      "            results[:, j] = run_test(error_rate=error_rate, reg=reg)\n",
      "        values[k, :, i] = np.mean(results, axis=1)\n",
      "\n",
      "solution = []\n",
      "for i in range(len(sizes)):\n",
      "    solution.extend([i] * sizes[i])\n",
      "solution = np.array(solution) \n",
      "pr,labels,SC = clusterSpearmanSC(corr, solution, clusterNumber = len(label_names), KMiter = 200, kcut = corr.shape[0]/2, SCtype = 2, plot = True, mutual = False)\n",
      "\n",
      "\n",
      "\n",
      "km = KMeans(n_clusters=len(label_names), n_init=100)\n",
      "km.fit(corr)\n",
      "predict = km.predict(corr)\n",
      "KMpredict = swapSol(solution,predict,len(label_names))\n",
      "pr2 = metrics.accuracy_score(KMpredict, solution)\n"
     ],
     "language": "python",
     "metadata": {},
     "outputs": [
      {
       "output_type": "stream",
       "stream": "stdout",
       "text": [
        "10.0\n",
        "1.0"
       ]
      },
      {
       "output_type": "stream",
       "stream": "stdout",
       "text": [
        "\n",
        "0.1"
       ]
      },
      {
       "output_type": "stream",
       "stream": "stdout",
       "text": [
        "\n",
        "0.01"
       ]
      },
      {
       "output_type": "stream",
       "stream": "stdout",
       "text": [
        "\n",
        "0.001"
       ]
      },
      {
       "output_type": "stream",
       "stream": "stdout",
       "text": [
        "\n",
        "Clustering ..."
       ]
      },
      {
       "output_type": "stream",
       "stream": "stdout",
       "text": [
        "\n",
        "KMean "
       ]
      },
      {
       "output_type": "stream",
       "stream": "stdout",
       "text": [
        "\n"
       ]
      }
     ],
     "prompt_number": 80
    },
    {
     "cell_type": "code",
     "collapsed": false,
     "input": [
      "import math\n",
      "\n",
      "int = np.sum((values[0] < values[1]) & (values[1] > pr ) * 1) / float(values[0].size)\n",
      "plt.plot(points, values[0][0], \"b-\", label=\"Expert\")\n",
      "plt.plot([0,1], [pr,pr], \"g-\", label=\"SpectralClustering\")\n",
      "plt.plot([0,1], [pr2,pr2], \"y-\", label=\"KMeans\")\n",
      "for k, reg in enumerate(regs):\n",
      "    plt.plot(points, values[k][1], \"r-\", label=\"LogReg reg=\"+str(reg), color=np.random.rand(3,1)) #color=str(0.5/(1+float(k))))\n",
      "    print k, reg, str(0.5/(1+float(k)))\n",
      "plt.legend(loc=3)\n",
      "\n",
      "    \n",
      "plt.savefig(\"n-problems/reg-str {2} {1} {0}.jpg\".format(\"-\".join(label_names),int, len(label_names)))\n",
      "print int"
     ],
     "language": "python",
     "metadata": {},
     "outputs": [
      {
       "ename": "TypeError",
       "evalue": "random() takes no arguments (2 given)",
       "output_type": "pyerr",
       "traceback": [
        "\u001b[1;31m---------------------------------------------------------------------------\u001b[0m\n\u001b[1;31mTypeError\u001b[0m                                 Traceback (most recent call last)",
        "\u001b[1;32m<ipython-input-87-b8a77300b650>\u001b[0m in \u001b[0;36m<module>\u001b[1;34m()\u001b[0m\n\u001b[0;32m      7\u001b[0m \u001b[0mplt\u001b[0m\u001b[1;33m.\u001b[0m\u001b[0mplot\u001b[0m\u001b[1;33m(\u001b[0m\u001b[1;33m[\u001b[0m\u001b[1;36m0\u001b[0m\u001b[1;33m,\u001b[0m\u001b[1;36m1\u001b[0m\u001b[1;33m]\u001b[0m\u001b[1;33m,\u001b[0m \u001b[1;33m[\u001b[0m\u001b[0mpr2\u001b[0m\u001b[1;33m,\u001b[0m\u001b[0mpr2\u001b[0m\u001b[1;33m]\u001b[0m\u001b[1;33m,\u001b[0m \u001b[1;34m\"y-\"\u001b[0m\u001b[1;33m,\u001b[0m \u001b[0mlabel\u001b[0m\u001b[1;33m=\u001b[0m\u001b[1;34m\"KMeans\"\u001b[0m\u001b[1;33m)\u001b[0m\u001b[1;33m\u001b[0m\u001b[0m\n\u001b[0;32m      8\u001b[0m \u001b[1;32mfor\u001b[0m \u001b[0mk\u001b[0m\u001b[1;33m,\u001b[0m \u001b[0mreg\u001b[0m \u001b[1;32min\u001b[0m \u001b[0menumerate\u001b[0m\u001b[1;33m(\u001b[0m\u001b[0mregs\u001b[0m\u001b[1;33m)\u001b[0m\u001b[1;33m:\u001b[0m\u001b[1;33m\u001b[0m\u001b[0m\n\u001b[1;32m----> 9\u001b[1;33m     \u001b[0mplt\u001b[0m\u001b[1;33m.\u001b[0m\u001b[0mplot\u001b[0m\u001b[1;33m(\u001b[0m\u001b[0mpoints\u001b[0m\u001b[1;33m,\u001b[0m \u001b[0mvalues\u001b[0m\u001b[1;33m[\u001b[0m\u001b[0mk\u001b[0m\u001b[1;33m]\u001b[0m\u001b[1;33m[\u001b[0m\u001b[1;36m1\u001b[0m\u001b[1;33m]\u001b[0m\u001b[1;33m,\u001b[0m \u001b[1;34m\"r-\"\u001b[0m\u001b[1;33m,\u001b[0m \u001b[0mlabel\u001b[0m\u001b[1;33m=\u001b[0m\u001b[1;34m\"LogReg reg=\"\u001b[0m\u001b[1;33m+\u001b[0m\u001b[0mstr\u001b[0m\u001b[1;33m(\u001b[0m\u001b[0mreg\u001b[0m\u001b[1;33m)\u001b[0m\u001b[1;33m,\u001b[0m \u001b[0mcolor\u001b[0m\u001b[1;33m=\u001b[0m\u001b[0mrandom\u001b[0m\u001b[1;33m.\u001b[0m\u001b[0mrandom\u001b[0m\u001b[1;33m(\u001b[0m\u001b[1;36m3\u001b[0m\u001b[1;33m,\u001b[0m\u001b[1;36m1\u001b[0m\u001b[1;33m)\u001b[0m\u001b[1;33m)\u001b[0m \u001b[1;31m#color=str(0.5/(1+float(k))))\u001b[0m\u001b[1;33m\u001b[0m\u001b[0m\n\u001b[0m\u001b[0;32m     10\u001b[0m     \u001b[1;32mprint\u001b[0m \u001b[0mk\u001b[0m\u001b[1;33m,\u001b[0m \u001b[0mreg\u001b[0m\u001b[1;33m,\u001b[0m \u001b[0mstr\u001b[0m\u001b[1;33m(\u001b[0m\u001b[1;36m0.5\u001b[0m\u001b[1;33m/\u001b[0m\u001b[1;33m(\u001b[0m\u001b[1;36m1\u001b[0m\u001b[1;33m+\u001b[0m\u001b[0mfloat\u001b[0m\u001b[1;33m(\u001b[0m\u001b[0mk\u001b[0m\u001b[1;33m)\u001b[0m\u001b[1;33m)\u001b[0m\u001b[1;33m)\u001b[0m\u001b[1;33m\u001b[0m\u001b[0m\n\u001b[0;32m     11\u001b[0m \u001b[0mplt\u001b[0m\u001b[1;33m.\u001b[0m\u001b[0mlegend\u001b[0m\u001b[1;33m(\u001b[0m\u001b[0mloc\u001b[0m\u001b[1;33m=\u001b[0m\u001b[1;36m3\u001b[0m\u001b[1;33m)\u001b[0m\u001b[1;33m\u001b[0m\u001b[0m\n",
        "\u001b[1;31mTypeError\u001b[0m: random() takes no arguments (2 given)"
       ]
      },
      {
       "metadata": {},
       "output_type": "display_data",
       "png": "[encoded data removed]",
       "text": [
        "<matplotlib.figure.Figure at 0x4c027d0>"
       ]
      }
     ],
     "prompt_number": 87
    },
    {
     "cell_type": "code",
     "collapsed": false,
     "input": [
      "values[0,:,3]"
     ],
     "language": "python",
     "metadata": {},
     "outputs": []
    },
    {
     "cell_type": "code",
     "collapsed": false,
     "input": [],
     "language": "python",
     "metadata": {},
     "outputs": []
    }
   ],
   "metadata": {}
  }
 ]
}