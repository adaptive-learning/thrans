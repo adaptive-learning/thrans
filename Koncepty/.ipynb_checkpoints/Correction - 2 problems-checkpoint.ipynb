{
 "metadata": {
  "name": ""
 },
 "nbformat": 3,
 "nbformat_minor": 0,
 "worksheets": [
  {
   "cells": [
    {
     "cell_type": "code",
     "collapsed": false,
     "input": [
      "import numpy as np\n",
      "import pandas as pd\n",
      "from sklearn import svm, metrics, linear_model\n",
      "%pylab inline --no-import-all"
     ],
     "language": "python",
     "metadata": {},
     "outputs": [
      {
       "output_type": "stream",
       "stream": "stdout",
       "text": [
        "Populating the interactive namespace from numpy and matplotlib\n"
       ]
      }
     ],
     "prompt_number": 1
    },
    {
     "cell_type": "code",
     "collapsed": false,
     "input": [
      "label_names = [\"Ploty\", \"Sokoban\"]\n",
      "data1 = pd.io.parsers.read_csv(\"Data/{0}_user_time.csv\".format(label_names[0]), index_col=0)\n",
      "data2 = pd.io.parsers.read_csv(\"Data/{0}_user_time.csv\".format(label_names[1]), index_col=0)\n",
      "data = data1.join(data2, how=\"inner\")\n",
      "\n",
      "corr = data.corr(method=\"spearman\")\n",
      "#corr.unstack().hist()"
     ],
     "language": "python",
     "metadata": {},
     "outputs": [],
     "prompt_number": 2
    },
    {
     "cell_type": "code",
     "collapsed": false,
     "input": [
      "solution = np.array([0] * data1.columns.size + [1] * data2.columns.size)\n",
      "labels = np.array([0] * data1.columns.size + [1] * data2.columns.size)\n",
      "error_rate = 0.1\n",
      "errors = np.random.rand(labels.size) < error_rate\n",
      "labels[errors] = 1 - labels[errors]\n"
     ],
     "language": "python",
     "metadata": {},
     "outputs": [],
     "prompt_number": 6
    },
    {
     "cell_type": "code",
     "collapsed": false,
     "input": [
      "clf = linear_model.LogisticRegression(C=0.1)\n",
      "clf.fit(corr, labels)\n",
      "predict = np.array(clf.predict(corr))\n",
      "distances = clf.decision_function(corr)\n",
      "print \"Before: {0:.2%}, After: {1:.2%}\".format(np.sum(labels == solution)/float(labels.size),np.sum(predict == solution)/float(labels.size))"
     ],
     "language": "python",
     "metadata": {},
     "outputs": [
      {
       "output_type": "stream",
       "stream": "stdout",
       "text": [
        "Before: 90.45%, After: 97.45%\n"
       ]
      }
     ],
     "prompt_number": 7
    },
    {
     "cell_type": "code",
     "collapsed": false,
     "input": [
      "found_errors = predict != labels\n",
      "print metrics.accuracy_score(errors, found_errors)\n",
      "print metrics.classification_report(errors, found_errors)\n",
      "e = np.sum(solution!=labels)\n",
      "print \"errors:\", e\n",
      "ed = np.sum(predict!=labels)\n",
      "print \"errors found:\", e\n",
      "TP = np.sum((solution!=labels) & (labels!=predict))\n",
      "print \"correct errors found TP:\", TP\n",
      "print \"recall\", 1.*TP/e\n",
      "print \"precision\", 1.*tp/ef"
     ],
     "language": "python",
     "metadata": {},
     "outputs": [
      {
       "output_type": "stream",
       "stream": "stdout",
       "text": [
        "0.974522292994\n",
        "             precision    recall  f1-score   support\n",
        "\n",
        "      False       0.99      0.98      0.99       142\n",
        "       True       0.82      0.93      0.87        15\n",
        "\n",
        "avg / total       0.98      0.97      0.98       157\n",
        "\n",
        "errors: 15\n",
        "errors found: 14\n",
        "recall 0.933333333333\n"
       ]
      }
     ],
     "prompt_number": 29
    },
    {
     "cell_type": "code",
     "collapsed": false,
     "input": [
      "clf.get_params()"
     ],
     "language": "python",
     "metadata": {},
     "outputs": [
      {
       "metadata": {},
       "output_type": "pyout",
       "prompt_number": 51,
       "text": [
        "{'C': 0.1,\n",
        " 'class_weight': None,\n",
        " 'dual': False,\n",
        " 'fit_intercept': True,\n",
        " 'intercept_scaling': 1,\n",
        " 'penalty': 'l2',\n",
        " 'random_state': None,\n",
        " 'tol': 0.0001}"
       ]
      }
     ],
     "prompt_number": 51
    },
    {
     "cell_type": "code",
     "collapsed": false,
     "input": [
      "#x = clf.decision_function(np.identity(labels.size)) \n",
      "x = clf.coef_[0]\n",
      "print corr.ix[np.argmax(x)]\n",
      "plt.plot(range(labels.size), x, \".\")"
     ],
     "language": "python",
     "metadata": {},
     "outputs": [
      {
       "output_type": "stream",
       "stream": "stdout",
       "text": [
        "722    0.079686\n",
        "723    0.140956\n",
        "724   -0.023782\n",
        "725    0.031904\n",
        "726    0.086423\n",
        "727    0.066498\n",
        "728    0.235430\n",
        "729    0.112956\n",
        "730    0.205672\n",
        "731    0.186139\n",
        "732    0.148864\n",
        "733   -0.118878\n",
        "734   -0.093023\n",
        "735    0.156767\n",
        "736   -0.089950\n",
        "...\n",
        "95     0.463506\n",
        "96     0.362764\n",
        "97     0.042868\n",
        "98     0.470571\n",
        "99     0.554520\n",
        "100    0.290898\n",
        "101    0.307855\n",
        "102    0.597056\n",
        "103    0.533941\n",
        "104    0.457255\n",
        "106    0.594120\n",
        "109    0.295797\n",
        "110    0.390287\n",
        "111    1.000000\n",
        "112    0.164338\n",
        "Name: 111, Length: 157, dtype: float64\n"
       ]
      },
      {
       "metadata": {},
       "output_type": "pyout",
       "prompt_number": 56,
       "text": [
        "[<matplotlib.lines.Line2D at 0x5c04450>]"
       ]
      },
      {
       "metadata": {},
       "output_type": "display_data",
       "png": "[encoded data removed]",
       "text": [
        "<matplotlib.figure.Figure at 0x5ad4a10>"
       ]
      }
     ],
     "prompt_number": 56
    },
    {
     "cell_type": "code",
     "collapsed": false,
     "input": [],
     "language": "python",
     "metadata": {},
     "outputs": []
    }
   ],
   "metadata": {}
  }
 ]
}