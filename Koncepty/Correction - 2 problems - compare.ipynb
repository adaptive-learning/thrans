{
 "metadata": {
  "name": ""
 },
 "nbformat": 3,
 "nbformat_minor": 0,
 "worksheets": [
  {
   "cells": [
    {
     "cell_type": "code",
     "collapsed": false,
     "input": [
      "import numpy as np\n",
      "import pandas as pd\n",
      "from sklearn import svm, metrics, linear_model\n",
      "from spectralclustering import *\n",
      "%pylab inline --no-import-all"
     ],
     "language": "python",
     "metadata": {},
     "outputs": [
      {
       "output_type": "stream",
       "stream": "stdout",
       "text": [
        "Populating the interactive namespace from numpy and matplotlib\n"
       ]
      },
      {
       "output_type": "stream",
       "stream": "stderr",
       "text": [
        "WARNING: pylab import has clobbered these variables: ['plt']\n",
        "`%pylab --no-import-all` prevents importing * from pylab and numpy\n"
       ]
      }
     ],
     "prompt_number": 2
    },
    {
     "cell_type": "code",
     "collapsed": false,
     "input": [
      "label_names = [\"Grafar\", \"Ploty\"]\n",
      "data1 = pd.io.parsers.read_csv(\"Data/{0}_user_time.csv\".format(label_names[0]), index_col=0)\n",
      "data2 = pd.io.parsers.read_csv(\"Data/{0}_user_time.csv\".format(label_names[1]), index_col=0)\n",
      "data = data1.join(data2, how=\"inner\")\n",
      "\n",
      "corr = data.corr(method=\"spearman\")\n",
      "corr.unstack().hist()"
     ],
     "language": "python",
     "metadata": {},
     "outputs": [
      {
       "metadata": {},
       "output_type": "pyout",
       "prompt_number": 34,
       "text": [
        "<matplotlib.axes.AxesSubplot at 0x4f17590>"
       ]
      },
      {
       "metadata": {},
       "output_type": "display_data",
       "png": "[encoded data removed]",
       "text": [
        "<matplotlib.figure.Figure at 0x472d310>"
       ]
      }
     ],
     "prompt_number": 34
    },
    {
     "cell_type": "code",
     "collapsed": false,
     "input": [
      "def all_perms(elements):\n",
      "    if len(elements) <=1:\n",
      "        yield elements\n",
      "    else:\n",
      "        for perm in all_perms(elements[1:]):\n",
      "            for i in range(len(elements)):\n",
      "                yield perm[:i] + elements[0:1] + perm[i:]\n",
      "\n",
      "def swapSol(sol1, sol2, clusterNumber):\n",
      "    best_pr = 0.0\n",
      "    for p in all_perms(range(clusterNumber)):\n",
      "        hits = 0.0\n",
      "        for i in range(clusterNumber):\n",
      "            hits += sum((sol1==i) & (sol2==p[i]))\n",
      "        pr = hits/sol1.size\n",
      "        if pr > best_pr:\n",
      "            best_pr = pr\n",
      "            best = p\n",
      "    \n",
      "    sol3 = np.copy(sol2)\n",
      "    for i in range(clusterNumber):\n",
      "        sol3[sol2 == best[i]] = i\n",
      "    return sol3\n",
      "\n",
      "def clusterSpearmanSC(cor, sol, clusterNumber = 2, SCtype = 1, KMiter=20, kcut=0, plot = False, mutual=False):\n",
      "    print \"Clustering ...\"\n",
      "    SC = Spectral_Clusterer(np.copy(cor))\n",
      "    if kcut>0:\n",
      "        if mutual:\n",
      "            SC.kNearestMutual(kcut)\n",
      "        else:\n",
      "            SC.kNearest(kcut)\n",
      "    \n",
      "    solSC = SC.run(clusterNumber, SCtype, KMiter)\n",
      "    solSC = swapSol(sol,solSC,clusterNumber)\n",
      "    \n",
      "    return np.sum(sol==solSC)*1.0/len(sol), solSC, SCtype"
     ],
     "language": "python",
     "metadata": {},
     "outputs": [],
     "prompt_number": 19
    },
    {
     "cell_type": "code",
     "collapsed": false,
     "input": [
      "def run_test(error_rate = 0.1, class_type = \"LogReg\", reg=1):\n",
      "    solution = np.array([0] * data1.columns.size + [1] * data2.columns.size)\n",
      "    labels = np.array([0] * data1.columns.size + [1] * data2.columns.size)\n",
      "    errors = np.random.rand(labels.size) < error_rate\n",
      "    labels[errors] = 1 - labels[errors]\n",
      "    \n",
      "    if class_type == \"LogReg\":\n",
      "        clf = linear_model.LogisticRegression(C=reg)\n",
      "    elif class_type == \"SVClin\":\n",
      "        clf = svm.SVC(kernel=\"linear\")\n",
      "    clf.fit(corr, labels)\n",
      "    predict = np.array(clf.predict(corr))\n",
      "    \n",
      "    return  metrics.accuracy_score(solution, labels), metrics.accuracy_score(predict, solution)"
     ],
     "language": "python",
     "metadata": {},
     "outputs": [],
     "prompt_number": 20
    },
    {
     "cell_type": "code",
     "collapsed": false,
     "input": [
      "class_type = \"SVClin\"\n",
      "reg = 0.1\n",
      "\n",
      "returnd_values = 2\n",
      "iterations = 20\n",
      "points = np.arange(0, 1, 0.01)\n",
      "values = np.empty((returnd_values, len(points)))\n",
      "for i, error_rate in enumerate(points):\n",
      "    results = np.empty((returnd_values, iterations))\n",
      "    for j in range(iterations):\n",
      "        results[:, j] = run_test(error_rate=error_rate, class_type=class_type, reg=reg)\n",
      "    values[:, i] = np.mean(results, axis=1)"
     ],
     "language": "python",
     "metadata": {},
     "outputs": [],
     "prompt_number": 41
    },
    {
     "cell_type": "code",
     "collapsed": false,
     "input": [
      "solution = np.array([0] * data1.columns.size + [1] * data2.columns.size)\n",
      "pr,labels,SC = clusterSpearmanSC(corr, solution, clusterNumber = 2, KMiter = 50, kcut = corr.shape[0]/2, SCtype = 2, plot = True, mutual = False)\n",
      "\n",
      "plt.plot(points, values[0], \"b-\", label=\"Expert\")\n",
      "plt.plot(points, values[1], \"r-\", label=\"Expert po oprave\")\n",
      "plt.plot([0,1], [pr,pr], \"g-\", label=\"SpectralClustering\")\n",
      "plt.legend(loc=3)\n",
      "plt.savefig(\"2-problems/comp - {0} {1} {2}.png\".format(\"-\".join(label_names), class_type, reg))"
     ],
     "language": "python",
     "metadata": {},
     "outputs": [
      {
       "output_type": "stream",
       "stream": "stdout",
       "text": [
        "Clustering ...\n",
        "KMean "
       ]
      },
      {
       "output_type": "stream",
       "stream": "stdout",
       "text": [
        "\n"
       ]
      },
      {
       "metadata": {},
       "output_type": "display_data",
       "png": "[encoded data removed]",
       "text": [
        "<matplotlib.figure.Figure at 0x503fc50>"
       ]
      }
     ],
     "prompt_number": 42
    },
    {
     "cell_type": "code",
     "collapsed": false,
     "input": [],
     "language": "python",
     "metadata": {},
     "outputs": []
    }
   ],
   "metadata": {}
  }
 ]
}