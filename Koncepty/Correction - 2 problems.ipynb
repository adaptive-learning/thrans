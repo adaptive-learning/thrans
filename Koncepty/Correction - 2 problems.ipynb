{
 "metadata": {
  "name": ""
 },
 "nbformat": 3,
 "nbformat_minor": 0,
 "worksheets": [
  {
   "cells": [
    {
     "cell_type": "code",
     "collapsed": false,
     "input": [
      "import numpy as np\n",
      "import pandas as pd\n",
      "from sklearn import svm, metrics, linear_model\n",
      "%pylab inline --no-import-all"
     ],
     "language": "python",
     "metadata": {},
     "outputs": [
      {
       "output_type": "stream",
       "stream": "stdout",
       "text": [
        "Populating the interactive namespace from numpy and matplotlib\n"
       ]
      }
     ],
     "prompt_number": 187
    },
    {
     "cell_type": "code",
     "collapsed": false,
     "input": [
      "label_names = [\"Sokoban\", \"Robotanik\"]\n",
      "data1 = pd.io.parsers.read_csv(\"Data/{0}_user_time.csv\".format(label_names[0]), index_col=0)\n",
      "data2 = pd.io.parsers.read_csv(\"Data/{0}_user_time.csv\".format(label_names[1]), index_col=0)\n",
      "\n",
      "data = data1.join(data2, how=\"inner\")\n",
      "\n",
      "corr = data.corr(method=\"spearman\")\n",
      "corr.unstack().hist()"
     ],
     "language": "python",
     "metadata": {},
     "outputs": [
      {
       "metadata": {},
       "output_type": "pyout",
       "prompt_number": 188,
       "text": [
        "<matplotlib.axes.AxesSubplot at 0x6f5bdd0>"
       ]
      },
      {
       "metadata": {},
       "output_type": "display_data",
       "png": "[encoded data removed]",
       "text": [
        "<matplotlib.figure.Figure at 0x76b8e10>"
       ]
      }
     ],
     "prompt_number": 188
    },
    {
     "cell_type": "code",
     "collapsed": false,
     "input": [
      "solution = np.array([0] * data1.columns.size + [1] * data2.columns.size)\n",
      "labels = np.array([0] * data1.columns.size + [1] * data2.columns.size)\n",
      "error_rate = 0\n",
      "errors = np.random.rand(labels.size) < error_rate\n",
      "labels[errors] = 1 - labels[errors]\n"
     ],
     "language": "python",
     "metadata": {},
     "outputs": [],
     "prompt_number": 189
    },
    {
     "cell_type": "code",
     "collapsed": false,
     "input": [
      "LogisticRegressionclf = linear_model.LogisticRegression(C=1)\n",
      "clf.fit(corr, labels)\n",
      "predict = np.array(clf.predict(corr))\n",
      "distances = clf.decision_function(corr)\n",
      "print \"Before: {0:.2%}, After: {1:.2%}\".format(np.sum(labels == solution)/float(labels.size),np.sum(predict == solution)/float(labels.size))"
     ],
     "language": "python",
     "metadata": {},
     "outputs": [
      {
       "output_type": "stream",
       "stream": "stdout",
       "text": [
        "Before: 100.00%, After: 98.55%\n"
       ]
      }
     ],
     "prompt_number": 190
    },
    {
     "cell_type": "code",
     "collapsed": false,
     "input": [
      "predictfound_errors = predict != labels\n",
      "print metrics.accuracy_score(errors, found_errors)\n",
      "print metrics.classification_report(errors, found_errors)\n",
      "e = np.sum(solution!=labels)\n",
      "print \"errors:\", e\n",
      "ef = np.sum(predict!=labels)\n",
      "print \"errors found:\", ef\n",
      "TP = np.sum((solution!=labels) & (labels!=predict))\n",
      "print \"correct errors found TP:\", TP\n",
      "print \"recall\", 1.*TP/e if e else 1\n",
      "print \"precision\", 1.*TP/ef if e else 1"
     ],
     "language": "python",
     "metadata": {},
     "outputs": [
      {
       "output_type": "stream",
       "stream": "stdout",
       "text": [
        "0.985507246377\n",
        "             precision    recall  f1-score   support\n",
        "\n",
        "          0       1.00      0.99      0.99       138\n",
        "          1       0.00      0.00      0.00         0\n",
        "\n",
        "avg / total       1.00      0.99      0.99       138\n",
        "\n",
        "errors: 0\n",
        "errors found: 2\n",
        "correct errors found TP: 0\n",
        "recall 1\n",
        "precision 1\n"
       ]
      }
     ],
     "prompt_number": 191
    },
    {
     "cell_type": "code",
     "collapsed": false,
     "input": [
      "u = clf.coef_[0] / np.linalg.norm(clf.coef_[0])\n",
      "P = np.outer(u, u)\n",
      "p = np.dot(P, corr)\n",
      "plt.plot(p[0,predict==0], corr.ix[0,predict==0], \"b.\")\n",
      "plt.plot(p[0,predict==1], corr.ix[0,predict==1], \"r.\")\n",
      "plt.plot([0,0], [-1,1], \"g\")"
     ],
     "language": "python",
     "metadata": {},
     "outputs": [
      {
       "metadata": {},
       "output_type": "pyout",
       "prompt_number": 192,
       "text": [
        "[<matplotlib.lines.Line2D at 0x7069510>]"
       ]
      },
      {
       "metadata": {},
       "output_type": "display_data",
       "png": "[encoded data removed]",
       "text": [
        "<matplotlib.figure.Figure at 0x6f43b50>"
       ]
      }
     ],
     "prompt_number": 192
    },
    {
     "cell_type": "code",
     "collapsed": false,
     "input": [
      "clf.get_params()clf.get_params()"
     ],
     "language": "python",
     "metadata": {},
     "outputs": [
      {
       "metadata": {},
       "output_type": "pyout",
       "prompt_number": 186,
       "text": [
        "{'C': 1,\n",
        " 'class_weight': None,\n",
        " 'dual': False,\n",
        " 'fit_intercept': True,\n",
        " 'intercept_scaling': 1,\n",
        " 'penalty': 'l2',\n",
        " 'random_state': None,\n",
        " 'tol': 0.0001}"
       ]
      }
     ],
     "prompt_number": 186
    },
    {
     "cell_type": "code",
     "collapsed": false,
     "input": [
      "u = clf.coef_[0] / np.linalg.norm(clf.coef_[0])\n",
      "P = np.outer(u, u)\n",
      "p = np.dot(P, corr)\n",
      "distance = clf.decision_function(corr)\n",
      "plt.plot(distance[labels==0], corr.ix[0,labels==0], \"bo\")\n",
      "plt.plot(distance[labels==1], corr.ix[0,labels==1], \"ro\")\n",
      "plt.plot(p[0,labels!=solution], corr.ix[0,labels!=solution], \"y.\")\n",
      "plt.plot([0,0], [-1,1], \"g\")u = clf.coef_[0] / np.linalg.norm(clf.coef_[0])\n",
      "P = np.outer(u, u)\n",
      "p = np.dot(P, corr)\n",
      "distance = clf.decision_function(corr)\n",
      "plt.plot(distance[labels==0], corr.ix[0,labels==0], \"bo\")\n",
      "plt.plot(distance[labels==1], corr.ix[0,labels==1], \"ro\")\n",
      "plt.plot(p[0,labels!=solution], corr.ix[0,labels!=solution], \"y.\")\n",
      "plt.plot([0,0], [-1,1], \"g\")"
     ],
     "language": "python",
     "metadata": {},
     "outputs": [
      {
       "metadata": {},
       "output_type": "pyout",
       "prompt_number": 203,
       "text": [
        "[<matplotlib.lines.Line2D at 0x81b9c90>]"
       ]
      },
      {
       "metadata": {},
       "output_type": "display_data",
       "png": "[encoded data removed]",
       "text": [
        "<matplotlib.figure.Figure at 0x6f27490>"
       ]
      }
     ],
     "prompt_number": 203
    },
    {
     "cell_type": "code",
     "collapsed": false,
     "input": [
      "from sklearn.cluster import KMeans"
     ],
     "language": "python",
     "metadata": {},
     "outputs": [],
     "prompt_number": 166
    },
    {
     "cell_type": "code",
     "collapsed": false,
     "input": [
      "km = KMeans(n_clusters=2, n_init=100)\n",
      "km.fit(corr)\n",
      "predict = km.predict(corr)\n",
      "np.sum(predict == solution)/float(labels.size)"
     ],
     "language": "python",
     "metadata": {},
     "outputs": [
      {
       "metadata": {},
       "output_type": "pyout",
       "prompt_number": 167,
       "text": [
        "0.80434782608695654"
       ]
      }
     ],
     "prompt_number": 167
    },
    {
     "cell_type": "code",
     "collapsed": false,
     "input": [
      "def frange(x, y, jump):\n",
      "  while x > y:\n",
      "    yield x\n",
      "    x += jump"
     ],
     "language": "python",
     "metadata": {},
     "outputs": [],
     "prompt_number": 168
    },
    {
     "cell_type": "code",
     "collapsed": false,
     "input": [
      "cs = range(100, 10, -5) + range(10, 1, -1)  + list(frange(1, 0.1, -0.1))  + list(frange(0.1, 0.01, -0.01))\n",
      "cs = cs[::-1]\n",
      "ises = np.zeros((len(cs), len(corr.index)))\n",
      "for i, c in enumerate(cs):\n",
      "    clf = linear_model.LogisticRegression(C=c)\n",
      "    clf.fit(corr, labels)\n",
      "    predict = np.array(clf.predict(corr))\n",
      "    ises[i][labels!=predict] = 1\n",
      "    \n",
      "print isescs = range(100, 10, -5) + range(10, 1, -1)  + list(frange(1, 0.1, -0.1))  + list(frange(0.1, 0.01, -0.01))\n",
      "cs = cs[::-1]\n",
      "ises = np.zeros((len(cs), len(corr.index)))\n",
      "for i, c in enumerate(cs):\n",
      "    clf = linear_model.LogisticRegression(C=c)\n",
      "    clf.fit(corr, labels)\n",
      "    predict = np.array(clf.predict(corr))\n",
      "    ises[i][labels!=predict] = 1\n",
      "    \n",
      "print ises"
     ],
     "language": "python",
     "metadata": {},
     "outputs": [
      {
       "output_type": "stream",
       "stream": "stdout",
       "text": [
        "[[ 0.  0.  0. ...,  0.  1.  1.]\n",
        " [ 0.  0.  0. ...,  0.  1.  1.]\n",
        " [ 0.  0.  0. ...,  0.  1.  1.]\n",
        " ..., \n",
        " [ 0.  0.  0. ...,  0.  0.  0.]\n",
        " [ 0.  0.  0. ...,  0.  0.  0.]\n",
        " [ 0.  0.  0. ...,  0.  0.  0.]]\n"
       ]
      }
     ],
     "prompt_number": 169
    },
    {
     "cell_type": "code",
     "collapsed": false,
     "input": [
      "print ises.shape\n",
      "np.argmax(ises, axis=0)"
     ],
     "language": "python",
     "metadata": {},
     "outputs": [
      {
       "output_type": "stream",
       "stream": "stdout",
       "text": [
        "(47, 138)\n"
       ]
      },
      {
       "metadata": {},
       "output_type": "pyout",
       "prompt_number": 170,
       "text": [
        "array([0, 0, 0, 0, 0, 0, 0, 0, 0, 0, 0, 0, 0, 0, 0, 0, 0, 0, 0, 0, 0, 0, 0,\n",
        "       0, 0, 0, 0, 0, 2, 0, 0, 0, 0, 0, 0, 0, 0, 0, 0, 0, 0, 0, 0, 0, 0, 0,\n",
        "       0, 0, 0, 0, 0, 0, 0, 0, 0, 0, 1, 0, 0, 0, 0, 0, 0, 0, 0, 4, 0, 0, 0,\n",
        "       0, 0, 0, 0, 0, 0, 0, 0, 0, 0, 0, 0, 0, 0, 0, 0, 0, 0, 0, 0, 0, 0, 0,\n",
        "       0, 0, 0, 0, 0, 0, 0, 0, 0, 0, 0, 0, 0, 0, 0, 0, 0, 0, 0, 0, 0, 0, 0,\n",
        "       0, 0, 0, 0, 0, 0, 0, 0, 0, 0, 0, 0, 0, 0, 0, 0, 0, 0, 0, 0, 0, 0, 0])"
       ]
      }
     ],
     "prompt_number": 170
    },
    {
     "cell_type": "code",
     "collapsed": false,
     "input": [
      "for i in range(len(corr.index)):\n",
      "    #plt.plot(cs, ises[:,i], \"o\")\n",
      "    #print cs[np.argmin(ises[:,i])]\n",
      "    plt.plot(distance[i], corr.ix[0,i], \"ko\", color=str(min(1./(np.argmin(ises[:,i])+1),1)))\n",
      "    #print str(mix(1.1-1./(np.argmin(ises[:,i])+1),1))\n",
      "    #plt.show()\n",
      "\n",
      "plt.plot(p[0,labels!=solution], corr.ix[0,labels!=solution], \"y.\")\n",
      "plt.plot([0,0], [-1,1], \"g\")\n",
      "pylab.rcParams['figure.figsize'] = 15,10\n",
      "plt.show()for i in range(len(corr.index)):\n",
      "    #plt.plot(cs, ises[:,i], \"o\")\n",
      "    #print cs[np.argmin(ises[:,i])]\n",
      "    plt.plot(distance[i], corr.ix[0,i], \"ko\", color=str(min(1./(np.argmin(ises[:,i])+1),1)))\n",
      "    #print str(mix(1.1-1./(np.argmin(ises[:,i])+1),1))\n",
      "    #plt.show()\n",
      "\n",
      "plt.plot(p[0,labels!=solution], corr.ix[0,labels!=solution], \"y.\")\n",
      "plt.plot([0,0], [-1,1], \"g\")\n",
      "pylab.rcParams['figure.figsize'] = 15,10\n",
      "plt.show()"
     ],
     "language": "python",
     "metadata": {},
     "outputs": [
      {
       "metadata": {},
       "output_type": "display_data",
       "png": "[encoded data removed]",
       "text": [
        "<matplotlib.figure.Figure at 0x7c97250>"
       ]
      }
     ],
     "prompt_number": 205
    },
    {
     "cell_type": "code",
     "collapsed": false,
     "input": [],
     "language": "python",
     "metadata": {},
     "outputs": [],
     "prompt_number": 171
    },
    {
     "cell_type": "code",
     "collapsed": false,
     "input": [],
     "language": "python",
     "metadata": {},
     "outputs": [],
     "prompt_number": 171
    }
   ],
   "metadata": {}
  }
 ]
}