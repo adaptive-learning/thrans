{
 "metadata": {
  "name": ""
 },
 "nbformat": 3,
 "nbformat_minor": 0,
 "worksheets": [
  {
   "cells": [
    {
     "cell_type": "code",
     "collapsed": false,
     "input": [
      "import numpy as np\n",
      "import pandas as pd\n",
      "from sklearn import svm, linear_model\n",
      "%pylab inline"
     ],
     "language": "python",
     "metadata": {},
     "outputs": [
      {
       "output_type": "stream",
       "stream": "stdout",
       "text": [
        "Populating the interactive namespace from numpy and matplotlib\n"
       ]
      }
     ],
     "prompt_number": 1
    },
    {
     "cell_type": "code",
     "collapsed": false,
     "input": [
      "data = pd.io.parsers.read_csv(\"Data/Binarnifiltrovane_user_time.csv\", index_col=0)\n",
      "corr = data.corr(method=\"spearman\")\n",
      "corr.unstack().hist()"
     ],
     "language": "python",
     "metadata": {},
     "outputs": [
      {
       "metadata": {},
       "output_type": "pyout",
       "prompt_number": 2,
       "text": [
        "<matplotlib.axes.AxesSubplot at 0x340ad50>"
       ]
      },
      {
       "metadata": {},
       "output_type": "display_data",
       "png": "[encoded data removed]",
       "text": [
        "<matplotlib.figure.Figure at 0x340a8d0>"
       ]
      }
     ],
     "prompt_number": 2
    },
    {
     "cell_type": "code",
     "collapsed": false,
     "input": [
      "label_names = [\"Logicka\", \"Binarni\", \"Krizovka\"]\n",
      "logic = np.array([1066,1067,1068,1069,1075,1076,1077,1087,1088,1091,1093,1109,1110,1132,1246,1247,1248])\n",
      "binar = np.array([1061,1063,1064,1065,1072,1074,1081,1082,1089,1111,1112,1113,1114,1115,1116,1117,1249,1250,1251,1252,1253])\n",
      "cross = np.array([1062,1070,1071,1073,1078,1079,1080,1090,1092,1094,1118,1127,1128,1129,1130,1131,1254])\n",
      "labels = np.zeros(len(corr.index))\n",
      "for i in range(labels.size):\n",
      "    if int(corr.index[i]) in logic: labels[i] = label_names.index(\"Logicka\")\n",
      "    if int(corr.index[i]) in binar: labels[i] = label_names.index(\"Binarni\")\n",
      "    if int(corr.index[i]) in cross: labels[i] = label_names.index(\"Krizovka\")"
     ],
     "language": "python",
     "metadata": {},
     "outputs": [],
     "prompt_number": 3
    },
    {
     "cell_type": "code",
     "collapsed": false,
     "input": [
      "#clf = svm.SVC(kernel=\"linear\")\n",
      "clf = linear_model.LogisticRegression(C=1)\n",
      "clf.fit(corr, labels)\n",
      "predict = np.array(clf.predict(corr))\n",
      "distances = clf.decision_function(corr)\n",
      "print \"Uspesnost: {0:.2%}\".format(np.sum(predict == labels)/float(labels.size))"
     ],
     "language": "python",
     "metadata": {},
     "outputs": [
      {
       "output_type": "stream",
       "stream": "stdout",
       "text": [
        "Uspesnost: 94.64%\n"
       ]
      }
     ],
     "prompt_number": 36
    },
    {
     "cell_type": "code",
     "collapsed": false,
     "input": [
      "def items_info(items):\n",
      "    for item in items:\n",
      "        i = corr.index.get_loc(item)\n",
      "        print \"\u00daloha: {0}, distances: {3}, label: {1}, p\u0159edpov\u011b\u010f: {2}\".format(item, label_names[int(labels[i])], label_names[int(predict[i])], distances[i]) \n",
      "\n",
      "errors = corr.index[(predict == labels) == False]\n",
      "items_info(errors)"
     ],
     "language": "python",
     "metadata": {},
     "outputs": [
      {
       "output_type": "stream",
       "stream": "stdout",
       "text": [
        "\u00daloha: 1060, distances: [-0.61121324 -1.06247149 -0.39606875], label: Logicka, p\u0159edpov\u011b\u010f: Krizovka\n",
        "\u00daloha: 1062, distances: [-1.04733858 -0.63349544 -0.97892198], label: Krizovka, p\u0159edpov\u011b\u010f: Binarni\n",
        "\u00daloha: 1073, distances: [-0.87603629  0.61076734 -2.50652061], label: Krizovka, p\u0159edpov\u011b\u010f: Binarni\n"
       ]
      }
     ],
     "prompt_number": 37
    },
    {
     "cell_type": "code",
     "collapsed": false,
     "input": [
      "x = clf.coef_\n",
      "#print x\n",
      "plt.plot(range(labels.size), x[2], \".\")"
     ],
     "language": "python",
     "metadata": {},
     "outputs": [
      {
       "metadata": {},
       "output_type": "pyout",
       "prompt_number": 8,
       "text": [
        "[<matplotlib.lines.Line2D at 0x39f05d0>]"
       ]
      },
      {
       "metadata": {},
       "output_type": "display_data",
       "png": "[encoded data removed]",
       "text": [
        "<matplotlib.figure.Figure at 0x3757710>"
       ]
      }
     ],
     "prompt_number": 8
    },
    {
     "cell_type": "code",
     "collapsed": false,
     "input": [
      "treshold = 0.1\n",
      "on_edge = []\n",
      "for i, distance in enumerate(distances):\n",
      "    if distance[labels[i]] < treshold:\n",
      "        on_edge.append(corr.index[i])\n",
      "\n",
      "items_info(on_edge)"
     ],
     "language": "python",
     "metadata": {},
     "outputs": [
      {
       "output_type": "stream",
       "stream": "stdout",
       "text": [
        "\u00daloha: 1060, distances: [-0.61121324 -1.06247149 -0.39606875], label: Logicka, p\u0159edpov\u011b\u010f: Krizovka\n",
        "\u00daloha: 1062, distances: [-1.04733858 -0.63349544 -0.97892198], label: Krizovka, p\u0159edpov\u011b\u010f: Binarni\n",
        "\u00daloha: 1067, distances: [-0.18248618 -0.68083329 -1.65402086], label: Logicka, p\u0159edpov\u011b\u010f: Logicka\n",
        "\u00daloha: 1069, distances: [ 0.07353079 -0.9661807  -1.90435452], label: Logicka, p\u0159edpov\u011b\u010f: Logicka\n",
        "\u00daloha: 1073, distances: [-0.87603629  0.61076734 -2.50652061], label: Krizovka, p\u0159edpov\u011b\u010f: Binarni\n",
        "\u00daloha: 1077, distances: [-0.69457625 -1.38893336 -0.86083213], label: Logicka, p\u0159edpov\u011b\u010f: Logicka\n",
        "\u00daloha: 1087, distances: [-0.30434422 -1.49245704 -1.67030238], label: Logicka, p\u0159edpov\u011b\u010f: Logicka\n",
        "\u00daloha: 1091, distances: [-0.22810513 -1.0612749  -1.87843078], label: Logicka, p\u0159edpov\u011b\u010f: Logicka\n",
        "\u00daloha: 1092, distances: [-0.8378694  -1.16391267 -0.60278962], label: Krizovka, p\u0159edpov\u011b\u010f: Krizovka\n",
        "\u00daloha: 1093, distances: [-0.18797908 -1.79827254 -1.17599884], label: Logicka, p\u0159edpov\u011b\u010f: Logicka\n",
        "\u00daloha: 1094, distances: [-0.99054783 -1.15490833 -0.02893055], label: Krizovka, p\u0159edpov\u011b\u010f: Krizovka\n",
        "\u00daloha: 1109, distances: [-0.05658403 -1.72179948 -1.11401524], label: Logicka, p\u0159edpov\u011b\u010f: Logicka\n",
        "\u00daloha: 1110, distances: [ 0.0201496  -2.00088033 -0.85163867], label: Logicka, p\u0159edpov\u011b\u010f: Logicka\n",
        "\u00daloha: 1117, distances: [-1.5156546  -0.1199721  -1.49515973], label: Binarni, p\u0159edpov\u011b\u010f: Binarni\n",
        "\u00daloha: 1132, distances: [-0.16077564 -1.33720188 -1.34487086], label: Logicka, p\u0159edpov\u011b\u010f: Logicka\n",
        "\u00daloha: 1246, distances: [-0.49130094 -0.98303901 -1.7944951 ], label: Logicka, p\u0159edpov\u011b\u010f: Logicka\n",
        "\u00daloha: 1247, distances: [-0.10734821 -0.80040961 -1.86743514], label: Logicka, p\u0159edpov\u011b\u010f: Logicka\n",
        "\u00daloha: 1248, distances: [-0.35260411 -1.22445383 -1.37281471], label: Logicka, p\u0159edpov\u011b\u010f: Logicka\n"
       ]
      }
     ],
     "prompt_number": 7
    },
    {
     "cell_type": "code",
     "collapsed": false,
     "input": [],
     "language": "python",
     "metadata": {},
     "outputs": []
    }
   ],
   "metadata": {}
  }
 ]
}