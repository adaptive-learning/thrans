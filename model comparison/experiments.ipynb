{
 "worksheets": [
  {
   "cells": [
    {
     "cell_type": "code",
     "metadata": {},
     "outputs": [],
     "input": [
      "%load_ext autoreload\n",
      "%autoreload 2\n",
      "import os\n",
      "os.chdir(os.getcwd()+\"/model comparison\")\n",
      "\n",
      "import sys\n",
      "sys.path.append(os.path.join(os.getcwd(), \"model comparison\"))\n",
      "sys.path.append(os.path.join(os.getcwd(), \"Algoritmy\"))\n",
      "from runner import *\n",
      "from data.utils import *\n",
      "from evaluator import *\n",
      "from data.data import *\n",
      "from models.elo_corr import *\n",
      "from models.elo_tree import *\n",
      "from models.elo_clust import *\n",
      "from models.elo_time import *\n",
      "from clusters import *\n",
      "import pylab as plt\n",
      "from sklearn import metrics, linear_model\n",
      "%matplotlib inline"
     ],
     "language": "python",
     "prompt_number": 1
    },
    {
     "cell_type": "code",
     "metadata": {},
     "outputs": [],
     "input": [
      "colors = [\"blue\", \"red\", \"green\", \"cyan\", \"purple\", \"black\", \"orange\", \"magenta\", \"gray\", \"yellow\"]\n",
      "\n",
      "places_all = places.from_csv(\"data/raw data/geography.place.csv\", \"data/raw data/geography.placerelation.csv\",\"data/raw data/geography.placerelation_related_places.csv\")\n",
      "places_all.set_index(places_all[\"id\"], inplace=True)\n",
      "\n",
      "data_all = Data(\"data/geography-first-all-2.pd\", train=0.3)\n",
      "data_states = Data(\"data/geography-first-states-filtered-2.pd\", train=0.3)\n",
      "data_europe = Data(\"data/geography-first-europe-filtered-2.pd\", train=0.3)\n",
      "maps_continents_country = get_continents_country_maps(\"data/\")\n",
      "maps_all = get_maps(\"data/\")"
     ],
     "language": "python",
     "prompt_number": 2
    },
    {
     "cell_type": "code",
     "metadata": {},
     "outputs": [
      {
       "output_type": "stream",
       "stream": "stdout",
       "text": [
        "1827014\n1825963"
       ]
      },
      {
       "output_type": "stream",
       "stream": "stdout",
       "text": [
        "\n"
       ]
      }
     ],
     "input": [
      "# Filter some places from answers\n",
      "\n",
      "df = data_all.get_dataframe_all()\n",
      "print len(df)\n",
      "df = (df[df[\"item\"].isin(reduce(lambda a, b: a + maps_all[b], maps_all, []))])\n",
      "df = (df[~df[\"item\"].isin(maps_all[\"Mexico-country\"])])\n",
      "df = (df[~df[\"item\"].isin(maps_all[\"Mexico-city\"])])\n",
      "print len(df)\n",
      "\n",
      "df.to_pickle(\"data/geography-first-all-2d.pd\")\n",
      "data_all_filtered = Data(\"data/geography-first-all-2d.pd\", train=0.3)"
     ],
     "language": "python",
     "prompt_number": 43
    },
    {
     "cell_type": "code",
     "metadata": {},
     "outputs": [
      {
       "output_type": "stream",
       "stream": "stdout",
       "text": [
        "Loaded corrected clusters data/0861ad4128.clust.corr.json\ndata/geography-first-all-2d.pd - train: 0.3\n95f1f1d494\nElo tree global_then_cluster; decay - alpha: 1.0, beta: 0.1, local_update_boost: 0.5, clusters: Africa-city;Africa-country;Africa-river;Asia-city;Asia-country;Asia-island;Asia-mountains;Asia-river;Australia and Oceania-city;Australia and Oceania-country;Australia-city;Australia-country;Austria-bundesland;Austria-city;Canada-city;Canada-province;China-province;Czech Rep.-city;Czech Rep.-mountains;Czech Rep.-region-(cz);Czech Rep.-river;Europe-city;Europe-country;Europe-island;Europe-mountains;Europe-river;France-city;France-region;Germany-bundesland;Germany-city;India-country;Italy-city;Italy-region-(it);Mexico-city;Mexico-country;North America-city;North America-country;Slovakia-city;Slovakia-region-(cz);South America-city;South America-country;Spain-autonomus-community;Spain-city;United Kingdom-city;United States-city;United States-country;World-city;World-country;World-island;World-lake;World-mountains;World-river;other\nRMSE: 0.40547\nBrier resolution: 0.03393\nBrier reliability: 0.00011\n==================================================\n8d8cfe9cf2\nElo tree global_then_cluster; decay - alpha: 1.0, beta: 0.1, local_update_boost: 0.5, clusters: Africa-city corr 2;Africa-country corr 2;Africa-river corr 2;Asia-city corr 2;Asia-country corr 2;Asia-island corr 2;Australia and Oceania-city corr 2;Australia and Oceania-country corr 2;Australia-city corr 2;Australia-country corr 2;Austria-bundesland corr 2;Austria-city corr 2;Canada-city corr 2;Canada-province corr 2;China-province corr 2;Czech Rep.-city corr 2;Czech Rep.-mountains corr 2;Czech Rep.-region-(cz) corr 2;Czech Rep.-river corr 2;Europe-city corr 2;Europe-country corr 2;Europe-island corr 2;Europe-mountains corr 2;Europe-river corr 2;France-city corr 2;France-region corr 2;Germany-bundesland corr 2;Germany-city corr 2;India-country corr 2;Italy-city corr 2;Italy-region-(it) corr 2;Mexico-city corr 2;Mexico-country corr 2;North America-city corr 2;North America-country corr 2;Slovakia-city corr 2;Slovakia-region-(cz) corr 2;South America-city corr 2;South America-country corr 2;Spain-autonomus-community corr 2;Spain-city corr 2;United Kingdom-city corr 2;United States-city corr 2;United States-country corr 2;World-city corr 2;World-country corr 2;World-island corr 2;World-lake corr 2;World-mountains corr 2;World-river corr 2;other corr 2\nRMSE: 0.40524\nBrier resolution: 0.03414\nBrier reliability: 0.000127\n==================================================\n"
       ]
      }
     ],
     "input": [
      "corrected = correct_cluster(data_all, maps_all)\n",
      "print data_all_filtered\n",
      "compare_models(data_all_filtered, [\n",
      "    EloTreeModel(clusters=maps_all, local_update_boost=0.5),\n",
      "    EloTreeModel(clusters=corrected , local_update_boost=0.5),\n",
      "    ], resolution=True)\n",
      "\n",
      "%matplotlib inline\n",
      "plt.show()"
     ],
     "language": "python",
     "prompt_number": 51
    },
    {
     "cell_type": "code",
     "metadata": {},
     "outputs": [
      {
       "output_type": "stream",
       "stream": "stdout",
       "text": [
        "1827014\n"
       ]
      },
      {
       "ename": "NameError",
       "evalue": "name 'data_all_filtered' is not defined",
       "output_type": "pyerr",
       "traceback": [
        "\u001b[1;31m---------------------------------------------------------------------------\u001b[0m\n\u001b[1;31mNameError\u001b[0m                                 Traceback (most recent call last)",
        "\u001b[1;32m<ipython-input-27-4ffe9addc3ef>\u001b[0m in \u001b[0;36m<module>\u001b[1;34m()\u001b[0m\n\u001b[0;32m      1\u001b[0m \u001b[1;32mprint\u001b[0m \u001b[0mlen\u001b[0m\u001b[1;33m(\u001b[0m\u001b[0mdata_all\u001b[0m\u001b[1;33m.\u001b[0m\u001b[0mget_dataframe_all\u001b[0m\u001b[1;33m(\u001b[0m\u001b[1;33m)\u001b[0m\u001b[1;33m)\u001b[0m\u001b[1;33m\u001b[0m\u001b[0m\n\u001b[1;32m----> 2\u001b[1;33m \u001b[0mdf\u001b[0m \u001b[1;33m=\u001b[0m \u001b[0mdata_all_filtered\u001b[0m\u001b[1;33m.\u001b[0m\u001b[0mget_dataframe_all\u001b[0m\u001b[1;33m(\u001b[0m\u001b[1;33m)\u001b[0m\u001b[1;33m\u001b[0m\u001b[0m\n\u001b[0m\u001b[0;32m      3\u001b[0m \u001b[1;32mprint\u001b[0m \u001b[0mlen\u001b[0m\u001b[1;33m(\u001b[0m\u001b[0mdf\u001b[0m\u001b[1;33m)\u001b[0m\u001b[1;33m\u001b[0m\u001b[0m\n\u001b[0;32m      4\u001b[0m \u001b[1;32mprint\u001b[0m \u001b[0mlen\u001b[0m\u001b[1;33m(\u001b[0m\u001b[0mdf\u001b[0m\u001b[1;33m[\u001b[0m\u001b[1;33m~\u001b[0m\u001b[0mdf\u001b[0m\u001b[1;33m[\u001b[0m\u001b[1;34m\"item\"\u001b[0m\u001b[1;33m]\u001b[0m\u001b[1;33m.\u001b[0m\u001b[0misin\u001b[0m\u001b[1;33m(\u001b[0m\u001b[0mmaps_all\u001b[0m\u001b[1;33m[\u001b[0m\u001b[1;34m\"Mexico-country\"\u001b[0m\u001b[1;33m]\u001b[0m\u001b[1;33m)\u001b[0m\u001b[1;33m]\u001b[0m\u001b[1;33m)\u001b[0m\u001b[1;33m\u001b[0m\u001b[0m\n\u001b[0;32m      5\u001b[0m \u001b[1;31m# corrected = correct_cluster(data_all, maps_all, run=1, print_diffs=1)\u001b[0m\u001b[1;33m\u001b[0m\u001b[1;33m\u001b[0m\u001b[0m\n",
        "\u001b[1;31mNameError\u001b[0m: name 'data_all_filtered' is not defined"
       ]
      }
     ],
     "input": [
      "print len(data_all.get_dataframe_all())\n",
      "df = data_all_filtered.get_dataframe_all()\n",
      "print len(df)\n",
      "print len(df[~df[\"item\"].isin(maps_all[\"Mexico-country\"])])\n",
      "# corrected = correct_cluster(data_all, maps_all, run=1, print_diffs=1)"
     ],
     "language": "python",
     "prompt_number": 27
    },
    {
     "cell_type": "code",
     "metadata": {},
     "outputs": [],
     "input": [
      ""
     ],
     "language": "python"
    },
    {
     "cell_type": "code",
     "metadata": {},
     "outputs": [],
     "input": [
      "%autoreload\n",
      "# corrected = correct_cluster(data_all, maps_all, regularization=0.01, run=1, print_diffs=1)\n",
      "# for map, l in maps_all.items():\n",
      "#     pass\n",
      "#     print map, len(l), len(set(corrected[map + \" corr 2\"]))\n",
      "    # print set(l) - set(corrected[map + \" corr 2\"])\n",
      "    # print set(corrected[map + \" corr 2\"]) - set(l)"
     ],
     "language": "python",
     "prompt_number": 6
    },
    {
     "cell_type": "code",
     "metadata": {},
     "outputs": [],
     "input": [
      "r = Runner(data_all, EloModel())\n",
      "r.run()\n",
      "difficulty = r.difficulty"
     ],
     "language": "python"
    },
    {
     "cell_type": "code",
     "metadata": {},
     "outputs": [
      {
       "ename": "NameError",
       "evalue": "name 'difficulty' is not defined",
       "output_type": "pyerr",
       "traceback": [
        "\u001b[1;31m---------------------------------------------------------------------------\u001b[0m\n\u001b[1;31mNameError\u001b[0m                                 Traceback (most recent call last)",
        "\u001b[1;32m<ipython-input-5-7cc79f7cd39f>\u001b[0m in \u001b[0;36m<module>\u001b[1;34m()\u001b[0m\n\u001b[0;32m      4\u001b[0m     \u001b[0mvalues\u001b[0m \u001b[1;33m=\u001b[0m \u001b[1;33m[\u001b[0m\u001b[1;33m]\u001b[0m\u001b[1;33m\u001b[0m\u001b[0m\n\u001b[0;32m      5\u001b[0m     \u001b[1;32mfor\u001b[0m \u001b[0mi\u001b[0m \u001b[1;32min\u001b[0m \u001b[0mconcept\u001b[0m\u001b[1;33m:\u001b[0m\u001b[1;33m\u001b[0m\u001b[0m\n\u001b[1;32m----> 6\u001b[1;33m         \u001b[0mvalues\u001b[0m\u001b[1;33m.\u001b[0m\u001b[0mappend\u001b[0m\u001b[1;33m(\u001b[0m\u001b[0mdifficulty\u001b[0m\u001b[1;33m[\u001b[0m\u001b[0mi\u001b[0m\u001b[1;33m]\u001b[0m\u001b[1;33m)\u001b[0m\u001b[1;33m\u001b[0m\u001b[0m\n\u001b[0m\u001b[0;32m      7\u001b[0m     \u001b[0mvalues\u001b[0m \u001b[1;33m=\u001b[0m \u001b[0mnp\u001b[0m\u001b[1;33m.\u001b[0m\u001b[0marray\u001b[0m\u001b[1;33m(\u001b[0m\u001b[0mvalues\u001b[0m\u001b[1;33m)\u001b[0m\u001b[1;33m\u001b[0m\u001b[0m\n\u001b[0;32m      8\u001b[0m     \u001b[0mx\u001b[0m\u001b[1;33m.\u001b[0m\u001b[0mappend\u001b[0m\u001b[1;33m(\u001b[0m\u001b[0mvalues\u001b[0m\u001b[1;33m)\u001b[0m\u001b[1;33m\u001b[0m\u001b[0m\n",
        "\u001b[1;31mNameError\u001b[0m: name 'difficulty' is not defined"
       ]
      }
     ],
     "input": [
      "concepts = compute_clusters(data_all, 3)\n",
      "x = []\n",
      "for _, concept in concepts.items():\n",
      "    values = []\n",
      "    for i in concept:\n",
      "        values.append(difficulty[i])\n",
      "    values = np.array(values)\n",
      "    x.append(values)\n",
      "        \n",
      "plt.hist(x)"
     ],
     "language": "python",
     "prompt_number": 5
    },
    {
     "cell_type": "code",
     "metadata": {},
     "outputs": [
      {
       "ename": "KeyError",
       "evalue": "'2'",
       "output_type": "pyerr",
       "traceback": [
        "\u001b[1;31m---------------------------------------------------------------------------\u001b[0m\n\u001b[1;31mKeyError\u001b[0m                                  Traceback (most recent call last)",
        "\u001b[1;32m<ipython-input-9-07aa45599676>\u001b[0m in \u001b[0;36m<module>\u001b[1;34m()\u001b[0m\n\u001b[0;32m     14\u001b[0m         \u001b[0mplt\u001b[0m\u001b[1;33m.\u001b[0m\u001b[0mbar\u001b[0m\u001b[1;33m(\u001b[0m\u001b[0mrange\u001b[0m\u001b[1;33m(\u001b[0m\u001b[0mlen\u001b[0m\u001b[1;33m(\u001b[0m\u001b[0mx\u001b[0m\u001b[1;33m.\u001b[0m\u001b[0mindex\u001b[0m\u001b[1;33m)\u001b[0m\u001b[1;33m)\u001b[0m\u001b[1;33m,\u001b[0m \u001b[0mx\u001b[0m\u001b[1;33m.\u001b[0m\u001b[0mloc\u001b[0m\u001b[1;33m[\u001b[0m\u001b[1;33m:\u001b[0m\u001b[1;33m,\u001b[0m \u001b[0mc\u001b[0m\u001b[1;33m]\u001b[0m\u001b[1;33m,\u001b[0m \u001b[0mbottom\u001b[0m\u001b[1;33m=\u001b[0m\u001b[0mx\u001b[0m\u001b[1;33m.\u001b[0m\u001b[0mloc\u001b[0m\u001b[1;33m[\u001b[0m\u001b[1;33m:\u001b[0m\u001b[1;33m,\u001b[0m \u001b[0mx\u001b[0m\u001b[1;33m.\u001b[0m\u001b[0mcolumns\u001b[0m\u001b[1;33m[\u001b[0m\u001b[1;33m:\u001b[0m\u001b[0mi\u001b[0m\u001b[1;33m]\u001b[0m\u001b[1;33m]\u001b[0m\u001b[1;33m.\u001b[0m\u001b[0msum\u001b[0m\u001b[1;33m(\u001b[0m\u001b[0maxis\u001b[0m\u001b[1;33m=\u001b[0m\u001b[1;36m1\u001b[0m\u001b[1;33m)\u001b[0m\u001b[1;33m,\u001b[0m \u001b[0mcolor\u001b[0m\u001b[1;33m=\u001b[0m\u001b[0mcolors\u001b[0m\u001b[1;33m[\u001b[0m\u001b[0mi\u001b[0m\u001b[1;33m]\u001b[0m\u001b[1;33m)\u001b[0m\u001b[1;33m\u001b[0m\u001b[0m\n\u001b[0;32m     15\u001b[0m \u001b[1;33m\u001b[0m\u001b[0m\n\u001b[1;32m---> 16\u001b[1;33m \u001b[1;32mfor\u001b[0m \u001b[0mid\u001b[0m \u001b[1;32min\u001b[0m \u001b[0mai_concepts\u001b[0m\u001b[1;33m[\u001b[0m\u001b[1;34m\"2\"\u001b[0m\u001b[1;33m]\u001b[0m\u001b[1;33m:\u001b[0m\u001b[1;33m\u001b[0m\u001b[0m\n\u001b[0m\u001b[0;32m     17\u001b[0m     \u001b[1;32mprint\u001b[0m \u001b[0mplaces_all\u001b[0m\u001b[1;33m.\u001b[0m\u001b[0mix\u001b[0m\u001b[1;33m[\u001b[0m\u001b[0mid\u001b[0m\u001b[1;33m]\u001b[0m\u001b[1;33m[\u001b[0m\u001b[1;34m\"name\"\u001b[0m\u001b[1;33m]\u001b[0m\u001b[1;33m\u001b[0m\u001b[0m\n\u001b[0;32m     18\u001b[0m \u001b[1;33m\u001b[0m\u001b[0m\n",
        "\u001b[1;31mKeyError\u001b[0m: '2'"
       ]
      },
      {
       "output_type": "display_data",
       "png": "[encoded data removed]",
       "text": [
        "<matplotlib.figure.Figure at 0x6b82890>"
       ],
       "metadata": {}
      }
     ],
     "input": [
      "plt.rcParams['figure.figsize'] = 16, 12\n",
      "ai_concepts = compute_clusters(data_europe, 2)\n",
      "expert_concepts = json.load(open(\"data/europe_concepts2.json\"))\n",
      "# expert_concepts = maps_continents_country\n",
      "x = pd.DataFrame(index=expert_concepts.keys(), columns=ai_concepts.keys())\n",
      "\n",
      "\n",
      "for name_ex, concept_ai in expert_concepts.items():\n",
      "    for name_ai, concept_ex in ai_concepts.items():\n",
      "        x.ix[name_ex, name_ai] = len(set(concept_ai) & set(concept_ex))\n",
      "        \n",
      "for i, c in enumerate(x.columns):\n",
      "    # if c==\"2\":\n",
      "        plt.bar(range(len(x.index)), x.loc[:, c], bottom=x.loc[:, x.columns[:i]].sum(axis=1), color=colors[i])\n",
      "    \n",
      "for id in ai_concepts[\"2\"]:\n",
      "    print places_all.ix[id][\"name\"]\n",
      "\n",
      "plt.xticks(np.arange(len(x.index))+0.5, x.index, rotation=90)\n",
      "# plt.savefig(\"results/concepts/all in maps - 5 concepts.png\")\n",
      "plt.show()"
     ],
     "language": "python",
     "prompt_number": 9
    },
    {
     "cell_type": "code",
     "metadata": {},
     "outputs": [],
     "input": [
      "concepts = compute_clusters(data_all, 5, plot=True, run=True)\n",
      "# plt.savefig(\"tmp.svg\")"
     ],
     "language": "python"
    },
    {
     "cell_type": "code",
     "metadata": {},
     "outputs": [],
     "input": [
      "# clusters = get_maps(\"data/\", just_maps=True, just_types=False)\n",
      "# model = EloTreeModel(clusters=clusters, local_update_boost=0.5)\n",
      "# Runner(data_states, model).run()\n",
      "# \n",
      "# global_skills = pd.Series(model.global_skill, index=model.global_skill.keys())\n",
      "# \n",
      "# skills = pd.DataFrame(data=global_skills, columns=[\"global\"])\n",
      "# for map in clusters.keys():\n",
      "#     local_skills = pd.Series(model.maps_skills[map], index=model.maps_skills[map].keys())\n",
      "#     skills[map] = local_skills"
     ],
     "language": "python",
     "prompt_number": 64
    },
    {
     "cell_type": "code",
     "metadata": {},
     "outputs": [
      {
       "output_type": "display_data",
       "png": "[encoded data removed]",
       "text": [
        "<matplotlib.figure.Figure at 0x9f0de10>"
       ],
       "metadata": {}
      }
     ],
     "input": [
      "# skills2 = skills[(~skills.isnull()).sum(axis=1) > 6]\n",
      "\n",
      "corr = skills.corr()\n",
      "filt = (~corr.isnull()).sum(axis=1) > 1\n",
      "corr.loc[filt, filt]\n",
      "# print skills\n",
      "# corr\n",
      "df = corr.loc[filt, filt]\n",
      "s = df.sort(\"global\").index\n",
      "df = df.loc[s, s[::-1]]\n",
      "plt.pcolor(df)\n",
      "plt.colorbar()\n",
      "plt.xticks(np.arange(len(df.index)) + 0.5, df.index[::-1])\n",
      "plt.yticks(np.arange(len(df.index)) + 0.5, df.index)\n",
      "plt.savefig(\"results/continents correlations.png\")"
     ],
     "language": "python",
     "prompt_number": 111
    },
    {
     "cell_type": "code",
     "metadata": {},
     "outputs": [
      {
       "output_type": "pyout",
       "text": [
        "1368"
       ],
       "metadata": {}
      }
     ],
     "input": [
      "len(data_all.get_items())"
     ],
     "language": "python",
     "prompt_number": 3
    },
    {
     "cell_type": "code",
     "metadata": {},
     "outputs": [],
     "input": [
      ""
     ],
     "language": "python"
    }
   ]
  }
 ],
 "cells": [],
 "metadata": {
  "signature": "sha256:05e7d5d76b286db103e7dfafe02d0c49eb4650a280f303c2646c8b10dd69606c"
 },
 "nbformat": 3,
 "nbformat_minor": 0
}