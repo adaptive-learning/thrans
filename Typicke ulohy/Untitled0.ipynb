{
 "metadata": {
  "name": ""
 },
 "nbformat": 3,
 "nbformat_minor": 0,
 "worksheets": [
  {
   "cells": [
    {
     "cell_type": "code",
     "collapsed": false,
     "input": [
      "# -*- coding: utf-8 -*-\n",
      "import pandas as pd\n",
      "import scipy\n",
      "import numpy as np\n",
      "from sklearn import svm, metrics, linear_model\n",
      "%pylab inline --no-import-all"
     ],
     "language": "python",
     "metadata": {},
     "outputs": [
      {
       "output_type": "stream",
       "stream": "stdout",
       "text": [
        "Populating the interactive namespace from numpy and matplotlib\n"
       ]
      },
      {
       "output_type": "stream",
       "stream": "stderr",
       "text": [
        "WARNING: pylab import has clobbered these variables: ['plt']\n",
        "`%pylab --no-import-all` prevents importing * from pylab and numpy\n"
       ]
      }
     ],
     "prompt_number": 36
    },
    {
     "cell_type": "code",
     "collapsed": false,
     "input": [
      "problem = \"Sokoban\"\n",
      "\n",
      "data = pd.io.parsers.read_csv(\"Data/{0}_user_time.csv\".format(problem), index_col=0)\n",
      "#data = data.ix[data.count(1)>10,(data.count()>5)]\n",
      "\n",
      "corr = data.corr(method=\"spearman\")\n",
      "#corr.unstack().hist()"
     ],
     "language": "python",
     "metadata": {},
     "outputs": [],
     "prompt_number": 37
    },
    {
     "cell_type": "code",
     "collapsed": false,
     "input": [
      "from problem_data import *\n",
      "from models import *\n",
      "\n",
      "dataOld = Human_data()\n",
      "dataOld.read_times(\"Data/{0}_user_time.csv\".format(problem))\n",
      "\n",
      "M = Model11(dataOld)\n",
      "stochastic_gradient_descent(M)\n"
     ],
     "language": "python",
     "metadata": {},
     "outputs": [],
     "prompt_number": 75
    },
    {
     "cell_type": "code",
     "collapsed": false,
     "input": [
      "import codecs\n",
      "names_mapping = {}\n",
      "f = codecs.open(\"Data/{0}_mapping.txt\".format(problem))\n",
      "for line in f.readlines():\n",
      "    key, value = line.split(\";\")\n",
      "    names_mapping[key] = value"
     ],
     "language": "python",
     "metadata": {},
     "outputs": [],
     "prompt_number": 76
    },
    {
     "cell_type": "code",
     "collapsed": false,
     "input": [
      "import re\n",
      "skills = M.par[\"skill\"]\n",
      "student_names = [re.match(r'( U\\d+)', name).group(1) for name in dataOld.student_names]\n",
      "#print len(data.index)\n",
      "#print len(student_names)\n",
      "skills = pd.Series(skills, student_names)"
     ],
     "language": "python",
     "metadata": {},
     "outputs": [],
     "prompt_number": 93
    },
    {
     "cell_type": "code",
     "collapsed": false,
     "input": [
      "stats = pd.io.parsers.read_csv(\"Data/{0}_stats.csv\".format(problem), index_col=0)\n",
      "stats2 = {}\n",
      "cos = [\"median_casu\",\"avg_casu\",\"med_casu\",\"avg_tahu\",\"solved\",\"attempts\",\"min_solving_time\",\"max_solving_time\",\n",
      "       \"1PM_constant\",\"3PM_constant\",\"3PM_slope\",\"3PM_randomness\"]\n",
      "for co in cos:\n",
      "    print co\n",
      "    stats2[co] = x = {}\n",
      "    y = []\n",
      "    for n in range(len(data.columns)):\n",
      "        if int(data.columns[n]) in stats[co].keys():\n",
      "            time = stats[co][int(data.columns[n])]\n",
      "            if type(time)==str:\n",
      "                time = time.split(\":\")\n",
      "                time = int(time[0])*60 + int(time[1])\n",
      "            x[data.columns[n]] = time\n",
      "            y.append(time)\n",
      "    stats2[co][\"ids\"] = stats2[co].keys()\n",
      "    stats2[co][\"data\"] = y\n",
      "    stats2[co][\"sorted\"] = sorted(y)\n",
      "    stats2[co][\"max\"] = max(y)\n",
      "    stats2[co][\"min\"] = min(min(y),0)"
     ],
     "language": "python",
     "metadata": {},
     "outputs": [
      {
       "output_type": "stream",
       "stream": "stdout",
       "text": [
        "median_casu\n",
        "avg_casu\n",
        "med_casu\n",
        "avg_tahu\n",
        "solved\n",
        "attempts\n",
        "min_solving_time\n",
        "max_solving_time\n",
        "1PM_constant\n",
        "3PM_constant\n",
        "3PM_slope\n",
        "3PM_randomness\n"
       ]
      }
     ],
     "prompt_number": 80
    },
    {
     "cell_type": "code",
     "collapsed": false,
     "input": [
      "co = \"3PM_slope\"\n",
      "DIS = pd.DataFrame([-stats2[co][id] for id in stats2[co][\"ids\"]], stats2[co][\"ids\"], columns=[\"DIS\"])\n",
      "co = \"3PM_randomness\"\n",
      "RAN = pd.DataFrame([stats2[co][id] for id in stats2[co][\"ids\"]], stats2[co][\"ids\"], columns=[\"RAN\"])\n",
      "#PRK = corr.mean(axis=1).ix[[id for id in data.columns if id in stats2[co][\"ids\"]]].tolist()\n",
      "PRK = corr.mean(axis=1).ix[stats2[co][\"ids\"]]\n",
      "PRK = pd.DataFrame(PRK, columns=[\"PRK\"])\n",
      "\n",
      "STK = pd.DataFrame([-data[id].corr(skills) for id in stats2[co][\"ids\"]], stats2[co][\"ids\"], columns=[\"STK\"])\n",
      "print len(PRK), len(DIS), len(STK), len(RAN)\n",
      "\n",
      "ALL = DIS.join(PRK, how=\"inner\").join(STK, how=\"inner\").join(RAN, how=\"inner\")\n",
      "print ALL.corr(method=\"spearman\")"
     ],
     "language": "python",
     "metadata": {},
     "outputs": [
      {
       "output_type": "stream",
       "stream": "stdout",
       "text": [
        "80 80 80 80\n",
        "          DIS       PRK       STK       RAN\n",
        "DIS  1.000000  0.626585  0.437682 -0.194063\n",
        "PRK  0.626585  1.000000  0.456634 -0.672162\n",
        "STK  0.437682  0.456634  1.000000 -0.462503\n",
        "RAN -0.194063 -0.672162 -0.462503  1.000000\n"
       ]
      },
      {
       "output_type": "stream",
       "stream": "stderr",
       "text": [
        "/usr/lib64/python2.7/site-packages/pandas/core/config.py:570: DeprecationWarning: height has been deprecated.\n",
        "\n",
        "  warnings.warn(d.msg, DeprecationWarning)\n"
       ]
      }
     ],
     "prompt_number": 84
    },
    {
     "cell_type": "code",
     "collapsed": false,
     "input": [
      "plt.rcParams['figure.figsize'] = 4, 4\n",
      "\n",
      "techniques = [DIS, PRK, STK, RAN] \n",
      "names = [\"Diskriminace (DIS)\", \"Prumerna korelace (PRK)\", \"Korelace skillu a casu (STK)\", \"Nahodnost (RAN)\"]\n",
      "for i, t1 in enumerate(techniques):\n",
      "    for j, t2 in enumerate(techniques):\n",
      "        if j > i:\n",
      "            plt.plot(t1, t2, \".\")\n",
      "            plt.xlabel(names[i])\n",
      "            plt.ylabel(names[j])\n",
      "            plt.show()\n",
      "            print \"Sp. korelace: {0}\".format(scipy.stats.spearmanr(t1, t2)[0])"
     ],
     "language": "python",
     "metadata": {},
     "outputs": [
      {
       "metadata": {},
       "output_type": "display_data",
       "png": "[encoded data removed]",
       "text": [
        "<matplotlib.figure.Figure at 0x4b8e410>"
       ]
      },
      {
       "ename": "IndexError",
       "evalue": "tuple index out of range",
       "output_type": "pyerr",
       "traceback": [
        "\u001b[1;31m---------------------------------------------------------------------------\u001b[0m\n\u001b[1;31mIndexError\u001b[0m                                Traceback (most recent call last)",
        "\u001b[1;32m<ipython-input-85-2baf9a0b9f3d>\u001b[0m in \u001b[0;36m<module>\u001b[1;34m()\u001b[0m\n\u001b[0;32m     10\u001b[0m             \u001b[0mplt\u001b[0m\u001b[1;33m.\u001b[0m\u001b[0mylabel\u001b[0m\u001b[1;33m(\u001b[0m\u001b[0mnames\u001b[0m\u001b[1;33m[\u001b[0m\u001b[0mj\u001b[0m\u001b[1;33m]\u001b[0m\u001b[1;33m)\u001b[0m\u001b[1;33m\u001b[0m\u001b[0m\n\u001b[0;32m     11\u001b[0m             \u001b[0mplt\u001b[0m\u001b[1;33m.\u001b[0m\u001b[0mshow\u001b[0m\u001b[1;33m(\u001b[0m\u001b[1;33m)\u001b[0m\u001b[1;33m\u001b[0m\u001b[0m\n\u001b[1;32m---> 12\u001b[1;33m             \u001b[1;32mprint\u001b[0m \u001b[1;34m\"Sp. korelace: {0}\"\u001b[0m\u001b[1;33m.\u001b[0m\u001b[0mformat\u001b[0m\u001b[1;33m(\u001b[0m\u001b[1;33m)\u001b[0m\u001b[1;33m\u001b[0m\u001b[0m\n\u001b[0m",
        "\u001b[1;31mIndexError\u001b[0m: tuple index out of range"
       ]
      }
     ],
     "prompt_number": 85
    },
    {
     "cell_type": "code",
     "collapsed": false,
     "input": [
      "plt.rcParams['figure.figsize'] = 4, 4\n",
      "\n",
      "techniques = [DIS, PRK, STK] \n",
      "names = [\"Diskriminace (DIS)\", \"Prumerna korelace (PRK)\", \"Korelace skillu a casu (STK)\"]\n",
      "for i, t1 in enumerate(techniques):\n",
      "    print names[i]\n",
      "    plt.plot(range(len(t1)), t1, \".\")\n",
      "    plt.ylabel(names[i])\n",
      "    #plt.show()\n",
      "    \n",
      "    for id, value in sorted(zip(data.columns, t1.ix[:, 0]), key=lambda x: x[1])[-3:]:\n",
      "        print \"{0} - {2}: {1}\".format(id, value, names_mapping[id][:-1])"
     ],
     "language": "python",
     "metadata": {},
     "outputs": [
      {
       "output_type": "stream",
       "stream": "stdout",
       "text": [
        "Diskriminace (DIS)\n",
        "1119 - Za kamenem: 1.72"
       ]
      },
      {
       "output_type": "stream",
       "stream": "stdout",
       "text": [
        "\n",
        "1704 - T\u0159i barvy: 1.89\n",
        "647 - Kurz po\u010d\u00edt\u00e1n\u00ed 2: 3.37\n",
        "Prumerna korelace (PRK)\n",
        "636 - Tr\u00e9nink rekurze: 0.255003914688\n",
        "643 - T k\u0159i\u017eovatka: 0.262098640917\n",
        "1704 - T\u0159i barvy: 0.271906990376\n",
        "Korelace skillu a casu (STK)\n",
        "1407 - Schovan\u00e1 kytka: 0.489117093169\n",
        "647 - Kurz po\u010d\u00edt\u00e1n\u00ed 2: 0.517447885642\n",
        "1704 - T\u0159i barvy: 0.537314596682\n"
       ]
      },
      {
       "metadata": {},
       "output_type": "display_data",
       "png": "[encoded data removed]",
       "text": [
        "<matplotlib.figure.Figure at 0x5c97e90>"
       ]
      }
     ],
     "prompt_number": 231
    },
    {
     "cell_type": "code",
     "collapsed": false,
     "input": [
      "print DIS"
     ],
     "language": "python",
     "metadata": {},
     "outputs": [
      {
       "output_type": "stream",
       "stream": "stdout",
       "text": [
        "<class 'pandas.core.frame.DataFrame'>\n",
        "Index: 80 entries, 560 to 65\n",
        "Data columns (total 1 columns):\n",
        "DIS    80  non-null values\n",
        "dtypes: float64(1)\n"
       ]
      },
      {
       "output_type": "stream",
       "stream": "stderr",
       "text": [
        "/usr/lib64/python2.7/site-packages/pandas/core/config.py:570: DeprecationWarning: height has been deprecated.\n",
        "\n",
        "  warnings.warn(d.msg, DeprecationWarning)\n"
       ]
      }
     ],
     "prompt_number": 50
    },
    {
     "cell_type": "code",
     "collapsed": false,
     "input": [
      "d = pd.DataFrame([-0.69525684031952795, -0.66609781601982898, -0.53633412376388612, -0.72296255934652121, -0.69796849749075296, -0.60094951206248215, -0.69096290277809347, -0.68001288344429034, -0.79986134665750286, -0.45633447832335722, -0.69767441860465118, -0.62403994618026215, -0.75348048241126764, -0.62786486262040275, -0.6001629263810907, -0.59264338612496836, -0.48166743578950921, -0.72425867162709268, -0.79376817255629439, -0.64532848370883888, -0.77804456486176721, -0.73109941169611048, -0.75521296939584748, -0.59602782841463398, -0.17102037999779596, -0.6313698543905828, -0.51504437683682691, -0.60756444559177392, -0.31791951579440125, -0.6920751783081025, -0.45862866870740193, -0.43734034753996365, -0.58627971453875971, -0.6470879955383364, -0.62165808727632244, -0.64481797252098982, -0.58429491119156718, -0.76484295862824814, -0.75100901981641977, -0.6735532699465997, -0.48779821017651936, -0.53883677298311439, -0.64704638093550582, -0.57637089573376765, -0.63711360486326085, -0.65994638926484439, -0.78757785692546856, -0.26801330416372887, -0.64766997708174179, -0.67517238218654696, -0.69594095436749537, -0.62924209373025308, -0.56360624959127281, -0.57852045263883001, -0.53825371996808846, -0.72745267324566343, -0.71974213244542362, -0.59972801621752669, -0.55494424111721097, -0.697071285448008, -0.75552252015171073, -0.66374290430454164, -0.50257371800576511, -0.76096222806218994, -0.71768720382610252, -0.58768248661151656, -0.61840970479152624, -0.66662675819009209, -0.60596464719227794, -0.76835478529043033, -0.52874331550802134, -0.65344092503304396, -0.47419706310844989, -0.56774636949226354, -0.51578672903506051, -0.55157858381779623],\n",
      "                 index=['31', '32', '33', '34', '35', '36', '37', '38', '39', '41', '42', '43', '44', '45', '46', '47', '48', '49', '50', '51', '52', '53', '54', '55', '56', '57', '58', '59', '60', '61', '62', '63', '64', '65', '66', '67', '68', '69', '70', '71', '72', '74', '75', '76', '77', '78', '79', '80', '83', '84', '85', '86', '87', '88', '89', '90', '91', '92', '93', '94', '95', '96', '97', '98', '99', '100', '101', '102', '103', '104', '105', '106', '109', '110', '111', '112'])\n",
      "d = d.join(STK, how=\"inner\")\n",
      "plt.plot(d[0],d[\"STK\"], \".\")\n",
      "scipy.stats.spearmanr(d[0], d[\"STK\"])[0]"
     ],
     "language": "python",
     "metadata": {},
     "outputs": [
      {
       "metadata": {},
       "output_type": "pyout",
       "prompt_number": 86,
       "text": [
        "-0.45046941678520624"
       ]
      },
      {
       "metadata": {},
       "output_type": "display_data",
       "png": "[encoded data removed]",
       "text": [
        "<matplotlib.figure.Figure at 0x4adcb90>"
       ]
      }
     ],
     "prompt_number": 86
    },
    {
     "cell_type": "code",
     "collapsed": false,
     "input": [],
     "language": "python",
     "metadata": {},
     "outputs": []
    }
   ],
   "metadata": {}
  }
 ]
}