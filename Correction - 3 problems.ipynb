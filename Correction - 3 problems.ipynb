{
 "metadata": {
  "name": ""
 },
 "nbformat": 3,
 "nbformat_minor": 0,
 "worksheets": [
  {
   "cells": [
    {
     "cell_type": "code",
     "collapsed": false,
     "input": [
      "import numpy as np\n",
      "from random import randint\n",
      "import pandas as pd\n",
      "from sklearn import svm, metrics\n",
      "%pylab inline --no-import-all"
     ],
     "language": "python",
     "metadata": {},
     "outputs": [
      {
       "output_type": "stream",
       "stream": "stdout",
       "text": [
        "Populating the interactive namespace from numpy and matplotlib\n"
       ]
      }
     ],
     "prompt_number": 26
    },
    {
     "cell_type": "code",
     "collapsed": false,
     "input": [
      "label_names = [\"Nurikabe\", \"Ploty\", \"Sokoban\"]\n",
      "data1 = pd.io.parsers.read_csv(\"Data/{0}_user_time.csv\".format(label_names[0]), index_col=0)\n",
      "data2 = pd.io.parsers.read_csv(\"Data/{0}_user_time.csv\".format(label_names[1]), index_col=0)\n",
      "data3 = pd.io.parsers.read_csv(\"Data/{0}_user_time.csv\".format(label_names[2]), index_col=0)\n",
      "data = data1.join(data2, how=\"inner\").join(data3, how=\"inner\")\n",
      "\n",
      "corr = data.corr(method=\"spearman\")\n",
      "corr.unstack().hist()"
     ],
     "language": "python",
     "metadata": {},
     "outputs": [
      {
       "metadata": {},
       "output_type": "pyout",
       "prompt_number": 2,
       "text": [
        "<matplotlib.axes.AxesSubplot at 0x4a098d0>"
       ]
      },
      {
       "metadata": {},
       "output_type": "display_data",
       "png": "[encoded data removed]",
       "text": [
        "<matplotlib.figure.Figure at 0x4a09550>"
       ]
      }
     ],
     "prompt_number": 2
    },
    {
     "cell_type": "code",
     "collapsed": false,
     "input": [
      "labels = np.array([0] * data1.columns.size + [1] * data2.columns.size + [2] * data3.columns.size)\n",
      "error_rate = 0.2\n",
      "errors = np.random.rand(labels.size) < error_rate\n",
      "for i in range(len(errors)):\n",
      "    if errors[i]:\n",
      "        labels[i] = (labels[i] + (randint(0,1)*2 - 1) ) % len(label_names)\n",
      "print labels"
     ],
     "language": "python",
     "metadata": {},
     "outputs": [
      {
       "output_type": "stream",
       "stream": "stdout",
       "text": [
        "[0 0 1 0 0 0 2 0 0 0 0 2 0 0 2 0 0 1 0 0 0 1 0 2 0 0 0 1 0 0 0 0 0 1 0 0 0\n",
        " 0 0 0 0 1 0 0 0 0 1 1 1 1 1 1 1 1 2 1 1 0 1 1 1 1 2 1 1 1 1 1 1 0 1 1 1 1\n",
        " 1 1 1 0 1 1 1 1 1 1 1 1 2 1 1 1 2 1 1 1 1 2 2 1 1 1 1 1 1 2 1 1 1 1 1 1 1\n",
        " 0 1 1 1 1 1 2 1 1 1 1 1 1 1 2 1 0 1 2 1 1 1 1 2 2 2 1 2 0 2 1 0 2 1 2 2 2\n",
        " 2 2 2 2 2 2 2 2 0 2 2 2 1 2 1 2 2 2 2 2 2 2 1 2 2 0 0 2 2 2 2 2 2 2 2 2 2\n",
        " 0 0 2 2 1 2 0 2 2 2 2 2 2 1 2 1 2 2]\n"
       ]
      }
     ],
     "prompt_number": 63
    },
    {
     "cell_type": "code",
     "collapsed": false,
     "input": [
      "clf = svm.SVC(kernel=\"linear\")\n",
      "clf.fit(corr, labels)\n",
      "predict = np.array(clf.predict(corr))\n",
      "distances = clf.decision_function(corr)\n",
      "print \"Uspesnost: {0:.2%}\".format(np.sum(predict == labels)/float(labels.size))\n",
      "print predict"
     ],
     "language": "python",
     "metadata": {},
     "outputs": [
      {
       "output_type": "stream",
       "stream": "stdout",
       "text": [
        "Uspesnost: 84.24%\n",
        "[0 0 1 0 0 0 0 0 0 0 0 2 0 0 0 0 1 1 0 0 0 0 0 0 0 0 0 1 0 0 0 0 0 1 0 0 0\n",
        " 0 0 0 0 0 0 2 0 1 1 0 1 1 1 1 1 1 1 1 1 1 1 1 1 1 0 1 1 1 1 1 1 1 1 1 1 1\n",
        " 1 1 1 0 1 1 1 1 1 1 1 1 1 1 1 1 1 1 1 1 1 2 1 1 1 1 1 1 1 1 1 1 1 1 1 1 1\n",
        " 1 1 1 1 1 1 2 1 1 1 1 1 1 1 1 1 0 2 1 1 1 1 1 2 2 2 2 2 2 2 1 2 2 2 2 2 2\n",
        " 0 2 2 2 2 2 2 2 2 2 2 2 1 2 1 2 2 2 2 2 2 2 2 2 2 0 2 2 2 2 2 2 0 2 0 2 2\n",
        " 0 0 2 2 1 2 0 2 2 2 2 2 2 1 2 2 2 2]\n"
       ]
      }
     ],
     "prompt_number": 64
    },
    {
     "cell_type": "code",
     "collapsed": false,
     "input": [
      "found_errors = predict != labels\n",
      "print metrics.accuracy_score(errors, found_errors)\n",
      "print metrics.classification_report(errors, found_errors)\n",
      "print metrics.accuracy_score(errors, found_errors)"
     ],
     "language": "python",
     "metadata": {},
     "outputs": [
      {
       "output_type": "stream",
       "stream": "stdout",
       "text": [
        "0.871921182266\n",
        "             precision    recall  f1-score   support\n",
        "\n",
        "      False       0.89      0.95      0.92       161\n",
        "       True       0.75      0.57      0.65        42\n",
        "\n",
        "avg / total       0.86      0.87      0.87       203\n",
        "\n",
        "0.871921182266\n"
       ]
      }
     ],
     "prompt_number": 65
    },
    {
     "cell_type": "code",
     "collapsed": false,
     "input": [],
     "language": "python",
     "metadata": {},
     "outputs": []
    }
   ],
   "metadata": {}
  }
 ]
}