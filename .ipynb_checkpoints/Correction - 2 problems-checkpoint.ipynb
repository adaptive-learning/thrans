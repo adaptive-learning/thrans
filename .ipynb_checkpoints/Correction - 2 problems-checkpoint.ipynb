{
 "metadata": {
  "name": ""
 },
 "nbformat": 3,
 "nbformat_minor": 0,
 "worksheets": [
  {
   "cells": [
    {
     "cell_type": "code",
     "collapsed": false,
     "input": [
      "import numpy as np\n",
      "import pandas as pd\n",
      "from sklearn import svm, metrics, linear_model\n",
      "%pylab inline --no-import-all"
     ],
     "language": "python",
     "metadata": {},
     "outputs": [
      {
       "output_type": "stream",
       "stream": "stdout",
       "text": [
        "Populating the interactive namespace from numpy and matplotlib\n"
       ]
      }
     ],
     "prompt_number": 3
    },
    {
     "cell_type": "code",
     "collapsed": false,
     "input": [
      "label_names = [\"Ploty\", \"Sokoban\"]\n",
      "data1 = pd.io.parsers.read_csv(\"Data/{0}_user_time.csv\".format(label_names[0]), index_col=0)\n",
      "data2 = pd.io.parsers.read_csv(\"Data/{0}_user_time.csv\".format(label_names[1]), index_col=0)\n",
      "data = data1.join(data2, how=\"inner\")\n",
      "\n",
      "corr = data.corr(method=\"spearman\")\n",
      "corr.unstack().hist()"
     ],
     "language": "python",
     "metadata": {},
     "outputs": [
      {
       "metadata": {},
       "output_type": "pyout",
       "prompt_number": 17,
       "text": [
        "<matplotlib.axes.AxesSubplot at 0x4c34ad0>"
       ]
      },
      {
       "metadata": {},
       "output_type": "display_data",
       "png": "[encoded data removed]",
       "text": [
        "<matplotlib.figure.Figure at 0x48a8250>"
       ]
      }
     ],
     "prompt_number": 17
    },
    {
     "cell_type": "code",
     "collapsed": false,
     "input": [
      "labels = np.array([0] * data1.columns.size + [1] * data2.columns.size)\n",
      "error_rate = 0.4\n",
      "errors = np.random.rand(labels.size) < error_rate\n",
      "labels[errors] = 1 - labels[errors]\n",
      "labels"
     ],
     "language": "python",
     "metadata": {},
     "outputs": [
      {
       "metadata": {},
       "output_type": "pyout",
       "prompt_number": 33,
       "text": [
        "array([0, 0, 1, 1, 0, 0, 0, 1, 1, 1, 0, 0, 0, 1, 0, 1, 0, 1, 0, 0, 1, 1, 0,\n",
        "       0, 1, 1, 0, 1, 1, 1, 0, 0, 1, 0, 1, 1, 1, 0, 1, 0, 0, 0, 0, 1, 0, 0,\n",
        "       0, 1, 0, 0, 1, 1, 0, 0, 0, 0, 1, 1, 0, 1, 0, 1, 0, 0, 1, 1, 0, 0, 0,\n",
        "       0, 0, 0, 0, 0, 1, 1, 0, 1, 1, 0, 0, 0, 0, 0, 0, 0, 0, 1, 1, 0, 0, 1,\n",
        "       0, 0, 1, 1, 0, 1, 1, 1, 0, 0, 1, 0, 1, 1, 0, 1, 1, 1, 1, 1, 0, 1, 1,\n",
        "       1, 1, 1, 0, 1, 0, 0, 1, 1, 0, 0, 1, 0, 0, 1, 1, 0, 1, 0, 0, 0, 1, 0,\n",
        "       0, 0, 1, 1, 1, 0, 1, 0, 1, 1, 1, 1, 0, 1, 1, 0, 1, 1, 0])"
       ]
      }
     ],
     "prompt_number": 33
    },
    {
     "cell_type": "code",
     "collapsed": false,
     "input": [
      "clf = svm.SVC(kernel=\"linear\")\n",
      "clf = linear_model.LogisticRegression(C=.1)\n",
      "clf.fit(corr, labels)\n",
      "predict = np.array(clf.predict(corr))\n",
      "distances = clf.decision_function(corr)\n",
      "print \"Uspesnost: {0:.2%}\".format(np.sum(predict == labels)/float(labels.size))"
     ],
     "language": "python",
     "metadata": {},
     "outputs": [
      {
       "output_type": "stream",
       "stream": "stdout",
       "text": [
        "Uspesnost: 68.15%\n"
       ]
      }
     ],
     "prompt_number": 34
    },
    {
     "cell_type": "code",
     "collapsed": false,
     "input": [
      "found_errors = predict != labels\n",
      "print metrics.accuracy_score(errors, found_errors)\n",
      "print metrics.classification_report(errors, found_errors)\n",
      "print metrics.accuracy_score(errors, found_errors)"
     ],
     "language": "python",
     "metadata": {},
     "outputs": [
      {
       "output_type": "stream",
       "stream": "stdout",
       "text": [
        "0.745222929936\n",
        "             precision    recall  f1-score   support\n",
        "\n",
        "      False       0.75      0.86      0.80        93\n",
        "       True       0.74      0.58      0.65        64\n",
        "\n",
        "avg / total       0.74      0.75      0.74       157\n",
        "\n",
        "0.745222929936\n"
       ]
      }
     ],
     "prompt_number": 35
    },
    {
     "cell_type": "code",
     "collapsed": false,
     "input": [],
     "language": "python",
     "metadata": {},
     "outputs": [],
     "prompt_number": 7
    },
    {
     "cell_type": "code",
     "collapsed": false,
     "input": [],
     "language": "python",
     "metadata": {},
     "outputs": []
    }
   ],
   "metadata": {}
  }
 ]
}