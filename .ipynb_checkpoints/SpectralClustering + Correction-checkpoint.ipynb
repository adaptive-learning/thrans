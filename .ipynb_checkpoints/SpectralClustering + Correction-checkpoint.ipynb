{
 "metadata": {
  "name": ""
 },
 "nbformat": 3,
 "nbformat_minor": 0,
 "worksheets": [
  {
   "cells": [
    {
     "cell_type": "code",
     "collapsed": false,
     "input": [
      "import numpy as np\n",
      "import pandas as pd\n",
      "from spectralclustering import *\n",
      "%pylab inline --no-import-all"
     ],
     "language": "python",
     "metadata": {},
     "outputs": [
      {
       "output_type": "stream",
       "stream": "stdout",
       "text": [
        "Populating the interactive namespace from numpy and matplotlib\n"
       ]
      },
      {
       "output_type": "stream",
       "stream": "stderr",
       "text": [
        "WARNING: pylab import has clobbered these variables: ['plt']\n",
        "`%pylab --no-import-all` prevents importing * from pylab and numpy\n"
       ]
      }
     ],
     "prompt_number": 6
    },
    {
     "cell_type": "code",
     "collapsed": false,
     "input": [
      "label_names = [\"Grafar\", \"Robotanik\"]\n",
      "data1 = pd.io.parsers.read_csv(\"Data/{0}_user_time.csv\".format(label_names[0]), index_col=0)\n",
      "data2 = pd.io.parsers.read_csv(\"Data/{0}_user_time.csv\".format(label_names[1]), index_col=0)\n",
      "data = data1.join(data2, how=\"inner\")\n",
      "\n",
      "corr = data.corr(method=\"spearman\")\n",
      "corr.unstack().hist()"
     ],
     "language": "python",
     "metadata": {},
     "outputs": [
      {
       "metadata": {},
       "output_type": "pyout",
       "prompt_number": 83,
       "text": [
        "<matplotlib.axes.AxesSubplot at 0x4e458d0>"
       ]
      },
      {
       "metadata": {},
       "output_type": "display_data",
       "png": "[encoded data removed]",
       "text": [
        "<matplotlib.figure.Figure at 0x4e27190>"
       ]
      }
     ],
     "prompt_number": 83
    },
    {
     "cell_type": "code",
     "collapsed": false,
     "input": [
      "def all_perms(elements):\n",
      "    if len(elements) <=1:\n",
      "        yield elements\n",
      "    else:\n",
      "        for perm in all_perms(elements[1:]):\n",
      "            for i in range(len(elements)):\n",
      "                yield perm[:i] + elements[0:1] + perm[i:]\n",
      "\n",
      "def swapSol(sol1, sol2, clusterNumber):\n",
      "    best_pr = 0.0\n",
      "    for p in all_perms(range(clusterNumber)):\n",
      "        hits = 0.0\n",
      "        for i in range(clusterNumber):\n",
      "            hits += sum((sol1==i) & (sol2==p[i]))\n",
      "        pr = hits/sol1.size\n",
      "        if pr > best_pr:\n",
      "            best_pr = pr\n",
      "            best = p\n",
      "    \n",
      "    sol3 = np.copy(sol2)\n",
      "    for i in range(clusterNumber):\n",
      "        sol3[sol2 == best[i]] = i\n",
      "    return sol3"
     ],
     "language": "python",
     "metadata": {},
     "outputs": [],
     "prompt_number": 84
    },
    {
     "cell_type": "code",
     "collapsed": false,
     "input": [
      "def clusterSpearmanSC(cor, sol, clusterNumber = z2, SCtype = 1, KMiter=20, kcut=0, plot = False, mutual=False):\n",
      "    print \"Clustering ...\"\n",
      "    SC = Spectral_Clusterer(np.copy(cor))\n",
      "    if kcut>0:\n",
      "        if mutual:\n",
      "            SC.kNearestMutual(kcut)\n",
      "        else:\n",
      "            SC.kNearest(kcut)\n",
      "    \n",
      "    solSC = SC.run(clusterNumber, SCtype, KMiter)\n",
      "    solSC = swapSol(sol,solSC,clusterNumber)\n",
      "    \n",
      "    \n",
      "    if plot:\n",
      " \n",
      "        plt.figure()\n",
      "        plt.subplot(121)\n",
      "        plt.plot(SC.eig_vect[sol==-1,1],SC.eig_vect[sol==-1,2],\"b.\")\n",
      "        plt.plot(SC.eig_vect[sol== 0,1],SC.eig_vect[sol== 0,2],\"ro\")\n",
      "        plt.plot(SC.eig_vect[sol== 1,1],SC.eig_vect[sol== 1,2],\"go\")\n",
      "        plt.plot(SC.eig_vect[sol== 2,1],SC.eig_vect[sol== 2,2],\"bo\")\n",
      "        plt.plot(SC.eig_vect[sol== 3,1],SC.eig_vect[sol== 3,2],\"yo\")\n",
      "        plt.subplot(122)\n",
      "        plt.plot(SC.eig_vect[solSC==0,1],SC.eig_vect[solSC==0,2],\"ro\")\n",
      "        plt.plot(SC.eig_vect[solSC==1,1],SC.eig_vect[solSC==1,2],\"go\")\n",
      "        plt.plot(SC.eig_vect[solSC==2,1],SC.eig_vect[solSC==2,2],\"bo\")\n",
      "        plt.plot(SC.eig_vect[solSC==3,1],SC.eig_vect[solSC==3,2],\"yo\")\n",
      "    \n",
      "    return np.sum(sol==solSC)*1.0/len(sol), solSC, SC"
     ],
     "language": "python",
     "metadata": {},
     "outputs": [],
     "prompt_number": 85
    },
    {
     "cell_type": "code",
     "collapsed": false,
     "input": [
      "solution = np.array([0] * data1.columns.size + [1] * data2.columns.size)"
     ],
     "language": "python",
     "metadata": {},
     "outputs": [],
     "prompt_number": 86
    },
    {
     "cell_type": "code",
     "collapsed": false,
     "input": [
      "pr,labels,SC = clusterSpearmanSC(corr, solution, clusterNumber = 2, KMiter = 50, kcut = corr.shape[0]/2, SCtype = 2, plot = True, mutual = False)\n",
      "print pr"
     ],
     "language": "python",
     "metadata": {},
     "outputs": [
      {
       "output_type": "stream",
       "stream": "stdout",
       "text": [
        "Clustering ...\n",
        "KMean "
       ]
      },
      {
       "output_type": "stream",
       "stream": "stdout",
       "text": [
        "\n"
       ]
      },
      {
       "output_type": "stream",
       "stream": "stdout",
       "text": [
        "0.712230215827\n"
       ]
      },
      {
       "metadata": {},
       "output_type": "display_data",
       "png": "[encoded data removed]",
       "text": [
        "<matplotlib.figure.Figure at 0x302ee50>"
       ]
      }
     ],
     "prompt_number": 87
    },
    {
     "cell_type": "code",
     "collapsed": false,
     "input": [
      "clf = linear_model.LogisticRegression(C=0.05)\n",
      "clf.fit(corr, labels)\n",
      "predict = np.array(clf.predict(corr))\n",
      "distances = clf.decision_function(corr)\n",
      "print \"Uspesnost: {0:.2%}\".format(np.sum(predict == labels)/float(labels.size))"
     ],
     "language": "python",
     "metadata": {},
     "outputs": [
      {
       "output_type": "stream",
       "stream": "stdout",
       "text": [
        "Uspesnost: 92.09%\n"
       ]
      }
     ],
     "prompt_number": 96
    },
    {
     "cell_type": "code",
     "collapsed": false,
     "input": [
      "print np.sum(predict == solution)/float(labels.size)\n",
      "print \"Before: {0:.2%}, After: {1:.2%}\".format(pr,\n",
      "                                               np.sum(predict == solution)/float(labels.size))"
     ],
     "language": "python",
     "metadata": {},
     "outputs": [
      {
       "output_type": "stream",
       "stream": "stdout",
       "text": [
        "0.661870503597\n",
        "Before: 71.22%, After: 66.19%\n"
       ]
      }
     ],
     "prompt_number": 97
    },
    {
     "cell_type": "code",
     "collapsed": false,
     "input": [],
     "language": "python",
     "metadata": {},
     "outputs": [],
     "prompt_number": 71
    },
    {
     "cell_type": "code",
     "collapsed": false,
     "input": [],
     "language": "python",
     "metadata": {},
     "outputs": []
    }
   ],
   "metadata": {}
  }
 ]
}